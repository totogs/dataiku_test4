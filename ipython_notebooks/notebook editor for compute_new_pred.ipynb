{
  "metadata": {
    "kernelspec": {
      "name": "py-dku-containerized-venv-asl_alphabet-gpu_gke_2",
      "display_name": "Python in gpu_gke_2 (env asl_alphabet)",
      "language": "python"
    },
    "associatedRecipe": "compute_new_pred",
    "creator": "tony",
    "createdOn": 1630344280911,
    "tags": [
      "recipe-editor"
    ],
    "customFields": {},
    "language_info": {
      "name": "python",
      "version": "3.6.8",
      "mimetype": "text/x-python",
      "codemirror_mode": {
        "name": "ipython",
        "version": 3
      },
      "pygments_lexer": "ipython3",
      "nbconvert_exporter": "python",
      "file_extension": ".py"
    },
    "modifiedBy": "tony"
  },
  "nbformat": 4,
  "nbformat_minor": 1,
  "cells": [
    {
      "execution_count": 1,
      "cell_type": "code",
      "metadata": {},
      "source": [
        "# -*- coding: utf-8 -*-\nimport dataiku\nimport pandas as pd, numpy as np\nfrom dataiku import pandasutils as pdu\n\n# Read recipe inputs\ndata \u003d dataiku.Dataset(\"new_train_data\")\ndf \u003d data.get_dataframe()"
      ],
      "outputs": []
    },
    {
      "execution_count": 2,
      "cell_type": "code",
      "metadata": {},
      "source": [
        "import math\n\nimport tensorflow as tf\nfrom tensorflow import keras\nfrom tensorflow.keras import layers\nfrom tensorflow.keras.utils import Sequence\nfrom datetime import timedelta\nfrom sklearn.preprocessing import MinMaxScaler\nfrom sklearn.metrics import mean_squared_error\n\nimport numpy as np\nimport pandas as pd\nimport time\n\nimport os"
      ],
      "outputs": []
    },
    {
      "cell_type": "markdown",
      "metadata": {},
      "source": [
        "# Split en dataset de Train et Test"
      ]
    },
    {
      "execution_count": 4,
      "cell_type": "code",
      "metadata": {},
      "source": [
        "# Split into training, test datasets.\n# Since it\u0027s timeseries we should do it by date.\ntest_cutoff_date \u003d df[\u0027date\u0027].max() - timedelta(days\u003d7)\n\ntest_df \u003d df[df[\u0027date\u0027] \u003e test_cutoff_date]\ntrain_df \u003d df[df[\u0027date\u0027] \u003c\u003d test_cutoff_date]\n\n#check out the datasets\nprint(\u0027Test dates: {} to {}\u0027.format(test_df[\u0027date\u0027].min(), test_df[\u0027date\u0027].max()))\nprint(\u0027Train dates: {} to {}\u0027.format(train_df[\u0027date\u0027].min(), train_df[\u0027date\u0027].max()))"
      ],
      "outputs": [
        {
          "output_type": "stream",
          "text": "Test dates: 2021-08-18 23:15:00+00:00 to 2021-08-25 23:00:00+00:00\nTrain dates: 2021-06-25 06:15:00+00:00 to 2021-08-18 23:00:00+00:00\n",
          "name": "stdout"
        }
      ]
    },
    {
      "execution_count": 5,
      "cell_type": "code",
      "metadata": {},
      "source": [
        "train_df  \u003d train_df.set_index(\u0027date\u0027)\ntest_df \u003d test_df.set_index(\u0027date\u0027)"
      ],
      "outputs": []
    },
    {
      "execution_count": 6,
      "cell_type": "code",
      "metadata": {},
      "source": [
        "train \u003d train_df\nscalers\u003d{}\nfor i in train_df.columns:\n    scaler \u003d MinMaxScaler(feature_range\u003d(-1,1))\n    s_s \u003d scaler.fit_transform(train[i].values.reshape(-1,1))\n    s_s\u003dnp.reshape(s_s,len(s_s))\n    scalers[\u0027scaler_\u0027+ i] \u003d scaler\n    train[i]\u003ds_s\ntest \u003d test_df\nfor i in test_df.columns:\n    scaler \u003d scalers[\u0027scaler_\u0027+i]\n    s_s \u003d scaler.transform(test[i].values.reshape(-1,1))\n    s_s\u003dnp.reshape(s_s,len(s_s))\n    scalers[\u0027scaler_\u0027+i] \u003d scaler\n    test[i]\u003ds_s"
      ],
      "outputs": []
    },
    {
      "cell_type": "markdown",
      "metadata": {},
      "source": [
        "# Construction des mini-batch"
      ]
    },
    {
      "execution_count": 7,
      "cell_type": "code",
      "metadata": {},
      "source": [
        "def split_series(series, n_past, n_future):\n  #\n  # n_past \u003d\u003d\u003e no of past observations\n  #\n  # n_future \u003d\u003d\u003e no of future observations\n  #\n  X, y \u003d list(), list()\n  for window_start in range(len(series)):\n    past_end \u003d window_start + n_past\n    future_end \u003d past_end + n_future\n    if future_end \u003e len(series):\n      break\n    # slicing the past and future parts of the window\n    past, future \u003d series[window_start:past_end, :], series[past_end:future_end, :]\n    X.append(past)\n    y.append(future)\n  return np.array(X), np.array(y)"
      ],
      "outputs": []
    },
    {
      "execution_count": 8,
      "cell_type": "code",
      "metadata": {},
      "source": [
        "n_past \u003d 10\nn_future \u003d 5\nn_features \u003d 10"
      ],
      "outputs": []
    },
    {
      "execution_count": 9,
      "cell_type": "code",
      "metadata": {},
      "source": [
        "X_train, y_train \u003d split_series(train.values,n_past, n_future)\nX_train \u003d X_train.reshape((X_train.shape[0], X_train.shape[1],n_features))\ny_train \u003d y_train.reshape((y_train.shape[0], y_train.shape[1], n_features))\nX_test, y_test \u003d split_series(test.values,n_past, n_future)\nX_test \u003d X_test.reshape((X_test.shape[0], X_test.shape[1],n_features))\ny_test \u003d y_test.reshape((y_test.shape[0], y_test.shape[1], n_features))"
      ],
      "outputs": []
    },
    {
      "cell_type": "markdown",
      "metadata": {},
      "source": [
        "# Création du modèle de forecasting"
      ]
    },
    {
      "execution_count": 10,
      "cell_type": "code",
      "metadata": {},
      "source": [
        "encoder_inputs \u003d tf.keras.layers.Input(shape\u003d(n_past, n_features))\nencoder \u003d tf.keras.layers.LSTM(100, return_state\u003dTrue)\nencoder_outputs \u003d encoder(encoder_inputs)\n\nencoder_states \u003d encoder_outputs[1:]\n\n#\ndecoder_inputs \u003d tf.keras.layers.RepeatVector(n_future)(encoder_outputs[0])\n\n#\ndecoder \u003d tf.keras.layers.LSTM(100, return_sequences\u003dTrue)(decoder_inputs,initial_state \u003d encoder_states)\ndecoder_outputs \u003d tf.keras.layers.TimeDistributed(tf.keras.layers.Dense(n_features))(decoder)\n\n#\nmodel \u003d tf.keras.models.Model(encoder_inputs,decoder_outputs)\n\n#\nmodel.summary()"
      ],
      "outputs": [
        {
          "output_type": "stream",
          "text": "WARNING:tensorflow:From /opt/dataiku/code-env/lib64/python3.6/site-packages/tensorflow_core/python/ops/resource_variable_ops.py:1630: calling BaseResourceVariable.__init__ (from tensorflow.python.ops.resource_variable_ops) with constraint is deprecated and will be removed in a future version.\nInstructions for updating:\nIf using Keras pass *_constraint arguments to layers.\n",
          "name": "stdout"
        },
        {
          "output_type": "stream",
          "text": "/opt/dataiku/code-env/lib64/python3.6/site-packages/tensorflow_core/python/framework/tensor_util.py:521: DeprecationWarning: tostring() is deprecated. Use tobytes() instead.\n  tensor_proto.tensor_content \u003d nparray.tostring()\n",
          "name": "stderr"
        },
        {
          "output_type": "stream",
          "text": "Model: \"model\"\n__________________________________________________________________________________________________\nLayer (type)                    Output Shape         Param #     Connected to                     \n\u003d\u003d\u003d\u003d\u003d\u003d\u003d\u003d\u003d\u003d\u003d\u003d\u003d\u003d\u003d\u003d\u003d\u003d\u003d\u003d\u003d\u003d\u003d\u003d\u003d\u003d\u003d\u003d\u003d\u003d\u003d\u003d\u003d\u003d\u003d\u003d\u003d\u003d\u003d\u003d\u003d\u003d\u003d\u003d\u003d\u003d\u003d\u003d\u003d\u003d\u003d\u003d\u003d\u003d\u003d\u003d\u003d\u003d\u003d\u003d\u003d\u003d\u003d\u003d\u003d\u003d\u003d\u003d\u003d\u003d\u003d\u003d\u003d\u003d\u003d\u003d\u003d\u003d\u003d\u003d\u003d\u003d\u003d\u003d\u003d\u003d\u003d\u003d\u003d\u003d\u003d\u003d\u003d\u003d\u003d\u003d\u003d\u003d\ninput_1 (InputLayer)            [(None, 10, 10)]     0                                            \n__________________________________________________________________________________________________\nlstm (LSTM)                     [(None, 100), (None, 44400       input_1[0][0]                    \n__________________________________________________________________________________________________\nrepeat_vector (RepeatVector)    (None, 5, 100)       0           lstm[0][0]                       \n__________________________________________________________________________________________________\nlstm_1 (LSTM)                   (None, 5, 100)       80400       repeat_vector[0][0]              \n                                                                 lstm[0][1]                       \n                                                                 lstm[0][2]                       \n__________________________________________________________________________________________________\ntime_distributed (TimeDistribut (None, 5, 10)        1010        lstm_1[0][0]                     \n\u003d\u003d\u003d\u003d\u003d\u003d\u003d\u003d\u003d\u003d\u003d\u003d\u003d\u003d\u003d\u003d\u003d\u003d\u003d\u003d\u003d\u003d\u003d\u003d\u003d\u003d\u003d\u003d\u003d\u003d\u003d\u003d\u003d\u003d\u003d\u003d\u003d\u003d\u003d\u003d\u003d\u003d\u003d\u003d\u003d\u003d\u003d\u003d\u003d\u003d\u003d\u003d\u003d\u003d\u003d\u003d\u003d\u003d\u003d\u003d\u003d\u003d\u003d\u003d\u003d\u003d\u003d\u003d\u003d\u003d\u003d\u003d\u003d\u003d\u003d\u003d\u003d\u003d\u003d\u003d\u003d\u003d\u003d\u003d\u003d\u003d\u003d\u003d\u003d\u003d\u003d\u003d\u003d\u003d\u003d\u003d\u003d\u003d\nTotal params: 125,810\nTrainable params: 125,810\nNon-trainable params: 0\n__________________________________________________________________________________________________\n",
          "name": "stdout"
        }
      ]
    },
    {
      "cell_type": "markdown",
      "metadata": {},
      "source": [
        "# Apprentissage du modèle"
      ]
    },
    {
      "execution_count": 11,
      "cell_type": "code",
      "metadata": {},
      "source": [
        "reduce_lr \u003d tf.keras.callbacks.LearningRateScheduler(lambda x: 1e-3 * 0.90 ** x)\nmodel.compile(optimizer\u003dtf.keras.optimizers.Adam(), loss\u003dtf.keras.losses.Huber(), metrics\u003d[tf.keras.metrics.CosineSimilarity(), tf.keras.metrics.MeanAbsoluteError()])\nhistory \u003d model.fit(X_train,y_train,epochs\u003d25,validation_data\u003d(X_test,y_test),batch_size\u003d32,verbose\u003d0,callbacks\u003d[reduce_lr])"
      ],
      "outputs": [
        {
          "output_type": "stream",
          "text": "WARNING:tensorflow:From /opt/dataiku/code-env/lib64/python3.6/site-packages/tensorflow_core/python/ops/math_grad.py:1424: where (from tensorflow.python.ops.array_ops) is deprecated and will be removed in a future version.\nInstructions for updating:\nUse tf.where in 2.0, which has the same broadcast rule as np.where\n",
          "name": "stdout"
        },
        {
          "output_type": "stream",
          "text": "/opt/dataiku/code-env/lib64/python3.6/site-packages/tensorflow_core/python/framework/tensor_util.py:521: DeprecationWarning: tostring() is deprecated. Use tobytes() instead.\n  tensor_proto.tensor_content \u003d nparray.tostring()\n/opt/dataiku/code-env/lib64/python3.6/site-packages/tensorflow_core/python/framework/tensor_util.py:521: DeprecationWarning: tostring() is deprecated. Use tobytes() instead.\n  tensor_proto.tensor_content \u003d nparray.tostring()\n",
          "name": "stderr"
        }
      ]
    },
    {
      "execution_count": 12,
      "cell_type": "code",
      "metadata": {},
      "source": [
        "print(history.history.keys())\nhistory.history[\"val_mean_absolute_error\"]\n\ndata_metrics \u003d {}\n\nfor key, val in history.history.items():\n    data_metrics[key] \u003d [val[-1]]\n\nprint(data_metrics)"
      ],
      "outputs": [
        {
          "output_type": "stream",
          "text": "dict_keys([\u0027loss\u0027, \u0027cosine_similarity\u0027, \u0027mean_absolute_error\u0027, \u0027val_loss\u0027, \u0027val_cosine_similarity\u0027, \u0027val_mean_absolute_error\u0027, \u0027lr\u0027])\n{\u0027loss\u0027: [0.0006516715799273057], \u0027cosine_similarity\u0027: [0.99830264], \u0027mean_absolute_error\u0027: [0.011575467], \u0027val_loss\u0027: [0.003760342661752573], \u0027val_cosine_similarity\u0027: [0.99280125], \u0027val_mean_absolute_error\u0027: [0.023268443], \u0027lr\u0027: [7.976644e-05]}\n",
          "name": "stdout"
        }
      ]
    },
    {
      "execution_count": 13,
      "cell_type": "code",
      "metadata": {},
      "source": [
        "for index,i in enumerate(train_df.columns):\n    scaler \u003d scalers[\u0027scaler_\u0027+i]\n    y_train[:,:,index]\u003dscaler.inverse_transform(y_train[:,:,index])\n    y_test[:,:,index]\u003dscaler.inverse_transform(y_test[:,:,index])"
      ],
      "outputs": []
    },
    {
      "cell_type": "markdown",
      "metadata": {},
      "source": [
        "# Stockage du modèle dans le folder"
      ]
    },
    {
      "execution_count": 14,
      "cell_type": "code",
      "metadata": {},
      "source": [
        "model_json \u003d model.to_json()"
      ],
      "outputs": []
    },
    {
      "execution_count": 15,
      "cell_type": "code",
      "metadata": {},
      "source": [
        "# Write recipe outputs\nmodel_folder \u003d dataiku.Folder(\"dHoUQGRB\")\nmodel_folder_info \u003d model_folder.get_info()\n\nnow \u003d time.time()\n\nmodel_folder.write_json(str(now)+\"/model_json\", model_json)"
      ],
      "outputs": []
    },
    {
      "execution_count": 16,
      "cell_type": "code",
      "metadata": {},
      "source": [
        "model_folder.list_paths_in_partition()"
      ],
      "outputs": [
        {
          "output_type": "execute_result",
          "execution_count": 16,
          "data": {
            "text/plain": "[\u0027/1630336795.623466/model_json\u0027,\n \u0027/1630336889.8789692/model_json\u0027,\n \u0027/1630338570.2025137/model_json\u0027,\n \u0027/1630338600.8940783/model_json\u0027,\n \u0027/1630338765.6485183/model_json\u0027,\n \u0027/1630339593.7991953/model_json\u0027,\n \u0027/1630340919.9128914/model_json\u0027,\n \u0027/1630397807.9655938/model_json\u0027,\n \u0027/actual/model_json\u0027]"
          },
          "metadata": {}
        }
      ]
    },
    {
      "cell_type": "markdown",
      "metadata": {},
      "source": [
        "# Stockage des métriques dans un dataframe"
      ]
    },
    {
      "execution_count": 0,
      "cell_type": "code",
      "metadata": {},
      "source": [
        "metrics \u003d dataiku.Dataset(\"Metrics\")\ndf_metrics \u003d metrics.get"
      ],
      "outputs": []
    },
    {
      "execution_count": 48,
      "cell_type": "code",
      "metadata": {},
      "source": [
        "if data_metrics[\"val_mean_absolute_error\"] \u003c df_metrics[df_metrics[\"used\"]\u003d\u003dTrue][\"val_mean_absolute_error\"].all():\n    \n    data_metrics[\"used\"] \u003d [\"True\"]\n    df_metrics \u003d df_metrics[\"used\"].where(df_metrics[\"used\"]\u003d\u003d\"True\", \"False\")\n    model_folder.write_json(\"actual/model_json\", model_json)\nelse:\n    \n    data_metrics[\"used\"] \u003d [\"False\"]\n    \ndf_metrics \u003d df_metrics.append(pd.DataFrame(data_metrics))"
      ],
      "outputs": [
        {
          "output_type": "stream",
          "text": "/opt/dataiku/code-env/lib64/python3.6/site-packages/pandas/core/ops/array_ops.py:253: FutureWarning: elementwise comparison failed; returning scalar instead, but in the future will perform elementwise comparison\n  res_values \u003d method(rvalues)\n",
          "name": "stderr"
        }
      ]
    },
    {
      "execution_count": 49,
      "cell_type": "code",
      "metadata": {},
      "source": [
        "df_metrics"
      ],
      "outputs": [
        {
          "output_type": "execute_result",
          "execution_count": 49,
          "data": {
            "text/plain": "       0  cosine_similarity      loss       lr  mean_absolute_error          time  used  val_cosine_similarity  val_loss  val_mean_absolute_error\n0  False                NaN       NaN      NaN                  NaN           NaN   NaN                    NaN       NaN                      NaN\n0    NaN           0.998303  0.000652  0.00008             0.011575  1.630398e+09  True               0.992801   0.00376                 0.023268",
            "text/html": "\n            \u003cbutton style\u003d\"display:none\" \n            class\u003d\"btn btn-default ipython-export-btn\" \n            id\u003d\"btn-df-cf802545-2324-401e-b10e-69d034c70bb0\" \n            onclick\u003d\"_export_df(\u0027cf802545-2324-401e-b10e-69d034c70bb0\u0027)\"\u003e\n                Export dataframe\n            \u003c/button\u003e\n            \n            \u003cscript\u003e\n                \n                function _check_export_df_possible(dfid,yes_fn,no_fn) {\n                    console.log(\u0027Checking dataframe exportability...\u0027)\n                    if(!IPython || !IPython.notebook || !IPython.notebook.kernel || !IPython.notebook.kernel) {\n                        console.log(\u0027Export is not possible (IPython kernel is not available)\u0027)\n                        if(no_fn) {\n                            no_fn();\n                        }\n                    } else {\n                        var pythonCode \u003d \u0027from dataiku.notebook.export import IPythonExporter;IPythonExporter._check_export_stdout(\"\u0027+dfid+\u0027\")\u0027;\n                        IPython.notebook.kernel.execute(pythonCode,{iopub: {output: function(resp) {\n                            console.info(\"Exportability response\", resp);\n                            var size \u003d /^([0-9]+)x([0-9]+)$/.exec(resp.content.data || resp.content.text)\n                            if(!size) {\n                                console.log(\u0027Export is not possible (dataframe is not in-memory anymore)\u0027)\n                                if(no_fn) {\n                                    no_fn();\n                                }\n                            } else {\n                                console.log(\u0027Export is possible\u0027)\n                                if(yes_fn) {\n                                    yes_fn(1*size[1],1*size[2]);\n                                }\n                            }\n                        }}});\n                    }\n                }\n            \n                function _export_df(dfid) {\n                    \n                    var btn \u003d $(\u0027#btn-df-\u0027+dfid);\n                    var btns \u003d $(\u0027.ipython-export-btn\u0027);\n                    \n                    _check_export_df_possible(dfid,function() {\n                        \n                        window.parent.openExportModalFromIPython(\u0027Pandas dataframe\u0027,function(data) {\n                            btns.prop(\u0027disabled\u0027,true);\n                            btn.text(\u0027Exporting...\u0027);\n                            var command \u003d \u0027from dataiku.notebook.export import IPythonExporter;IPythonExporter._run_export(\"\u0027+dfid+\u0027\",\"\u0027+data.exportId+\u0027\")\u0027;\n                            var callback \u003d {iopub:{output: function(resp) {\n                                console.info(\"CB resp:\", resp);\n                                _check_export_df_possible(dfid,function(rows, cols) {\n                                    $(\u0027#btn-df-\u0027+dfid)\n                                        .css(\u0027display\u0027,\u0027inline-block\u0027)\n                                        .text(\u0027Export this dataframe (\u0027+rows+\u0027 rows, \u0027+cols+\u0027 cols)\u0027)\n                                        .prop(\u0027disabled\u0027,false);\n                                },function() {\n                                    $(\u0027#btn-df-\u0027+dfid).css(\u0027display\u0027,\u0027none\u0027);\n                                });\n                            }}};\n                            IPython.notebook.kernel.execute(command,callback,{silent:false}); // yes, silent now defaults to true. figures.\n                        });\n                    \n                    }, function(){\n                            alert(\u0027Unable to export : the Dataframe object is not loaded in memory\u0027);\n                            btn.css(\u0027display\u0027,\u0027none\u0027);\n                    });\n                    \n                }\n                \n                (function(dfid) {\n                \n                    var retryCount \u003d 10;\n                \n                    function is_valid_websock(s) {\n                        return s \u0026\u0026 s.readyState\u003d\u003d1;\n                    }\n                \n                    function check_conn() {\n                        \n                        if(!IPython || !IPython.notebook) {\n                            // Don\u0027t even try to go further\n                            return;\n                        }\n                        \n                        // Check if IPython is ready\n                        console.info(\"Checking conn ...\")\n                        if(IPython.notebook.kernel\n                        \u0026\u0026 IPython.notebook.kernel\n                        \u0026\u0026 is_valid_websock(IPython.notebook.kernel.ws)\n                        ) {\n                            \n                            _check_export_df_possible(dfid,function(rows, cols) {\n                                $(\u0027#btn-df-\u0027+dfid).css(\u0027display\u0027,\u0027inline-block\u0027);\n                                $(\u0027#btn-df-\u0027+dfid).text(\u0027Export this dataframe (\u0027+rows+\u0027 rows, \u0027+cols+\u0027 cols)\u0027);\n                            });\n                            \n                        } else {\n                            console.info(\"Conditions are not ok\", IPython.notebook.kernel);\n                            \n                            // Retry later\n                            \n                            if(retryCount\u003e0) {\n                                setTimeout(check_conn,500);\n                                retryCount--;\n                            }\n                            \n                        }\n                    };\n                    \n                    setTimeout(check_conn,100);\n                    \n                })(\"cf802545-2324-401e-b10e-69d034c70bb0\");\n                \n            \u003c/script\u003e\n            \n        \u003cdiv\u003e\n\u003cstyle scoped\u003e\n    .dataframe tbody tr th:only-of-type {\n        vertical-align: middle;\n    }\n\n    .dataframe tbody tr th {\n        vertical-align: top;\n    }\n\n    .dataframe thead th {\n        text-align: right;\n    }\n\u003c/style\u003e\n\u003ctable border\u003d\"1\" class\u003d\"dataframe\"\u003e\n  \u003cthead\u003e\n    \u003ctr style\u003d\"text-align: right;\"\u003e\n      \u003cth\u003e\u003c/th\u003e\n      \u003cth\u003e0\u003c/th\u003e\n      \u003cth\u003ecosine_similarity\u003c/th\u003e\n      \u003cth\u003eloss\u003c/th\u003e\n      \u003cth\u003elr\u003c/th\u003e\n      \u003cth\u003emean_absolute_error\u003c/th\u003e\n      \u003cth\u003etime\u003c/th\u003e\n      \u003cth\u003eused\u003c/th\u003e\n      \u003cth\u003eval_cosine_similarity\u003c/th\u003e\n      \u003cth\u003eval_loss\u003c/th\u003e\n      \u003cth\u003eval_mean_absolute_error\u003c/th\u003e\n    \u003c/tr\u003e\n  \u003c/thead\u003e\n  \u003ctbody\u003e\n    \u003ctr\u003e\n      \u003cth\u003e0\u003c/th\u003e\n      \u003ctd\u003eFalse\u003c/td\u003e\n      \u003ctd\u003eNaN\u003c/td\u003e\n      \u003ctd\u003eNaN\u003c/td\u003e\n      \u003ctd\u003eNaN\u003c/td\u003e\n      \u003ctd\u003eNaN\u003c/td\u003e\n      \u003ctd\u003eNaN\u003c/td\u003e\n      \u003ctd\u003eNaN\u003c/td\u003e\n      \u003ctd\u003eNaN\u003c/td\u003e\n      \u003ctd\u003eNaN\u003c/td\u003e\n      \u003ctd\u003eNaN\u003c/td\u003e\n    \u003c/tr\u003e\n    \u003ctr\u003e\n      \u003cth\u003e0\u003c/th\u003e\n      \u003ctd\u003eNaN\u003c/td\u003e\n      \u003ctd\u003e0.998303\u003c/td\u003e\n      \u003ctd\u003e0.000652\u003c/td\u003e\n      \u003ctd\u003e0.00008\u003c/td\u003e\n      \u003ctd\u003e0.011575\u003c/td\u003e\n      \u003ctd\u003e1.630398e+09\u003c/td\u003e\n      \u003ctd\u003eTrue\u003c/td\u003e\n      \u003ctd\u003e0.992801\u003c/td\u003e\n      \u003ctd\u003e0.00376\u003c/td\u003e\n      \u003ctd\u003e0.023268\u003c/td\u003e\n    \u003c/tr\u003e\n  \u003c/tbody\u003e\n\u003c/table\u003e\n\u003c/div\u003e"
          },
          "metadata": {}
        }
      ]
    },
    {
      "execution_count": 0,
      "cell_type": "code",
      "metadata": {},
      "source": [
        "metrics.write_with_schema(df_metrics)"
      ],
      "outputs": []
    },
    {
      "execution_count": 0,
      "cell_type": "code",
      "metadata": {},
      "source": [
        "model_folder.write_json(\"actual/model_json\", model_json)"
      ],
      "outputs": []
    }
  ]
}