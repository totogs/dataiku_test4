{
  "metadata": {
    "kernelspec": {
      "name": "py-dku-containerized-venv-asl_alphabet-gpu_gke_2",
      "display_name": "Python in gpu_gke_2 (env asl_alphabet)",
      "language": "python"
    },
    "associatedRecipe": "compute_new_pred",
    "creator": "tony",
    "createdOn": 1630344280911,
    "tags": [
      "recipe-editor"
    ],
    "customFields": {},
    "language_info": {
      "name": "python",
      "version": "3.6.8",
      "mimetype": "text/x-python",
      "codemirror_mode": {
        "name": "ipython",
        "version": 3
      },
      "pygments_lexer": "ipython3",
      "nbconvert_exporter": "python",
      "file_extension": ".py"
    },
    "modifiedBy": "tony"
  },
  "nbformat": 4,
  "nbformat_minor": 1,
  "cells": [
    {
      "execution_count": 6,
      "cell_type": "code",
      "metadata": {},
      "source": [
        "# -*- coding: utf-8 -*-\nimport dataiku\nimport pandas as pd, numpy as np\nfrom dataiku import pandasutils as pdu\n\n# Read recipe inputs\ndata \u003d dataiku.Dataset(\"new_train_data\")\ndf \u003d data.get_dataframe()"
      ],
      "outputs": []
    },
    {
      "execution_count": 7,
      "cell_type": "code",
      "metadata": {},
      "source": [
        "import math\n\nimport tensorflow as tf\nfrom tensorflow import keras\nfrom tensorflow.keras import layers\nfrom tensorflow.keras.utils import Sequence\nfrom datetime import timedelta\nfrom sklearn.preprocessing import MinMaxScaler\nfrom sklearn.metrics import mean_squared_error\n\nimport numpy as np\nimport pandas as pd\nimport time\n\nimport os"
      ],
      "outputs": []
    },
    {
      "execution_count": 9,
      "cell_type": "code",
      "metadata": {},
      "source": [
        "df"
      ],
      "outputs": [
        {
          "output_type": "execute_result",
          "execution_count": 9,
          "data": {
            "text/plain": "                        date  broker-102/data  broker-104/data  broker-106/data  broker-108/data  broker-110/data  broker-101/data  broker-103/data  broker-105/data  broker-107/data  broker-109/data\n0  2021-08-25 18:00:00+00:00        88.057892        77.800600        72.025539        75.970707        95.002221        83.629912        78.380594        73.159848        80.008438        94.650912\n1  2021-08-25 17:45:00+00:00        88.147967        77.907399        72.060813        76.024023        95.030465        83.564348        78.348473        73.171065        80.077924        94.749819\n2  2021-08-25 17:30:00+00:00        88.385463        78.065120        72.024769        76.106181        95.000380        83.634059        78.468809        73.136793        80.014919        94.751367\n3  2021-08-25 17:15:00+00:00        88.264818        78.101756        72.106583        76.138057        95.005182        83.613774        78.464204        73.180682        80.090870        94.790193\n4  2021-08-25 17:00:00+00:00        88.373786        77.969001        72.127202        76.129132        95.132078        83.712252        78.579221        73.189930        80.152515        94.886214\n5  2021-08-25 16:45:00+00:00        88.332493        78.094722        72.160736        76.170051        95.228092        83.685842        78.725486        73.296315        80.231704        94.853790\n6  2021-08-25 16:30:00+00:00        88.378953        78.163383        72.232277        76.226302        95.313764        83.751507        78.825091        73.411269        80.181206        94.943533\n7  2021-08-25 16:15:00+00:00        88.478915        78.215185        72.397890        76.351413        95.344451        83.725933        78.882662        73.522625        80.367834        94.975855\n8  2021-08-25 16:00:00+00:00        88.446663        78.198984        72.367600        76.496676        95.429872        83.850682        78.833776        73.452424        80.440068        95.023090\n9  2021-08-25 15:45:00+00:00        88.403636        78.354263        72.514395        76.451271        95.398651        83.753287        78.934004        73.408386        80.497241        94.998835\n10 2021-08-25 15:45:00+00:00              NaN              NaN              NaN              NaN              NaN              NaN              NaN              NaN              NaN              NaN\n11 2021-08-25 16:00:00+00:00              NaN              NaN              NaN              NaN              NaN              NaN              NaN              NaN              NaN              NaN\n12 2021-08-25 16:15:00+00:00              NaN              NaN              NaN              NaN              NaN              NaN              NaN              NaN              NaN              NaN\n13 2021-08-25 16:30:00+00:00              NaN              NaN              NaN              NaN              NaN              NaN              NaN              NaN              NaN              NaN\n14 2021-08-25 16:45:00+00:00              NaN              NaN              NaN              NaN              NaN              NaN              NaN              NaN              NaN              NaN\n15 2021-08-25 17:00:00+00:00              NaN              NaN              NaN              NaN              NaN              NaN              NaN              NaN              NaN              NaN\n16 2021-08-25 17:15:00+00:00              NaN              NaN              NaN              NaN              NaN              NaN              NaN              NaN              NaN              NaN\n17 2021-08-25 17:30:00+00:00              NaN              NaN              NaN              NaN              NaN              NaN              NaN              NaN              NaN              NaN\n18 2021-08-25 17:45:00+00:00              NaN              NaN              NaN              NaN              NaN              NaN              NaN              NaN              NaN              NaN\n19 2021-08-25 18:00:00+00:00              NaN              NaN              NaN              NaN              NaN              NaN              NaN              NaN              NaN              NaN\n20 2021-08-25 18:15:00+00:00              NaN              NaN              NaN              NaN              NaN              NaN              NaN              NaN              NaN              NaN\n21 2021-08-25 18:30:00+00:00              NaN              NaN              NaN              NaN              NaN              NaN              NaN              NaN              NaN              NaN\n22 2021-08-25 18:45:00+00:00              NaN              NaN              NaN              NaN              NaN              NaN              NaN              NaN              NaN              NaN\n23 2021-08-25 19:00:00+00:00              NaN              NaN              NaN              NaN              NaN              NaN              NaN              NaN              NaN              NaN\n24 2021-08-25 19:15:00+00:00              NaN              NaN              NaN              NaN              NaN              NaN              NaN              NaN              NaN              NaN\n25 2021-08-25 19:30:00+00:00              NaN              NaN              NaN              NaN              NaN              NaN              NaN              NaN              NaN              NaN\n26 2021-08-25 19:45:00+00:00              NaN              NaN              NaN              NaN              NaN              NaN              NaN              NaN              NaN              NaN\n27 2021-08-25 20:00:00+00:00              NaN              NaN              NaN              NaN              NaN              NaN              NaN              NaN              NaN              NaN\n28 2021-08-25 20:15:00+00:00              NaN              NaN              NaN              NaN              NaN              NaN              NaN              NaN              NaN              NaN\n29 2021-08-25 20:30:00+00:00              NaN              NaN              NaN              NaN              NaN              NaN              NaN              NaN              NaN              NaN",
            "text/html": "\n            \u003cbutton style\u003d\"display:none\" \n            class\u003d\"btn btn-default ipython-export-btn\" \n            id\u003d\"btn-df-ed7a9431-6bf5-43ad-af00-55a9931b4d4c\" \n            onclick\u003d\"_export_df(\u0027ed7a9431-6bf5-43ad-af00-55a9931b4d4c\u0027)\"\u003e\n                Export dataframe\n            \u003c/button\u003e\n            \n            \u003cscript\u003e\n                \n                function _check_export_df_possible(dfid,yes_fn,no_fn) {\n                    console.log(\u0027Checking dataframe exportability...\u0027)\n                    if(!IPython || !IPython.notebook || !IPython.notebook.kernel || !IPython.notebook.kernel) {\n                        console.log(\u0027Export is not possible (IPython kernel is not available)\u0027)\n                        if(no_fn) {\n                            no_fn();\n                        }\n                    } else {\n                        var pythonCode \u003d \u0027from dataiku.notebook.export import IPythonExporter;IPythonExporter._check_export_stdout(\"\u0027+dfid+\u0027\")\u0027;\n                        IPython.notebook.kernel.execute(pythonCode,{iopub: {output: function(resp) {\n                            console.info(\"Exportability response\", resp);\n                            var size \u003d /^([0-9]+)x([0-9]+)$/.exec(resp.content.data || resp.content.text)\n                            if(!size) {\n                                console.log(\u0027Export is not possible (dataframe is not in-memory anymore)\u0027)\n                                if(no_fn) {\n                                    no_fn();\n                                }\n                            } else {\n                                console.log(\u0027Export is possible\u0027)\n                                if(yes_fn) {\n                                    yes_fn(1*size[1],1*size[2]);\n                                }\n                            }\n                        }}});\n                    }\n                }\n            \n                function _export_df(dfid) {\n                    \n                    var btn \u003d $(\u0027#btn-df-\u0027+dfid);\n                    var btns \u003d $(\u0027.ipython-export-btn\u0027);\n                    \n                    _check_export_df_possible(dfid,function() {\n                        \n                        window.parent.openExportModalFromIPython(\u0027Pandas dataframe\u0027,function(data) {\n                            btns.prop(\u0027disabled\u0027,true);\n                            btn.text(\u0027Exporting...\u0027);\n                            var command \u003d \u0027from dataiku.notebook.export import IPythonExporter;IPythonExporter._run_export(\"\u0027+dfid+\u0027\",\"\u0027+data.exportId+\u0027\")\u0027;\n                            var callback \u003d {iopub:{output: function(resp) {\n                                console.info(\"CB resp:\", resp);\n                                _check_export_df_possible(dfid,function(rows, cols) {\n                                    $(\u0027#btn-df-\u0027+dfid)\n                                        .css(\u0027display\u0027,\u0027inline-block\u0027)\n                                        .text(\u0027Export this dataframe (\u0027+rows+\u0027 rows, \u0027+cols+\u0027 cols)\u0027)\n                                        .prop(\u0027disabled\u0027,false);\n                                },function() {\n                                    $(\u0027#btn-df-\u0027+dfid).css(\u0027display\u0027,\u0027none\u0027);\n                                });\n                            }}};\n                            IPython.notebook.kernel.execute(command,callback,{silent:false}); // yes, silent now defaults to true. figures.\n                        });\n                    \n                    }, function(){\n                            alert(\u0027Unable to export : the Dataframe object is not loaded in memory\u0027);\n                            btn.css(\u0027display\u0027,\u0027none\u0027);\n                    });\n                    \n                }\n                \n                (function(dfid) {\n                \n                    var retryCount \u003d 10;\n                \n                    function is_valid_websock(s) {\n                        return s \u0026\u0026 s.readyState\u003d\u003d1;\n                    }\n                \n                    function check_conn() {\n                        \n                        if(!IPython || !IPython.notebook) {\n                            // Don\u0027t even try to go further\n                            return;\n                        }\n                        \n                        // Check if IPython is ready\n                        console.info(\"Checking conn ...\")\n                        if(IPython.notebook.kernel\n                        \u0026\u0026 IPython.notebook.kernel\n                        \u0026\u0026 is_valid_websock(IPython.notebook.kernel.ws)\n                        ) {\n                            \n                            _check_export_df_possible(dfid,function(rows, cols) {\n                                $(\u0027#btn-df-\u0027+dfid).css(\u0027display\u0027,\u0027inline-block\u0027);\n                                $(\u0027#btn-df-\u0027+dfid).text(\u0027Export this dataframe (\u0027+rows+\u0027 rows, \u0027+cols+\u0027 cols)\u0027);\n                            });\n                            \n                        } else {\n                            console.info(\"Conditions are not ok\", IPython.notebook.kernel);\n                            \n                            // Retry later\n                            \n                            if(retryCount\u003e0) {\n                                setTimeout(check_conn,500);\n                                retryCount--;\n                            }\n                            \n                        }\n                    };\n                    \n                    setTimeout(check_conn,100);\n                    \n                })(\"ed7a9431-6bf5-43ad-af00-55a9931b4d4c\");\n                \n            \u003c/script\u003e\n            \n        \u003cdiv\u003e\n\u003cstyle scoped\u003e\n    .dataframe tbody tr th:only-of-type {\n        vertical-align: middle;\n    }\n\n    .dataframe tbody tr th {\n        vertical-align: top;\n    }\n\n    .dataframe thead th {\n        text-align: right;\n    }\n\u003c/style\u003e\n\u003ctable border\u003d\"1\" class\u003d\"dataframe\"\u003e\n  \u003cthead\u003e\n    \u003ctr style\u003d\"text-align: right;\"\u003e\n      \u003cth\u003e\u003c/th\u003e\n      \u003cth\u003edate\u003c/th\u003e\n      \u003cth\u003ebroker-102/data\u003c/th\u003e\n      \u003cth\u003ebroker-104/data\u003c/th\u003e\n      \u003cth\u003ebroker-106/data\u003c/th\u003e\n      \u003cth\u003ebroker-108/data\u003c/th\u003e\n      \u003cth\u003ebroker-110/data\u003c/th\u003e\n      \u003cth\u003ebroker-101/data\u003c/th\u003e\n      \u003cth\u003ebroker-103/data\u003c/th\u003e\n      \u003cth\u003ebroker-105/data\u003c/th\u003e\n      \u003cth\u003ebroker-107/data\u003c/th\u003e\n      \u003cth\u003ebroker-109/data\u003c/th\u003e\n    \u003c/tr\u003e\n  \u003c/thead\u003e\n  \u003ctbody\u003e\n    \u003ctr\u003e\n      \u003cth\u003e0\u003c/th\u003e\n      \u003ctd\u003e2021-08-25 18:00:00+00:00\u003c/td\u003e\n      \u003ctd\u003e88.057892\u003c/td\u003e\n      \u003ctd\u003e77.800600\u003c/td\u003e\n      \u003ctd\u003e72.025539\u003c/td\u003e\n      \u003ctd\u003e75.970707\u003c/td\u003e\n      \u003ctd\u003e95.002221\u003c/td\u003e\n      \u003ctd\u003e83.629912\u003c/td\u003e\n      \u003ctd\u003e78.380594\u003c/td\u003e\n      \u003ctd\u003e73.159848\u003c/td\u003e\n      \u003ctd\u003e80.008438\u003c/td\u003e\n      \u003ctd\u003e94.650912\u003c/td\u003e\n    \u003c/tr\u003e\n    \u003ctr\u003e\n      \u003cth\u003e1\u003c/th\u003e\n      \u003ctd\u003e2021-08-25 17:45:00+00:00\u003c/td\u003e\n      \u003ctd\u003e88.147967\u003c/td\u003e\n      \u003ctd\u003e77.907399\u003c/td\u003e\n      \u003ctd\u003e72.060813\u003c/td\u003e\n      \u003ctd\u003e76.024023\u003c/td\u003e\n      \u003ctd\u003e95.030465\u003c/td\u003e\n      \u003ctd\u003e83.564348\u003c/td\u003e\n      \u003ctd\u003e78.348473\u003c/td\u003e\n      \u003ctd\u003e73.171065\u003c/td\u003e\n      \u003ctd\u003e80.077924\u003c/td\u003e\n      \u003ctd\u003e94.749819\u003c/td\u003e\n    \u003c/tr\u003e\n    \u003ctr\u003e\n      \u003cth\u003e2\u003c/th\u003e\n      \u003ctd\u003e2021-08-25 17:30:00+00:00\u003c/td\u003e\n      \u003ctd\u003e88.385463\u003c/td\u003e\n      \u003ctd\u003e78.065120\u003c/td\u003e\n      \u003ctd\u003e72.024769\u003c/td\u003e\n      \u003ctd\u003e76.106181\u003c/td\u003e\n      \u003ctd\u003e95.000380\u003c/td\u003e\n      \u003ctd\u003e83.634059\u003c/td\u003e\n      \u003ctd\u003e78.468809\u003c/td\u003e\n      \u003ctd\u003e73.136793\u003c/td\u003e\n      \u003ctd\u003e80.014919\u003c/td\u003e\n      \u003ctd\u003e94.751367\u003c/td\u003e\n    \u003c/tr\u003e\n    \u003ctr\u003e\n      \u003cth\u003e3\u003c/th\u003e\n      \u003ctd\u003e2021-08-25 17:15:00+00:00\u003c/td\u003e\n      \u003ctd\u003e88.264818\u003c/td\u003e\n      \u003ctd\u003e78.101756\u003c/td\u003e\n      \u003ctd\u003e72.106583\u003c/td\u003e\n      \u003ctd\u003e76.138057\u003c/td\u003e\n      \u003ctd\u003e95.005182\u003c/td\u003e\n      \u003ctd\u003e83.613774\u003c/td\u003e\n      \u003ctd\u003e78.464204\u003c/td\u003e\n      \u003ctd\u003e73.180682\u003c/td\u003e\n      \u003ctd\u003e80.090870\u003c/td\u003e\n      \u003ctd\u003e94.790193\u003c/td\u003e\n    \u003c/tr\u003e\n    \u003ctr\u003e\n      \u003cth\u003e4\u003c/th\u003e\n      \u003ctd\u003e2021-08-25 17:00:00+00:00\u003c/td\u003e\n      \u003ctd\u003e88.373786\u003c/td\u003e\n      \u003ctd\u003e77.969001\u003c/td\u003e\n      \u003ctd\u003e72.127202\u003c/td\u003e\n      \u003ctd\u003e76.129132\u003c/td\u003e\n      \u003ctd\u003e95.132078\u003c/td\u003e\n      \u003ctd\u003e83.712252\u003c/td\u003e\n      \u003ctd\u003e78.579221\u003c/td\u003e\n      \u003ctd\u003e73.189930\u003c/td\u003e\n      \u003ctd\u003e80.152515\u003c/td\u003e\n      \u003ctd\u003e94.886214\u003c/td\u003e\n    \u003c/tr\u003e\n    \u003ctr\u003e\n      \u003cth\u003e5\u003c/th\u003e\n      \u003ctd\u003e2021-08-25 16:45:00+00:00\u003c/td\u003e\n      \u003ctd\u003e88.332493\u003c/td\u003e\n      \u003ctd\u003e78.094722\u003c/td\u003e\n      \u003ctd\u003e72.160736\u003c/td\u003e\n      \u003ctd\u003e76.170051\u003c/td\u003e\n      \u003ctd\u003e95.228092\u003c/td\u003e\n      \u003ctd\u003e83.685842\u003c/td\u003e\n      \u003ctd\u003e78.725486\u003c/td\u003e\n      \u003ctd\u003e73.296315\u003c/td\u003e\n      \u003ctd\u003e80.231704\u003c/td\u003e\n      \u003ctd\u003e94.853790\u003c/td\u003e\n    \u003c/tr\u003e\n    \u003ctr\u003e\n      \u003cth\u003e6\u003c/th\u003e\n      \u003ctd\u003e2021-08-25 16:30:00+00:00\u003c/td\u003e\n      \u003ctd\u003e88.378953\u003c/td\u003e\n      \u003ctd\u003e78.163383\u003c/td\u003e\n      \u003ctd\u003e72.232277\u003c/td\u003e\n      \u003ctd\u003e76.226302\u003c/td\u003e\n      \u003ctd\u003e95.313764\u003c/td\u003e\n      \u003ctd\u003e83.751507\u003c/td\u003e\n      \u003ctd\u003e78.825091\u003c/td\u003e\n      \u003ctd\u003e73.411269\u003c/td\u003e\n      \u003ctd\u003e80.181206\u003c/td\u003e\n      \u003ctd\u003e94.943533\u003c/td\u003e\n    \u003c/tr\u003e\n    \u003ctr\u003e\n      \u003cth\u003e7\u003c/th\u003e\n      \u003ctd\u003e2021-08-25 16:15:00+00:00\u003c/td\u003e\n      \u003ctd\u003e88.478915\u003c/td\u003e\n      \u003ctd\u003e78.215185\u003c/td\u003e\n      \u003ctd\u003e72.397890\u003c/td\u003e\n      \u003ctd\u003e76.351413\u003c/td\u003e\n      \u003ctd\u003e95.344451\u003c/td\u003e\n      \u003ctd\u003e83.725933\u003c/td\u003e\n      \u003ctd\u003e78.882662\u003c/td\u003e\n      \u003ctd\u003e73.522625\u003c/td\u003e\n      \u003ctd\u003e80.367834\u003c/td\u003e\n      \u003ctd\u003e94.975855\u003c/td\u003e\n    \u003c/tr\u003e\n    \u003ctr\u003e\n      \u003cth\u003e8\u003c/th\u003e\n      \u003ctd\u003e2021-08-25 16:00:00+00:00\u003c/td\u003e\n      \u003ctd\u003e88.446663\u003c/td\u003e\n      \u003ctd\u003e78.198984\u003c/td\u003e\n      \u003ctd\u003e72.367600\u003c/td\u003e\n      \u003ctd\u003e76.496676\u003c/td\u003e\n      \u003ctd\u003e95.429872\u003c/td\u003e\n      \u003ctd\u003e83.850682\u003c/td\u003e\n      \u003ctd\u003e78.833776\u003c/td\u003e\n      \u003ctd\u003e73.452424\u003c/td\u003e\n      \u003ctd\u003e80.440068\u003c/td\u003e\n      \u003ctd\u003e95.023090\u003c/td\u003e\n    \u003c/tr\u003e\n    \u003ctr\u003e\n      \u003cth\u003e9\u003c/th\u003e\n      \u003ctd\u003e2021-08-25 15:45:00+00:00\u003c/td\u003e\n      \u003ctd\u003e88.403636\u003c/td\u003e\n      \u003ctd\u003e78.354263\u003c/td\u003e\n      \u003ctd\u003e72.514395\u003c/td\u003e\n      \u003ctd\u003e76.451271\u003c/td\u003e\n      \u003ctd\u003e95.398651\u003c/td\u003e\n      \u003ctd\u003e83.753287\u003c/td\u003e\n      \u003ctd\u003e78.934004\u003c/td\u003e\n      \u003ctd\u003e73.408386\u003c/td\u003e\n      \u003ctd\u003e80.497241\u003c/td\u003e\n      \u003ctd\u003e94.998835\u003c/td\u003e\n    \u003c/tr\u003e\n    \u003ctr\u003e\n      \u003cth\u003e10\u003c/th\u003e\n      \u003ctd\u003e2021-08-25 15:45:00+00:00\u003c/td\u003e\n      \u003ctd\u003eNaN\u003c/td\u003e\n      \u003ctd\u003eNaN\u003c/td\u003e\n      \u003ctd\u003eNaN\u003c/td\u003e\n      \u003ctd\u003eNaN\u003c/td\u003e\n      \u003ctd\u003eNaN\u003c/td\u003e\n      \u003ctd\u003eNaN\u003c/td\u003e\n      \u003ctd\u003eNaN\u003c/td\u003e\n      \u003ctd\u003eNaN\u003c/td\u003e\n      \u003ctd\u003eNaN\u003c/td\u003e\n      \u003ctd\u003eNaN\u003c/td\u003e\n    \u003c/tr\u003e\n    \u003ctr\u003e\n      \u003cth\u003e11\u003c/th\u003e\n      \u003ctd\u003e2021-08-25 16:00:00+00:00\u003c/td\u003e\n      \u003ctd\u003eNaN\u003c/td\u003e\n      \u003ctd\u003eNaN\u003c/td\u003e\n      \u003ctd\u003eNaN\u003c/td\u003e\n      \u003ctd\u003eNaN\u003c/td\u003e\n      \u003ctd\u003eNaN\u003c/td\u003e\n      \u003ctd\u003eNaN\u003c/td\u003e\n      \u003ctd\u003eNaN\u003c/td\u003e\n      \u003ctd\u003eNaN\u003c/td\u003e\n      \u003ctd\u003eNaN\u003c/td\u003e\n      \u003ctd\u003eNaN\u003c/td\u003e\n    \u003c/tr\u003e\n    \u003ctr\u003e\n      \u003cth\u003e12\u003c/th\u003e\n      \u003ctd\u003e2021-08-25 16:15:00+00:00\u003c/td\u003e\n      \u003ctd\u003eNaN\u003c/td\u003e\n      \u003ctd\u003eNaN\u003c/td\u003e\n      \u003ctd\u003eNaN\u003c/td\u003e\n      \u003ctd\u003eNaN\u003c/td\u003e\n      \u003ctd\u003eNaN\u003c/td\u003e\n      \u003ctd\u003eNaN\u003c/td\u003e\n      \u003ctd\u003eNaN\u003c/td\u003e\n      \u003ctd\u003eNaN\u003c/td\u003e\n      \u003ctd\u003eNaN\u003c/td\u003e\n      \u003ctd\u003eNaN\u003c/td\u003e\n    \u003c/tr\u003e\n    \u003ctr\u003e\n      \u003cth\u003e13\u003c/th\u003e\n      \u003ctd\u003e2021-08-25 16:30:00+00:00\u003c/td\u003e\n      \u003ctd\u003eNaN\u003c/td\u003e\n      \u003ctd\u003eNaN\u003c/td\u003e\n      \u003ctd\u003eNaN\u003c/td\u003e\n      \u003ctd\u003eNaN\u003c/td\u003e\n      \u003ctd\u003eNaN\u003c/td\u003e\n      \u003ctd\u003eNaN\u003c/td\u003e\n      \u003ctd\u003eNaN\u003c/td\u003e\n      \u003ctd\u003eNaN\u003c/td\u003e\n      \u003ctd\u003eNaN\u003c/td\u003e\n      \u003ctd\u003eNaN\u003c/td\u003e\n    \u003c/tr\u003e\n    \u003ctr\u003e\n      \u003cth\u003e14\u003c/th\u003e\n      \u003ctd\u003e2021-08-25 16:45:00+00:00\u003c/td\u003e\n      \u003ctd\u003eNaN\u003c/td\u003e\n      \u003ctd\u003eNaN\u003c/td\u003e\n      \u003ctd\u003eNaN\u003c/td\u003e\n      \u003ctd\u003eNaN\u003c/td\u003e\n      \u003ctd\u003eNaN\u003c/td\u003e\n      \u003ctd\u003eNaN\u003c/td\u003e\n      \u003ctd\u003eNaN\u003c/td\u003e\n      \u003ctd\u003eNaN\u003c/td\u003e\n      \u003ctd\u003eNaN\u003c/td\u003e\n      \u003ctd\u003eNaN\u003c/td\u003e\n    \u003c/tr\u003e\n    \u003ctr\u003e\n      \u003cth\u003e15\u003c/th\u003e\n      \u003ctd\u003e2021-08-25 17:00:00+00:00\u003c/td\u003e\n      \u003ctd\u003eNaN\u003c/td\u003e\n      \u003ctd\u003eNaN\u003c/td\u003e\n      \u003ctd\u003eNaN\u003c/td\u003e\n      \u003ctd\u003eNaN\u003c/td\u003e\n      \u003ctd\u003eNaN\u003c/td\u003e\n      \u003ctd\u003eNaN\u003c/td\u003e\n      \u003ctd\u003eNaN\u003c/td\u003e\n      \u003ctd\u003eNaN\u003c/td\u003e\n      \u003ctd\u003eNaN\u003c/td\u003e\n      \u003ctd\u003eNaN\u003c/td\u003e\n    \u003c/tr\u003e\n    \u003ctr\u003e\n      \u003cth\u003e16\u003c/th\u003e\n      \u003ctd\u003e2021-08-25 17:15:00+00:00\u003c/td\u003e\n      \u003ctd\u003eNaN\u003c/td\u003e\n      \u003ctd\u003eNaN\u003c/td\u003e\n      \u003ctd\u003eNaN\u003c/td\u003e\n      \u003ctd\u003eNaN\u003c/td\u003e\n      \u003ctd\u003eNaN\u003c/td\u003e\n      \u003ctd\u003eNaN\u003c/td\u003e\n      \u003ctd\u003eNaN\u003c/td\u003e\n      \u003ctd\u003eNaN\u003c/td\u003e\n      \u003ctd\u003eNaN\u003c/td\u003e\n      \u003ctd\u003eNaN\u003c/td\u003e\n    \u003c/tr\u003e\n    \u003ctr\u003e\n      \u003cth\u003e17\u003c/th\u003e\n      \u003ctd\u003e2021-08-25 17:30:00+00:00\u003c/td\u003e\n      \u003ctd\u003eNaN\u003c/td\u003e\n      \u003ctd\u003eNaN\u003c/td\u003e\n      \u003ctd\u003eNaN\u003c/td\u003e\n      \u003ctd\u003eNaN\u003c/td\u003e\n      \u003ctd\u003eNaN\u003c/td\u003e\n      \u003ctd\u003eNaN\u003c/td\u003e\n      \u003ctd\u003eNaN\u003c/td\u003e\n      \u003ctd\u003eNaN\u003c/td\u003e\n      \u003ctd\u003eNaN\u003c/td\u003e\n      \u003ctd\u003eNaN\u003c/td\u003e\n    \u003c/tr\u003e\n    \u003ctr\u003e\n      \u003cth\u003e18\u003c/th\u003e\n      \u003ctd\u003e2021-08-25 17:45:00+00:00\u003c/td\u003e\n      \u003ctd\u003eNaN\u003c/td\u003e\n      \u003ctd\u003eNaN\u003c/td\u003e\n      \u003ctd\u003eNaN\u003c/td\u003e\n      \u003ctd\u003eNaN\u003c/td\u003e\n      \u003ctd\u003eNaN\u003c/td\u003e\n      \u003ctd\u003eNaN\u003c/td\u003e\n      \u003ctd\u003eNaN\u003c/td\u003e\n      \u003ctd\u003eNaN\u003c/td\u003e\n      \u003ctd\u003eNaN\u003c/td\u003e\n      \u003ctd\u003eNaN\u003c/td\u003e\n    \u003c/tr\u003e\n    \u003ctr\u003e\n      \u003cth\u003e19\u003c/th\u003e\n      \u003ctd\u003e2021-08-25 18:00:00+00:00\u003c/td\u003e\n      \u003ctd\u003eNaN\u003c/td\u003e\n      \u003ctd\u003eNaN\u003c/td\u003e\n      \u003ctd\u003eNaN\u003c/td\u003e\n      \u003ctd\u003eNaN\u003c/td\u003e\n      \u003ctd\u003eNaN\u003c/td\u003e\n      \u003ctd\u003eNaN\u003c/td\u003e\n      \u003ctd\u003eNaN\u003c/td\u003e\n      \u003ctd\u003eNaN\u003c/td\u003e\n      \u003ctd\u003eNaN\u003c/td\u003e\n      \u003ctd\u003eNaN\u003c/td\u003e\n    \u003c/tr\u003e\n    \u003ctr\u003e\n      \u003cth\u003e20\u003c/th\u003e\n      \u003ctd\u003e2021-08-25 18:15:00+00:00\u003c/td\u003e\n      \u003ctd\u003eNaN\u003c/td\u003e\n      \u003ctd\u003eNaN\u003c/td\u003e\n      \u003ctd\u003eNaN\u003c/td\u003e\n      \u003ctd\u003eNaN\u003c/td\u003e\n      \u003ctd\u003eNaN\u003c/td\u003e\n      \u003ctd\u003eNaN\u003c/td\u003e\n      \u003ctd\u003eNaN\u003c/td\u003e\n      \u003ctd\u003eNaN\u003c/td\u003e\n      \u003ctd\u003eNaN\u003c/td\u003e\n      \u003ctd\u003eNaN\u003c/td\u003e\n    \u003c/tr\u003e\n    \u003ctr\u003e\n      \u003cth\u003e21\u003c/th\u003e\n      \u003ctd\u003e2021-08-25 18:30:00+00:00\u003c/td\u003e\n      \u003ctd\u003eNaN\u003c/td\u003e\n      \u003ctd\u003eNaN\u003c/td\u003e\n      \u003ctd\u003eNaN\u003c/td\u003e\n      \u003ctd\u003eNaN\u003c/td\u003e\n      \u003ctd\u003eNaN\u003c/td\u003e\n      \u003ctd\u003eNaN\u003c/td\u003e\n      \u003ctd\u003eNaN\u003c/td\u003e\n      \u003ctd\u003eNaN\u003c/td\u003e\n      \u003ctd\u003eNaN\u003c/td\u003e\n      \u003ctd\u003eNaN\u003c/td\u003e\n    \u003c/tr\u003e\n    \u003ctr\u003e\n      \u003cth\u003e22\u003c/th\u003e\n      \u003ctd\u003e2021-08-25 18:45:00+00:00\u003c/td\u003e\n      \u003ctd\u003eNaN\u003c/td\u003e\n      \u003ctd\u003eNaN\u003c/td\u003e\n      \u003ctd\u003eNaN\u003c/td\u003e\n      \u003ctd\u003eNaN\u003c/td\u003e\n      \u003ctd\u003eNaN\u003c/td\u003e\n      \u003ctd\u003eNaN\u003c/td\u003e\n      \u003ctd\u003eNaN\u003c/td\u003e\n      \u003ctd\u003eNaN\u003c/td\u003e\n      \u003ctd\u003eNaN\u003c/td\u003e\n      \u003ctd\u003eNaN\u003c/td\u003e\n    \u003c/tr\u003e\n    \u003ctr\u003e\n      \u003cth\u003e23\u003c/th\u003e\n      \u003ctd\u003e2021-08-25 19:00:00+00:00\u003c/td\u003e\n      \u003ctd\u003eNaN\u003c/td\u003e\n      \u003ctd\u003eNaN\u003c/td\u003e\n      \u003ctd\u003eNaN\u003c/td\u003e\n      \u003ctd\u003eNaN\u003c/td\u003e\n      \u003ctd\u003eNaN\u003c/td\u003e\n      \u003ctd\u003eNaN\u003c/td\u003e\n      \u003ctd\u003eNaN\u003c/td\u003e\n      \u003ctd\u003eNaN\u003c/td\u003e\n      \u003ctd\u003eNaN\u003c/td\u003e\n      \u003ctd\u003eNaN\u003c/td\u003e\n    \u003c/tr\u003e\n    \u003ctr\u003e\n      \u003cth\u003e24\u003c/th\u003e\n      \u003ctd\u003e2021-08-25 19:15:00+00:00\u003c/td\u003e\n      \u003ctd\u003eNaN\u003c/td\u003e\n      \u003ctd\u003eNaN\u003c/td\u003e\n      \u003ctd\u003eNaN\u003c/td\u003e\n      \u003ctd\u003eNaN\u003c/td\u003e\n      \u003ctd\u003eNaN\u003c/td\u003e\n      \u003ctd\u003eNaN\u003c/td\u003e\n      \u003ctd\u003eNaN\u003c/td\u003e\n      \u003ctd\u003eNaN\u003c/td\u003e\n      \u003ctd\u003eNaN\u003c/td\u003e\n      \u003ctd\u003eNaN\u003c/td\u003e\n    \u003c/tr\u003e\n    \u003ctr\u003e\n      \u003cth\u003e25\u003c/th\u003e\n      \u003ctd\u003e2021-08-25 19:30:00+00:00\u003c/td\u003e\n      \u003ctd\u003eNaN\u003c/td\u003e\n      \u003ctd\u003eNaN\u003c/td\u003e\n      \u003ctd\u003eNaN\u003c/td\u003e\n      \u003ctd\u003eNaN\u003c/td\u003e\n      \u003ctd\u003eNaN\u003c/td\u003e\n      \u003ctd\u003eNaN\u003c/td\u003e\n      \u003ctd\u003eNaN\u003c/td\u003e\n      \u003ctd\u003eNaN\u003c/td\u003e\n      \u003ctd\u003eNaN\u003c/td\u003e\n      \u003ctd\u003eNaN\u003c/td\u003e\n    \u003c/tr\u003e\n    \u003ctr\u003e\n      \u003cth\u003e26\u003c/th\u003e\n      \u003ctd\u003e2021-08-25 19:45:00+00:00\u003c/td\u003e\n      \u003ctd\u003eNaN\u003c/td\u003e\n      \u003ctd\u003eNaN\u003c/td\u003e\n      \u003ctd\u003eNaN\u003c/td\u003e\n      \u003ctd\u003eNaN\u003c/td\u003e\n      \u003ctd\u003eNaN\u003c/td\u003e\n      \u003ctd\u003eNaN\u003c/td\u003e\n      \u003ctd\u003eNaN\u003c/td\u003e\n      \u003ctd\u003eNaN\u003c/td\u003e\n      \u003ctd\u003eNaN\u003c/td\u003e\n      \u003ctd\u003eNaN\u003c/td\u003e\n    \u003c/tr\u003e\n    \u003ctr\u003e\n      \u003cth\u003e27\u003c/th\u003e\n      \u003ctd\u003e2021-08-25 20:00:00+00:00\u003c/td\u003e\n      \u003ctd\u003eNaN\u003c/td\u003e\n      \u003ctd\u003eNaN\u003c/td\u003e\n      \u003ctd\u003eNaN\u003c/td\u003e\n      \u003ctd\u003eNaN\u003c/td\u003e\n      \u003ctd\u003eNaN\u003c/td\u003e\n      \u003ctd\u003eNaN\u003c/td\u003e\n      \u003ctd\u003eNaN\u003c/td\u003e\n      \u003ctd\u003eNaN\u003c/td\u003e\n      \u003ctd\u003eNaN\u003c/td\u003e\n      \u003ctd\u003eNaN\u003c/td\u003e\n    \u003c/tr\u003e\n    \u003ctr\u003e\n      \u003cth\u003e28\u003c/th\u003e\n      \u003ctd\u003e2021-08-25 20:15:00+00:00\u003c/td\u003e\n      \u003ctd\u003eNaN\u003c/td\u003e\n      \u003ctd\u003eNaN\u003c/td\u003e\n      \u003ctd\u003eNaN\u003c/td\u003e\n      \u003ctd\u003eNaN\u003c/td\u003e\n      \u003ctd\u003eNaN\u003c/td\u003e\n      \u003ctd\u003eNaN\u003c/td\u003e\n      \u003ctd\u003eNaN\u003c/td\u003e\n      \u003ctd\u003eNaN\u003c/td\u003e\n      \u003ctd\u003eNaN\u003c/td\u003e\n      \u003ctd\u003eNaN\u003c/td\u003e\n    \u003c/tr\u003e\n    \u003ctr\u003e\n      \u003cth\u003e29\u003c/th\u003e\n      \u003ctd\u003e2021-08-25 20:30:00+00:00\u003c/td\u003e\n      \u003ctd\u003eNaN\u003c/td\u003e\n      \u003ctd\u003eNaN\u003c/td\u003e\n      \u003ctd\u003eNaN\u003c/td\u003e\n      \u003ctd\u003eNaN\u003c/td\u003e\n      \u003ctd\u003eNaN\u003c/td\u003e\n      \u003ctd\u003eNaN\u003c/td\u003e\n      \u003ctd\u003eNaN\u003c/td\u003e\n      \u003ctd\u003eNaN\u003c/td\u003e\n      \u003ctd\u003eNaN\u003c/td\u003e\n      \u003ctd\u003eNaN\u003c/td\u003e\n    \u003c/tr\u003e\n  \u003c/tbody\u003e\n\u003c/table\u003e\n\u003c/div\u003e"
          },
          "metadata": {}
        }
      ]
    },
    {
      "cell_type": "markdown",
      "metadata": {},
      "source": [
        "# Split en dataset de Train et Test"
      ]
    },
    {
      "execution_count": 8,
      "cell_type": "code",
      "metadata": {},
      "source": [
        "# Split into training, test datasets.\n# Since it\u0027s timeseries we should do it by date.\ntest_cutoff_date \u003d df_data[\u0027date\u0027].max() - timedelta(days\u003d7)\n\ntest_df \u003d df[df[\u0027date\u0027] \u003e test_cutoff_date]\ntrain_df \u003d df[df[\u0027date\u0027] \u003c\u003d test_cutoff_date]\n\n#check out the datasets\nprint(\u0027Test dates: {} to {}\u0027.format(test_df[\u0027date\u0027].min(), test_df[\u0027date\u0027].max()))\nprint(\u0027Train dates: {} to {}\u0027.format(train_df[\u0027date\u0027].min(), train_df[\u0027date\u0027].max()))"
      ],
      "outputs": [
        {
          "output_type": "stream",
          "text": "Test dates: 2021-08-25 15:45:00+00:00 to 2021-08-25 20:30:00+00:00\nTrain dates: NaT to NaT\n",
          "name": "stdout"
        }
      ]
    },
    {
      "execution_count": 0,
      "cell_type": "code",
      "metadata": {},
      "source": [
        "train_df  \u003d train_df.set_index(\u0027date\u0027)\ntest_df \u003d test_df.set_index(\u0027date\u0027)"
      ],
      "outputs": []
    },
    {
      "execution_count": 0,
      "cell_type": "code",
      "metadata": {},
      "source": [
        "train \u003d train_df\nscalers\u003d{}\nfor i in train_df.columns:\n    scaler \u003d MinMaxScaler(feature_range\u003d(-1,1))\n    s_s \u003d scaler.fit_transform(train[i].values.reshape(-1,1))\n    s_s\u003dnp.reshape(s_s,len(s_s))\n    scalers[\u0027scaler_\u0027+ i] \u003d scaler\n    train[i]\u003ds_s\ntest \u003d test_df\nfor i in test_df.columns:\n    scaler \u003d scalers[\u0027scaler_\u0027+i]\n    s_s \u003d scaler.transform(test[i].values.reshape(-1,1))\n    s_s\u003dnp.reshape(s_s,len(s_s))\n    scalers[\u0027scaler_\u0027+i] \u003d scaler\n    test[i]\u003ds_s"
      ],
      "outputs": []
    },
    {
      "cell_type": "markdown",
      "metadata": {},
      "source": [
        "# Construction des mini-batch"
      ]
    },
    {
      "execution_count": 0,
      "cell_type": "code",
      "metadata": {},
      "source": [
        "def split_series(series, n_past, n_future):\n  #\n  # n_past \u003d\u003d\u003e no of past observations\n  #\n  # n_future \u003d\u003d\u003e no of future observations\n  #\n  X, y \u003d list(), list()\n  for window_start in range(len(series)):\n    past_end \u003d window_start + n_past\n    future_end \u003d past_end + n_future\n    if future_end \u003e len(series):\n      break\n    # slicing the past and future parts of the window\n    past, future \u003d series[window_start:past_end, :], series[past_end:future_end, :]\n    X.append(past)\n    y.append(future)\n  return np.array(X), np.array(y)"
      ],
      "outputs": []
    },
    {
      "execution_count": 0,
      "cell_type": "code",
      "metadata": {},
      "source": [
        "n_past \u003d 10\nn_future \u003d 5\nn_features \u003d 10"
      ],
      "outputs": []
    },
    {
      "execution_count": 0,
      "cell_type": "code",
      "metadata": {},
      "source": [
        "X_train, y_train \u003d split_series(train.values,n_past, n_future)\nX_train \u003d X_train.reshape((X_train.shape[0], X_train.shape[1],n_features))\ny_train \u003d y_train.reshape((y_train.shape[0], y_train.shape[1], n_features))\nX_test, y_test \u003d split_series(test.values,n_past, n_future)\nX_test \u003d X_test.reshape((X_test.shape[0], X_test.shape[1],n_features))\ny_test \u003d y_test.reshape((y_test.shape[0], y_test.shape[1], n_features))"
      ],
      "outputs": []
    },
    {
      "cell_type": "markdown",
      "metadata": {},
      "source": [
        "# Création du modèle de forecasting"
      ]
    },
    {
      "execution_count": 0,
      "cell_type": "code",
      "metadata": {},
      "source": [
        "encoder_inputs \u003d tf.keras.layers.Input(shape\u003d(n_past, n_features))\nencoder \u003d tf.keras.layers.LSTM(100, return_state\u003dTrue)\nencoder_outputs \u003d encoder(encoder_inputs)\n\nencoder_states \u003d encoder_outputs[1:]\n\n#\ndecoder_inputs \u003d tf.keras.layers.RepeatVector(n_future)(encoder_outputs[0])\n\n#\ndecoder \u003d tf.keras.layers.LSTM(100, return_sequences\u003dTrue)(decoder_inputs,initial_state \u003d encoder_states)\ndecoder_outputs \u003d tf.keras.layers.TimeDistributed(tf.keras.layers.Dense(n_features))(decoder)\n\n#\nmodel \u003d tf.keras.models.Model(encoder_inputs,decoder_outputs)\n\n#\nmodel.summary()"
      ],
      "outputs": []
    },
    {
      "cell_type": "markdown",
      "metadata": {},
      "source": [
        "# Apprentissage du modèle"
      ]
    },
    {
      "execution_count": 0,
      "cell_type": "code",
      "metadata": {},
      "source": [
        "reduce_lr \u003d tf.keras.callbacks.LearningRateScheduler(lambda x: 1e-3 * 0.90 ** x)\nmodel.compile(optimizer\u003dtf.keras.optimizers.Adam(), loss\u003dtf.keras.losses.Huber(), metrics\u003d[tf.keras.metrics.CosineSimilarity(), tf.keras.metrics.MeanAbsoluteError()])\nhistory \u003d model.fit(X_train,y_train,epochs\u003d25,validation_data\u003d(X_test,y_test),batch_size\u003d32,verbose\u003d0,callbacks\u003d[reduce_lr])"
      ],
      "outputs": []
    },
    {
      "execution_count": 0,
      "cell_type": "code",
      "metadata": {},
      "source": [
        "print(history.history.keys())\nhistory.history[\"val_mean_absolute_error\"]\n\ndata_metrics \u003d {}\n\nfor key, val in history.history.items():\n    data_metrics[key] \u003d [val[-1]]\n\nprint(data_metrics)"
      ],
      "outputs": []
    },
    {
      "execution_count": 0,
      "cell_type": "code",
      "metadata": {},
      "source": [
        "for index,i in enumerate(train_df.columns):\n    scaler \u003d scalers[\u0027scaler_\u0027+i]\n    y_train[:,:,index]\u003dscaler.inverse_transform(y_train[:,:,index])\n    y_test[:,:,index]\u003dscaler.inverse_transform(y_test[:,:,index])"
      ],
      "outputs": []
    },
    {
      "cell_type": "markdown",
      "metadata": {},
      "source": [
        "# Stockage du modèle dans le folder"
      ]
    },
    {
      "execution_count": 0,
      "cell_type": "code",
      "metadata": {},
      "source": [
        "model_json \u003d model.to_json()"
      ],
      "outputs": []
    },
    {
      "execution_count": 0,
      "cell_type": "code",
      "metadata": {},
      "source": [
        "# Write recipe outputs\nmodel_folder \u003d dataiku.Folder(\"dHoUQGRB\")\nmodel_folder_info \u003d model_folder.get_info()\n\nnow \u003d time.time()\n\nmodel_folder.write_json(str(now)+\"/model_json\", model_json)\nmodel_folder.write_json(\"actual/model_json\", model_json)"
      ],
      "outputs": []
    },
    {
      "execution_count": 0,
      "cell_type": "code",
      "metadata": {},
      "source": [
        "model_folder.list_paths_in_partition()"
      ],
      "outputs": []
    },
    {
      "cell_type": "markdown",
      "metadata": {},
      "source": [
        "# Stockage des métriques dans un dataframe"
      ]
    },
    {
      "execution_count": 0,
      "cell_type": "code",
      "metadata": {},
      "source": [
        "metrics \u003d dataiku.Dataset(\"Metrics\")\n\ndata_metrics[\u0027time\u0027] \u003d [now]\ndata_metrics[\"used\"] \u003d [\"True\"]\ndf_metrics \u003d pd.DataFrame(data_metrics)\n\nmetrics.write_with_schema(df_metrics)"
      ],
      "outputs": []
    }
  ]
}