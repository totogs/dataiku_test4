{
  "nbformat": 4,
  "nbformat_minor": 0,
  "metadata": {
    "kernelspec": {
      "display_name": "Python 3",
      "language": "python",
      "name": "python3"
    },
    "associatedRecipe": "compute_test",
    "creator": "tony",
    "createdOn": 1630417101173,
    "tags": [
      "recipe-editor"
    ],
    "customFields": {}
  },
  "cells": [
    {
      "cell_type": "code",
      "metadata": {},
      "outputs": [],
      "execution_count": 0,
      "source": [
        "# -*- coding: utf-8 -*-\n",
        "import dataiku\n",
        "import pandas as pd, numpy as np\n",
        "from dataiku import pandasutils as pdu\n",
        "\n",
        "# Read recipe inputs\n",
        "data_prepared \u003d dataiku.Dataset(\"data_prepared\")\n",
        "data_prepared_df \u003d data_prepared.get_dataframe()\n",
        "\n",
        "\n",
        "# Compute recipe outputs\n",
        "# TODO: Write here your actual code that computes the outputs\n",
        "# NB: DSS supports several kinds of APIs for reading and writing data. Please see doc.\n",
        "\n",
        "test_df \u003d ... # Compute a Pandas dataframe to write into test\n",
        "test2_df \u003d ... # Compute a Pandas dataframe to write into test2\n",
        "\n",
        "\n",
        "# Write recipe outputs\n",
        "test \u003d dataiku.Dataset(\"test\")\n",
        "test.write_with_schema(test_df)\n",
        "test2 \u003d dataiku.Dataset(\"test2\")\n",
        "test2.write_with_schema(test2_df)"
      ]
    }
  ]
}