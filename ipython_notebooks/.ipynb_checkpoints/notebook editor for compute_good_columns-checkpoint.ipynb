{
  "nbformat": 4,
  "nbformat_minor": 0,
  "metadata": {
    "kernelspec": {
      "display_name": "Python 3",
      "language": "python",
      "name": "python3"
    },
    "associatedRecipe": "compute_good_columns",
    "creator": "rayan",
    "createdOn": 1628858407723,
    "tags": [
      "recipe-editor"
    ],
    "customFields": {}
  },
  "cells": [
    {
      "cell_type": "code",
      "metadata": {},
      "outputs": [],
      "execution_count": 0,
      "source": [
        "import dataiku\n",
        "import pandas as pd, numpy as np\n",
        "from dataiku import pandasutils as pdu"
      ]
    },
    {
      "cell_type": "code",
      "metadata": {},
      "outputs": [],
      "execution_count": 0,
      "source": [
        "# Read recipe inputs\n",
        "prepared \u003d dataiku.Dataset(\"prepared\")\n",
        "df \u003d prepared.get_dataframe()\n",
        "df.head()"
      ]
    },
    {
      "cell_type": "code",
      "metadata": {},
      "outputs": [],
      "execution_count": 0,
      "source": [
        "#On fait des sous daframes pour pouvoir faire les modifications sur tout les brokers en memes temps\n",
        "\n",
        "df0 \u003d df[[\"data.result.0.metric\",\"data.result.0.values\"]]\n",
        "df1 \u003d df[[\"data.result.1.metric\",\"data.result.1.values\"]]\n",
        "df2 \u003d df[[\"data.result.2.metric\",\"data.result.2.values\"]]\n",
        "df3 \u003d df[[\"data.result.3.metric\",\"data.result.3.values\"]]\n",
        "df4 \u003d df[[\"data.result.4.metric\",\"data.result.4.values\"]]\n",
        "\n",
        "df5 \u003d df[[\"data.result.5.metric\",\"data.result.5.values\"]]\n",
        "df6 \u003d df[[\"data.result.6.metric\",\"data.result.6.values\"]]\n",
        "df7 \u003d df[[\"data.result.7.metric\",\"data.result.7.values\"]]\n",
        "df8 \u003d df[[\"data.result.8.metric\",\"data.result.8.values\"]]\n",
        "df9 \u003d df[[\"data.result.9.metric\",\"data.result.9.values\"]]\n",
        "\n",
        "df10 \u003d df[[\"data.result.10.metric\",\"data.result.10.values\"]]\n",
        "df11 \u003d df[[\"data.result.11.metric\",\"data.result.11.values\"]]\n",
        "df12 \u003d df[[\"data.result.12.metric\",\"data.result.12.values\"]]\n",
        "df13 \u003d df[[\"data.result.13.metric\",\"data.result.13.values\"]]\n",
        "df14 \u003d df[[\"data.result.14.metric\",\"data.result.14.values\"]]\n",
        "\n",
        "df15 \u003d df[[\"data.result.15.metric\",\"data.result.15.values\"]]\n",
        "df16 \u003d df[[\"data.result.16.metric\",\"data.result.16.values\"]]\n",
        "df17 \u003d df[[\"data.result.17.metric\",\"data.result.17.values\"]]\n",
        "df18 \u003d df[[\"data.result.18.metric\",\"data.result.18.values\"]]\n",
        "df19 \u003d df[[\"data.result.19.metric\",\"data.result.19.values\"]]\n",
        "\n",
        "df20 \u003d df[[\"data.result.20.metric\",\"data.result.20.values\"]]\n",
        "df21 \u003d df[[\"data.result.21.metric\",\"data.result.21.values\"]]\n",
        "df22 \u003d df[[\"data.result.22.metric\",\"data.result.22.values\"]]\n",
        "df23 \u003d df[[\"data.result.23.metric\",\"data.result.23.values\"]]\n",
        "df24 \u003d df[[\"data.result.24.metric\",\"data.result.24.values\"]]\n",
        "\n",
        "df25 \u003d df[[\"data.result.25.metric\",\"data.result.25.values\"]]\n",
        "df26 \u003d df[[\"data.result.26.metric\",\"data.result.26.values\"]]\n",
        "df27 \u003d df[[\"data.result.27.metric\",\"data.result.27.values\"]]\n",
        "df28 \u003d df[[\"data.result.28.metric\",\"data.result.28.values\"]]\n",
        "df29 \u003d df[[\"data.result.29.metric\",\"data.result.29.values\"]]"
      ]
    },
    {
      "cell_type": "code",
      "metadata": {},
      "outputs": [],
      "execution_count": 0,
      "source": [
        "df0.head()"
      ]
    },
    {
      "cell_type": "code",
      "metadata": {},
      "outputs": [],
      "execution_count": 0,
      "source": [
        "for key, value in df0[\"data.result.0.metric\"]df0[\"data.result.0.metric\"].items():\n",
        "    if key \u003d\u003d \"hostname\":\n",
        "        print(value)\n",
        "    else :\n",
        "        print(\"non chackal\")"
      ]
    },
    {
      "cell_type": "code",
      "metadata": {},
      "outputs": [],
      "execution_count": 0,
      "source": [
        "df0[\"data.result.0.metric\"].items()"
      ]
    },
    {
      "cell_type": "code",
      "metadata": {},
      "outputs": [],
      "execution_count": 0,
      "source": [
        "good_columns_df \u003d df # For this sample code, simply copy input to output\n",
        "\n",
        "# Write recipe outputs\n",
        "good_columns \u003d dataiku.Dataset(\"good_columns\")\n",
        "good_columns.write_with_schema(good_columns_df)"
      ]
    }
  ]
}