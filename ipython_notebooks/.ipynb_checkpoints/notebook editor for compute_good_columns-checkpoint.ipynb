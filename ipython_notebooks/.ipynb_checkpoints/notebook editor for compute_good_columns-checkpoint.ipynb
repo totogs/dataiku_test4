{
  "nbformat": 4,
  "nbformat_minor": 0,
  "metadata": {
    "kernelspec": {
      "display_name": "Python 3",
      "language": "python",
      "name": "python3"
    },
    "associatedRecipe": "compute_good_columns",
    "creator": "rayan",
    "createdOn": 1628857342608,
    "tags": [
      "recipe-editor"
    ],
    "customFields": {}
  },
  "cells": [
    {
      "cell_type": "code",
      "metadata": {},
      "outputs": [],
      "execution_count": 0,
      "source": [
        "# -*- coding: utf-8 -*-\n",
        "import dataiku\n",
        "import pandas as pd, numpy as np\n",
        "from dataiku import pandasutils as pdu\n",
        "\n",
        "# Read recipe inputs\n",
        "prepared \u003d dataiku.Dataset(\"prepared\")\n",
        "prepared_df \u003d prepared.get_dataframe()\n",
        "\n",
        "\n",
        "# Compute recipe outputs from inputs\n",
        "# TODO: Replace this part by your actual code that computes the output, as a Pandas dataframe\n",
        "# NB: DSS also supports other kinds of APIs for reading and writing data. Please see doc.\n",
        "\n",
        "good_columns_df \u003d prepared_df # For this sample code, simply copy input to output\n",
        "\n",
        "\n",
        "# Write recipe outputs\n",
        "good_columns \u003d dataiku.Dataset(\"good_columns\")\n",
        "good_columns.write_with_schema(good_columns_df)"
      ]
    }
  ]
}