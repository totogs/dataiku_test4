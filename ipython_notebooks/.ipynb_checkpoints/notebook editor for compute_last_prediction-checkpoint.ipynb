{
  "nbformat": 4,
  "nbformat_minor": 0,
  "metadata": {
    "kernelspec": {
      "display_name": "Python 3",
      "language": "python",
      "name": "python3"
    },
    "associatedRecipe": "compute_last_prediction",
    "creator": "tony",
    "createdOn": 1629817580402,
    "tags": [
      "recipe-editor"
    ],
    "customFields": {}
  },
  "cells": [
    {
      "cell_type": "code",
      "metadata": {},
      "outputs": [],
      "execution_count": 0,
      "source": [
        "# -*- coding: utf-8 -*-\n",
        "import dataiku\n",
        "import pandas as pd, numpy as np\n",
        "from dataiku import pandasutils as pdu\n",
        "\n",
        "# Read recipe inputs\n",
        "json_prepared_filtered \u003d dataiku.Dataset(\"Json_prepared_filtered\")\n",
        "df \u003d json_prepared_filtered.get_dataframe()"
      ]
    },
    {
      "cell_type": "code",
      "metadata": {},
      "outputs": [],
      "execution_count": 0,
      "source": [
        "import math\n",
        "\n",
        "import tensorflow as tf\n",
        "from tensorflow import keras\n",
        "from tensorflow.keras import layers\n",
        "from tensorflow.keras.utils import Sequence\n",
        "from datetime import timedelta\n",
        "from sklearn.preprocessing import MinMaxScaler\n",
        "from sklearn.metrics import mean_squared_error\n",
        "\n",
        "import numpy as np\n",
        "import pandas as pd\n",
        "import time\n",
        "\n",
        "import os"
      ]
    },
    {
      "cell_type": "code",
      "metadata": {},
      "outputs": [],
      "execution_count": 0,
      "source": [
        "del df[\u0027Timestamp\u0027]\n",
        "df_cpy  \u003d df.set_index(\u0027date\u0027)"
      ]
    },
    {
      "cell_type": "code",
      "metadata": {},
      "outputs": [],
      "execution_count": 0,
      "source": [
        "val \u003d df_cpy\n",
        "scalers\u003d{}\n",
        "for i in df_cpy.columns:\n",
        "    scaler \u003d MinMaxScaler(feature_range\u003d(-1,1))\n",
        "    s_s \u003d scaler.fit_transform(val[i].values.reshape(-1,1))\n",
        "    s_s\u003dnp.reshape(s_s,len(s_s))\n",
        "    scalers[\u0027scaler_\u0027+ i] \u003d scaler\n",
        "    val[i]\u003ds_s"
      ]
    },
    {
      "cell_type": "code",
      "metadata": {},
      "outputs": [],
      "execution_count": 0,
      "source": [
        "val_to_pred \u003d val.values\n",
        "val_to_pred \u003d val_to_pred.reshape((1, val_to_pred.shape[0],val_to_pred.shape[1]))"
      ]
    },
    {
      "cell_type": "code",
      "metadata": {},
      "outputs": [],
      "execution_count": 0,
      "source": [
        "handle \u003d dataiku.Folder(\"models\")\n",
        "json_config \u003d handle.read_json(\"model_json\")\n",
        "model \u003d keras.models.model_from_json(json_config)"
      ]
    },
    {
      "cell_type": "code",
      "metadata": {},
      "outputs": [],
      "execution_count": 0,
      "source": [
        "val_pred \u003d model.predict(val_to_pred)"
      ]
    },
    {
      "cell_type": "code",
      "metadata": {},
      "outputs": [],
      "execution_count": 0,
      "source": [
        "val \u003d val_pred.squeeze()\n",
        "val.shape"
      ]
    },
    {
      "cell_type": "code",
      "metadata": {},
      "outputs": [],
      "execution_count": 0,
      "source": [
        "lastdate \u003d df[\"date\"].max()\n",
        "print(lastdate)\n",
        "for i in range(len(val)):\n",
        "    lastdate \u003d lastdate + timedelta(minutes\u003d15)\n",
        "    df.append()"
      ]
    },
    {
      "cell_type": "code",
      "metadata": {},
      "outputs": [],
      "execution_count": 0,
      "source": [
        "# Compute recipe outputs from inputs\n",
        "# TODO: Replace this part by your actual code that computes the output, as a Pandas dataframe\n",
        "# NB: DSS also supports other kinds of APIs for reading and writing data. Please see doc.\n",
        "\n",
        "last_prediction_df \u003d json_prepared_filtered_df # For this sample code, simply copy input to output\n",
        "\n",
        "\n",
        "# Write recipe outputs\n",
        "last_prediction \u003d dataiku.Dataset(\"last_prediction\")\n",
        "last_prediction.write_with_schema(last_prediction_df)"
      ]
    }
  ]
}