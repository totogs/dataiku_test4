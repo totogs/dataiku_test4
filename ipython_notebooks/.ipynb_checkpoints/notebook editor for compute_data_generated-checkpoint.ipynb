{
  "nbformat": 4,
  "nbformat_minor": 0,
  "metadata": {
    "kernelspec": {
      "display_name": "Python 3",
      "language": "python",
      "name": "python3"
    },
    "associatedRecipe": "compute_data_generated",
    "creator": "tony",
    "createdOn": 1629885541634,
    "tags": [
      "recipe-editor"
    ],
    "customFields": {}
  },
  "cells": [
    {
      "cell_type": "code",
      "metadata": {},
      "outputs": [],
      "execution_count": 0,
      "source": [
        "# -*- coding: utf-8 -*-\n",
        "import dataiku\n",
        "import pandas as pd, numpy as np\n",
        "from dataiku import pandasutils as pdu\n",
        "\n",
        "\n",
        "# Read recipe inputs\n",
        "json_prepared \u003d dataiku.Dataset(\"json_stacked_distinct\")\n",
        "df \u003d json_prepared.get_dataframe()"
      ]
    },
    {
      "cell_type": "code",
      "metadata": {},
      "outputs": [],
      "execution_count": 0,
      "source": [
        "from datetime import timedelta\n",
        "from datetime import datetime\n",
        "import random"
      ]
    },
    {
      "cell_type": "code",
      "metadata": {},
      "outputs": [],
      "execution_count": 0,
      "source": [
        "max_index \u003d len(df)-10\n",
        "random_index \u003d random.randint(0,max_index)"
      ]
    },
    {
      "cell_type": "code",
      "metadata": {},
      "outputs": [],
      "execution_count": 0,
      "source": [
        "df_generated \u003d df[random_index:random_index+10]"
      ]
    },
    {
      "cell_type": "code",
      "metadata": {},
      "outputs": [],
      "execution_count": 0,
      "source": [
        "actualdate \u003d df_generated[\"date\"].max()\n",
        "listdate \u003d []\n",
        "for i in range(len(df_generated)):\n",
        "    actualdate \u003d actualdate + timedelta(minutes\u003d15)\n",
        "    listdate.append(actualdate)"
      ]
    },
    {
      "cell_type": "code",
      "metadata": {},
      "outputs": [],
      "execution_count": 0,
      "source": [
        "listdate.reverse()\n",
        "df_generated[\"date\"] \u003d listdate"
      ]
    },
    {
      "cell_type": "code",
      "metadata": {},
      "outputs": [],
      "execution_count": 0,
      "source": [
        "df_generated"
      ]
    },
    {
      "cell_type": "code",
      "metadata": {},
      "outputs": [],
      "execution_count": 0,
      "source": [
        "# Compute recipe outputs\n",
        "# TODO: Write here your actual code that computes the outputs\n",
        "# NB: DSS supports several kinds of APIs for reading and writing data. Please see doc.\n",
        "\n",
        "\n",
        "# Write recipe outputs\n",
        "data_generated \u003d dataiku.Dataset(\"data_generated\")\n",
        "data_generated.write_with_schema(df_generated)"
      ]
    }
  ]
}