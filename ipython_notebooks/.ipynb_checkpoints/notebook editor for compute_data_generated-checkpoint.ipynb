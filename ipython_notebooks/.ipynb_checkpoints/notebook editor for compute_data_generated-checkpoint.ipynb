{
  "nbformat": 4,
  "nbformat_minor": 0,
  "metadata": {
    "kernelspec": {
      "display_name": "Python 3",
      "language": "python",
      "name": "python3"
    },
    "associatedRecipe": "compute_data_generated",
    "creator": "tony",
    "createdOn": 1629820935821,
    "tags": [
      "recipe-editor"
    ],
    "customFields": {}
  },
  "cells": [
    {
      "cell_type": "code",
      "metadata": {},
      "outputs": [],
      "execution_count": 0,
      "source": [
        "# -*- coding: utf-8 -*-\n",
        "import dataiku\n",
        "import pandas as pd, numpy as np\n",
        "from dataiku import pandasutils as pdu\n",
        "\n",
        "\n",
        "\n",
        "# Compute recipe outputs\n",
        "# TODO: Write here your actual code that computes the outputs\n",
        "# NB: DSS supports several kinds of APIs for reading and writing data. Please see doc.\n",
        "\n",
        "data_generated_df \u003d ... # Compute a Pandas dataframe to write into data_generated\n",
        "\n",
        "\n",
        "# Write recipe outputs\n",
        "data_generated \u003d dataiku.Dataset(\"data_generated\")\n",
        "data_generated.write_with_schema(data_generated_df)"
      ]
    }
  ]
}