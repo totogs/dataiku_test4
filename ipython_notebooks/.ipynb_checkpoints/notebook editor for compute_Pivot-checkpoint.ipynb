{
  "nbformat": 4,
  "nbformat_minor": 0,
  "metadata": {
    "kernelspec": {
      "display_name": "Python 3",
      "language": "python",
      "name": "python3"
    },
    "associatedRecipe": "compute_Pivot",
    "creator": "rayan",
    "createdOn": 1629124364899,
    "tags": [
      "recipe-editor"
    ],
    "customFields": {}
  },
  "cells": [
    {
      "cell_type": "code",
      "metadata": {},
      "outputs": [],
      "execution_count": 0,
      "source": [
        "# -*- coding: utf-8 -*-\n",
        "import dataiku\n",
        "import pandas as pd, numpy as np\n",
        "from dataiku import pandasutils as pdu\n",
        "\n",
        "# Read recipe inputs\n",
        "json \u003d dataiku.Dataset(\"Json\")\n",
        "df \u003d json.get_dataframe()\n",
        "df.head(10)"
      ]
    },
    {
      "cell_type": "code",
      "metadata": {},
      "outputs": [],
      "execution_count": 0,
      "source": [
        "df\u003dpd.pivot_table(df,index\u003d[\u0027shopCode\u0027,\u0027Product\u0027],columns\u003ddf.groupby([\u0027shopCode\u0027,\u0027Product\u0027]).cumcount().add(1),values\u003d[\u0027Code\u0027,\u0027Score\u0027],aggfunc\u003d\u0027sum\u0027)"
      ]
    },
    {
      "cell_type": "code",
      "metadata": {},
      "outputs": [],
      "execution_count": 0,
      "source": [
        "# Write recipe outputs\n",
        "pivot \u003d dataiku.Dataset(\"Pivot\")\n",
        "pivot.write_with_schema(df)"
      ]
    }
  ]
}