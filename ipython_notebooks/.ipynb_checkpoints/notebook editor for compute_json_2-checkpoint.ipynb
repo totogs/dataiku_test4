{
  "nbformat": 4,
  "nbformat_minor": 0,
  "metadata": {
    "kernelspec": {
      "display_name": "Python 3",
      "language": "python",
      "name": "python3"
    },
    "associatedRecipe": "compute_json_2",
    "creator": "tony",
    "createdOn": 1629884312521,
    "tags": [
      "recipe-editor"
    ],
    "customFields": {}
  },
  "cells": [
    {
      "cell_type": "code",
      "metadata": {},
      "outputs": [],
      "execution_count": 0,
      "source": [
        "# -*- coding: utf-8 -*-\n",
        "import dataiku\n",
        "import pandas as pd, numpy as np\n",
        "from dataiku import pandasutils as pdu\n",
        "import json\n",
        "\n",
        "# Read recipe inputs\n",
        "disk_usage_25_08 \u003d dataiku.Dataset(\"disk_usage_25_08\")\n",
        "df \u003d disk_usage_25_08.get_dataframe()"
      ]
    },
    {
      "cell_type": "code",
      "metadata": {},
      "outputs": [],
      "execution_count": 0,
      "source": [
        "df.info()"
      ]
    },
    {
      "cell_type": "code",
      "metadata": {},
      "outputs": [],
      "execution_count": 0,
      "source": [
        "df"
      ]
    },
    {
      "cell_type": "code",
      "metadata": {},
      "outputs": [],
      "execution_count": 0,
      "source": [
        "for key, value in df[\"data\"].items():\n",
        "    print(value)\n",
        "    dict \u003d json.loads(value)\n",
        "dict"
      ]
    },
    {
      "cell_type": "code",
      "metadata": {},
      "outputs": [],
      "execution_count": 0,
      "source": [
        "df \u003d pd.json_normalize(dict[\"result\"])\n",
        "df \u003d df.explode(\u0027values\u0027)\n",
        "df[[\u0027Timestamp\u0027,\u0027CPU_Usage\u0027]] \u003d pd.DataFrame(df[\u0027values\u0027].tolist(),index\u003ddf.index)\n",
        "df"
      ]
    },
    {
      "cell_type": "code",
      "metadata": {},
      "outputs": [],
      "execution_count": 0,
      "source": [
        "df.rename(columns\u003d{\u0027metric.hostname\u0027: \u0027Broker\u0027, \u0027metric.dc\u0027: \u0027Data_Center\u0027,\u0027metric.mountpoint\u0027:\u0027Disk\u0027}, inplace\u003dTrue)\n",
        "df[\u0027Broker_Disk\u0027] \u003d df[\u0027Broker\u0027] + df[\u0027Disk\u0027]\n",
        "df \u003d df.drop([\u0027metric.cluster\u0027, \u0027metric.job\u0027,\u0027metric.device\u0027,\u0027metric.fstype\u0027,\u0027values\u0027,\u0027Broker\u0027,\u0027Disk\u0027], axis\u003d1)\n",
        "df"
      ]
    },
    {
      "cell_type": "code",
      "metadata": {},
      "outputs": [],
      "execution_count": 0,
      "source": [
        "list(df[\u0027Broker_Disk\u0027].unique())"
      ]
    },
    {
      "cell_type": "code",
      "metadata": {},
      "outputs": [],
      "execution_count": 0,
      "source": [
        "dfx \u003d pd.pivot_table ( df, index\u003d[\u0027Timestamp\u0027], columns \u003d df.groupby([\u0027Timestamp\u0027]).cumcount().add(1), values \u003d [\u0027CPU_Usage\u0027], aggfunc \u003d \u0027sum\u0027)\n",
        "dfx.columns \u003d list(df[\u0027Broker_Disk\u0027].unique())\n",
        "dfx \u003d dfx.reset_index()\n",
        "dfx"
      ]
    },
    {
      "cell_type": "code",
      "metadata": {},
      "outputs": [],
      "execution_count": 0,
      "source": [
        "df \u003d dfx\n",
        "\n",
        "\n",
        "\n",
        "# Write recipe outputs\n",
        "json_2 \u003d dataiku.Dataset(\"json_2\")\n",
        "json_2.write_with_schema(df)"
      ]
    }
  ]
}