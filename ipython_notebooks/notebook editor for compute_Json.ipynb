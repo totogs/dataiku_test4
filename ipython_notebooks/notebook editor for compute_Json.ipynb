{
  "metadata": {
    "kernelspec": {
      "name": "py-dku-venv-pre-pross",
      "display_name": "Python (env pre-pross)",
      "language": "python"
    },
    "creator": "rayan",
    "createdOn": 1629118756021,
    "tags": [
      "deleted-recipe-editor"
    ],
    "customFields": {},
    "language_info": {
      "name": "python",
      "version": "3.6.13",
      "mimetype": "text/x-python",
      "codemirror_mode": {
        "name": "ipython",
        "version": 3
      },
      "pygments_lexer": "ipython3",
      "nbconvert_exporter": "python",
      "file_extension": ".py"
    },
    "modifiedBy": "rayan"
  },
  "nbformat": 4,
  "nbformat_minor": 1,
  "cells": [
    {
      "execution_count": 10,
      "cell_type": "code",
      "metadata": {},
      "source": [
        "# -*- coding: utf-8 -*-\nimport dataiku\nimport pandas as pd, numpy as np\nfrom dataiku import pandasutils as pdu\nimport json"
      ],
      "outputs": []
    },
    {
      "execution_count": 6,
      "cell_type": "code",
      "metadata": {},
      "source": [
        "# Read recipe inputs\ndisk_usage \u003d dataiku.Dataset(\"disk_usage\")\ndf \u003d disk_usage.get_dataframe()"
      ],
      "outputs": []
    },
    {
      "execution_count": 7,
      "cell_type": "code",
      "metadata": {},
      "source": [
        "df.info()"
      ],
      "outputs": [
        {
          "output_type": "stream",
          "text": "\u003cclass \u0027pandas.core.frame.DataFrame\u0027\u003e\nRangeIndex: 1 entries, 0 to 0\nData columns (total 32 columns):\n #   Column           Non-Null Count  Dtype \n---  ------           --------------  ----- \n 0   status           1 non-null      object\n 1   data.resultType  1 non-null      object\n 2   data.result.0    1 non-null      object\n 3   data.result.1    1 non-null      object\n 4   data.result.2    1 non-null      object\n 5   data.result.3    1 non-null      object\n 6   data.result.4    1 non-null      object\n 7   data.result.5    1 non-null      object\n 8   data.result.6    1 non-null      object\n 9   data.result.7    1 non-null      object\n 10  data.result.8    1 non-null      object\n 11  data.result.9    1 non-null      object\n 12  data.result.10   1 non-null      object\n 13  data.result.11   1 non-null      object\n 14  data.result.12   1 non-null      object\n 15  data.result.13   1 non-null      object\n 16  data.result.14   1 non-null      object\n 17  data.result.15   1 non-null      object\n 18  data.result.16   1 non-null      object\n 19  data.result.17   1 non-null      object\n 20  data.result.18   1 non-null      object\n 21  data.result.19   1 non-null      object\n 22  data.result.20   1 non-null      object\n 23  data.result.21   1 non-null      object\n 24  data.result.22   1 non-null      object\n 25  data.result.23   1 non-null      object\n 26  data.result.24   1 non-null      object\n 27  data.result.25   1 non-null      object\n 28  data.result.26   1 non-null      object\n 29  data.result.27   1 non-null      object\n 30  data.result.28   1 non-null      object\n 31  data.result.29   1 non-null      object\ndtypes: object(32)\nmemory usage: 384.0+ bytes\n",
          "name": "stdout"
        }
      ]
    },
    {
      "execution_count": 8,
      "cell_type": "code",
      "metadata": {},
      "source": [
        "df0 \u003d df[[\"data.result.0\"]]\ndf1 \u003d df[[\"data.result.1\"]]\ndf2 \u003d df[[\"data.result.2\"]]\ndf3 \u003d df[[\"data.result.3\"]]\ndf4 \u003d df[[\"data.result.4\"]]\n\ndf5 \u003d df[[\"data.result.5\"]]\ndf6 \u003d df[[\"data.result.6\"]]\ndf7 \u003d df[[\"data.result.7\"]]\ndf8 \u003d df[[\"data.result.8\"]]\ndf9 \u003d df[[\"data.result.9\"]]\n\ndf10 \u003d df[[\"data.result.10\"]]\ndf11 \u003d df[[\"data.result.11\"]]\ndf12 \u003d df[[\"data.result.12\"]]\ndf13 \u003d df[[\"data.result.13\"]]\ndf14 \u003d df[[\"data.result.14\"]]\n\ndf15 \u003d df[[\"data.result.15\"]]\ndf16 \u003d df[[\"data.result.16\"]]\ndf17 \u003d df[[\"data.result.17\"]]\ndf18 \u003d df[[\"data.result.18\"]]\ndf19 \u003d df[[\"data.result.19\"]]\n\ndf20 \u003d df[[\"data.result.20\"]]\ndf21 \u003d df[[\"data.result.21\"]]\ndf22 \u003d df[[\"data.result.22\"]]\ndf23 \u003d df[[\"data.result.23\"]]\ndf24 \u003d df[[\"data.result.24\"]]\n\ndf25 \u003d df[[\"data.result.25\"]]\ndf26 \u003d df[[\"data.result.26\"]]\ndf27 \u003d df[[\"data.result.27\"]]\ndf28 \u003d df[[\"data.result.28\"]]\ndf29 \u003d df[[\"data.result.29\"]]"
      ],
      "outputs": []
    },
    {
      "execution_count": 11,
      "cell_type": "code",
      "metadata": {},
      "source": [
        "json0 \u003d json.loads(df0)"
      ],
      "outputs": [
        {
          "output_type": "error",
          "ename": "TypeError",
          "evalue": "the JSON object must be str, bytes or bytearray, not \u0027DataFrame\u0027",
          "traceback": [
            "\u001b[0;31m---------------------------------------------------------------------------\u001b[0m",
            "\u001b[0;31mTypeError\u001b[0m                                 Traceback (most recent call last)",
            "\u001b[0;32m\u003cipython-input-11-5ae9594d4c1b\u003e\u001b[0m in \u001b[0;36m\u003cmodule\u003e\u001b[0;34m\u001b[0m\n\u001b[0;32m----\u003e 1\u001b[0;31m \u001b[0mjson0\u001b[0m \u001b[0;34m\u003d\u001b[0m \u001b[0mjson\u001b[0m\u001b[0;34m.\u001b[0m\u001b[0mloads\u001b[0m\u001b[0;34m(\u001b[0m\u001b[0mdf0\u001b[0m\u001b[0;34m)\u001b[0m\u001b[0;34m\u001b[0m\u001b[0;34m\u001b[0m\u001b[0m\n\u001b[0m",
            "\u001b[0;32m/usr/lib/python3.6/json/__init__.py\u001b[0m in \u001b[0;36mloads\u001b[0;34m(s, encoding, cls, object_hook, parse_float, parse_int, parse_constant, object_pairs_hook, **kw)\u001b[0m\n\u001b[1;32m    346\u001b[0m         \u001b[0;32mif\u001b[0m \u001b[0;32mnot\u001b[0m \u001b[0misinstance\u001b[0m\u001b[0;34m(\u001b[0m\u001b[0ms\u001b[0m\u001b[0;34m,\u001b[0m \u001b[0;34m(\u001b[0m\u001b[0mbytes\u001b[0m\u001b[0;34m,\u001b[0m \u001b[0mbytearray\u001b[0m\u001b[0;34m)\u001b[0m\u001b[0;34m)\u001b[0m\u001b[0;34m:\u001b[0m\u001b[0;34m\u001b[0m\u001b[0;34m\u001b[0m\u001b[0m\n\u001b[1;32m    347\u001b[0m             raise TypeError(\u0027the JSON object must be str, bytes or bytearray, \u0027\n\u001b[0;32m--\u003e 348\u001b[0;31m                             \u0027not {!r}\u0027.format(s.__class__.__name__))\n\u001b[0m\u001b[1;32m    349\u001b[0m         \u001b[0ms\u001b[0m \u001b[0;34m\u003d\u001b[0m \u001b[0ms\u001b[0m\u001b[0;34m.\u001b[0m\u001b[0mdecode\u001b[0m\u001b[0;34m(\u001b[0m\u001b[0mdetect_encoding\u001b[0m\u001b[0;34m(\u001b[0m\u001b[0ms\u001b[0m\u001b[0;34m)\u001b[0m\u001b[0;34m,\u001b[0m \u001b[0;34m\u0027surrogatepass\u0027\u001b[0m\u001b[0;34m)\u001b[0m\u001b[0;34m\u001b[0m\u001b[0;34m\u001b[0m\u001b[0m\n\u001b[1;32m    350\u001b[0m \u001b[0;34m\u001b[0m\u001b[0m\n",
            "\u001b[0;31mTypeError\u001b[0m: the JSON object must be str, bytes or bytearray, not \u0027DataFrame\u0027"
          ]
        }
      ]
    },
    {
      "execution_count": 0,
      "cell_type": "code",
      "metadata": {},
      "source": [
        "# Write recipe outputs\njson \u003d dataiku.Dataset(\"Json\")\njson.write_with_schema(df)"
      ],
      "outputs": []
    }
  ]
}