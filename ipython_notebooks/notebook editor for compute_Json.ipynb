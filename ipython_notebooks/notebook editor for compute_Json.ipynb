{
  "metadata": {
    "kernelspec": {
      "name": "py-dku-venv-pre-pross",
      "display_name": "Python (env pre-pross)",
      "language": "python"
    },
    "associatedRecipe": "compute_Json",
    "creator": "rayan",
    "createdOn": 1629118756021,
    "tags": [
      "recipe-editor"
    ],
    "customFields": {},
    "language_info": {
      "name": "python",
      "version": "3.6.13",
      "mimetype": "text/x-python",
      "codemirror_mode": {
        "name": "ipython",
        "version": 3
      },
      "pygments_lexer": "ipython3",
      "nbconvert_exporter": "python",
      "file_extension": ".py"
    },
    "modifiedBy": "rayan"
  },
  "nbformat": 4,
  "nbformat_minor": 1,
  "cells": [
    {
      "execution_count": 5,
      "cell_type": "code",
      "metadata": {},
      "source": [
        "# -*- coding: utf-8 -*-\nimport dataiku\nimport pandas as pd, numpy as np\nfrom dataiku import pandasutils as pdu"
      ],
      "outputs": []
    },
    {
      "execution_count": 6,
      "cell_type": "code",
      "metadata": {},
      "source": [
        "# Read recipe inputs\ndisk_usage \u003d dataiku.Dataset(\"disk_usage\")\ndf \u003d disk_usage.get_dataframe()"
      ],
      "outputs": []
    },
    {
      "execution_count": 7,
      "cell_type": "code",
      "metadata": {},
      "source": [
        "df.info()"
      ],
      "outputs": [
        {
          "output_type": "stream",
          "text": "\u003cclass \u0027pandas.core.frame.DataFrame\u0027\u003e\nRangeIndex: 1 entries, 0 to 0\nData columns (total 32 columns):\n #   Column           Non-Null Count  Dtype \n---  ------           --------------  ----- \n 0   status           1 non-null      object\n 1   data.resultType  1 non-null      object\n 2   data.result.0    1 non-null      object\n 3   data.result.1    1 non-null      object\n 4   data.result.2    1 non-null      object\n 5   data.result.3    1 non-null      object\n 6   data.result.4    1 non-null      object\n 7   data.result.5    1 non-null      object\n 8   data.result.6    1 non-null      object\n 9   data.result.7    1 non-null      object\n 10  data.result.8    1 non-null      object\n 11  data.result.9    1 non-null      object\n 12  data.result.10   1 non-null      object\n 13  data.result.11   1 non-null      object\n 14  data.result.12   1 non-null      object\n 15  data.result.13   1 non-null      object\n 16  data.result.14   1 non-null      object\n 17  data.result.15   1 non-null      object\n 18  data.result.16   1 non-null      object\n 19  data.result.17   1 non-null      object\n 20  data.result.18   1 non-null      object\n 21  data.result.19   1 non-null      object\n 22  data.result.20   1 non-null      object\n 23  data.result.21   1 non-null      object\n 24  data.result.22   1 non-null      object\n 25  data.result.23   1 non-null      object\n 26  data.result.24   1 non-null      object\n 27  data.result.25   1 non-null      object\n 28  data.result.26   1 non-null      object\n 29  data.result.27   1 non-null      object\n 30  data.result.28   1 non-null      object\n 31  data.result.29   1 non-null      object\ndtypes: object(32)\nmemory usage: 384.0+ bytes\n",
          "name": "stdout"
        }
      ]
    },
    {
      "execution_count": 0,
      "cell_type": "code",
      "metadata": {},
      "source": [
        "df0 \u003d df[[\"data.result.0\"]]\ndf1 \u003d df[[\"data.result.1\"]]\ndf2 \u003d df[[\"data.result.2\"]]\ndf3 \u003d df[[\"data.result.3\"]]\ndf4 \u003d df[[\"data.result.4\"]]\n\ndf5 \u003d df[[\"data.result.5\"]]\ndf6 \u003d df[[\"data.result.6\"]]\ndf7 \u003d df[[\"data.result.7\"]]\ndf8 \u003d df[[\"data.result.8\"]]\ndf9 \u003d df[[\"data.result.9\"]]\n\ndf10 \u003d df[[\"data.result.10\"]]\ndf11 \u003d df[[\"data.result.11\"]]\ndf12 \u003d df[[\"data.result.12\"]]\ndf13 \u003d df[[\"data.result.13\"]]\ndf14 \u003d df[[\"data.result.14\"]]\n\ndf15 \u003d df[[\"data.result.15\"]]\ndf16 \u003d df[[\"data.result.16\"]]\ndf17 \u003d df[[\"data.result.17\"]]\ndf18 \u003d df[[\"data.result.18\"]]\ndf19 \u003d df[[\"data.result.19_metric\",\"data.result.19_values\"]]\n\ndf20 \u003d df[[\"data.result.20_metric\",\"data.result.20_values\"]]\ndf21 \u003d df[[\"data.result.21_metric\",\"data.result.21_values\"]]\ndf22 \u003d df[[\"data.result.22_metric\",\"data.result.22_values\"]]\ndf23 \u003d df[[\"data.result.23_metric\",\"data.result.23_values\"]]\ndf24 \u003d df[[\"data.result.24_metric\",\"data.result.24_values\"]]\n\ndf25 \u003d df[[\"data.result.25_metric\",\"data.result.25_values\"]]\ndf26 \u003d df[[\"data.result.26_metric\",\"data.result.26_values\"]]\ndf27 \u003d df[[\"data.result.27_metric\",\"data.result.27_values\"]]\ndf28 \u003d df[[\"data.result.28_metric\",\"data.result.28_values\"]]\ndf29 \u003d df[[\"data.result.29_metric\",\"data.result.29_values\"]]"
      ],
      "outputs": []
    },
    {
      "execution_count": 0,
      "cell_type": "code",
      "metadata": {},
      "source": [
        "json \u003d json.loads(df)"
      ],
      "outputs": []
    },
    {
      "execution_count": 0,
      "cell_type": "code",
      "metadata": {},
      "source": [
        "# Write recipe outputs\njson \u003d dataiku.Dataset(\"Json\")\njson.write_with_schema(df)"
      ],
      "outputs": []
    }
  ]
}