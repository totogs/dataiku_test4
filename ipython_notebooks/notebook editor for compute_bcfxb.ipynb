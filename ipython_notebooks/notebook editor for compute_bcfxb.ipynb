{
  "metadata": {
    "kernelspec": {
      "name": "py-dku-venv-pre-pross",
      "display_name": "Python (env pre-pross)",
      "language": "python"
    },
    "associatedRecipe": "compute_bcfxb",
    "creator": "rayan",
    "createdOn": 1629116559716,
    "tags": [
      "recipe-editor"
    ],
    "customFields": {},
    "language_info": {
      "name": "python",
      "version": "3.6.13",
      "mimetype": "text/x-python",
      "codemirror_mode": {
        "name": "ipython",
        "version": 3
      },
      "pygments_lexer": "ipython3",
      "nbconvert_exporter": "python",
      "file_extension": ".py"
    },
    "modifiedBy": "rayan"
  },
  "nbformat": 4,
  "nbformat_minor": 1,
  "cells": [
    {
      "execution_count": 2,
      "cell_type": "code",
      "metadata": {},
      "source": [
        "# -*- coding: utf-8 -*-\nimport dataiku\nimport pandas as pd, numpy as np\nfrom dataiku import pandasutils as pdu"
      ],
      "outputs": []
    },
    {
      "execution_count": 3,
      "cell_type": "code",
      "metadata": {},
      "source": [
        "# Read recipe inputs\ngood_columns_prepared \u003d dataiku.Dataset(\"good_columns_prepared\")\ndf \u003d good_columns_prepared.get_dataframe()"
      ],
      "outputs": []
    },
    {
      "execution_count": 4,
      "cell_type": "code",
      "metadata": {},
      "source": [
        "df.info()"
      ],
      "outputs": [
        {
          "output_type": "stream",
          "text": "\u003cclass \u0027pandas.core.frame.DataFrame\u0027\u003e\nRangeIndex: 3964 entries, 0 to 3963\nData columns (total 4 columns):\n #   Column                Non-Null Count  Dtype \n---  ------                --------------  ----- \n 0   data.result.0_values  3964 non-null   object\n 1   Broker                3964 non-null   object\n 2   Disk                  3964 non-null   object\n 3   Data_Center           3964 non-null   object\ndtypes: object(4)\nmemory usage: 124.0+ KB\n",
          "name": "stdout"
        }
      ]
    },
    {
      "execution_count": 1,
      "cell_type": "code",
      "metadata": {},
      "source": [
        "df.head()"
      ],
      "outputs": [
        {
          "output_type": "error",
          "ename": "NameError",
          "evalue": "name \u0027df\u0027 is not defined",
          "traceback": [
            "\u001b[0;31m---------------------------------------------------------------------------\u001b[0m",
            "\u001b[0;31mNameError\u001b[0m                                 Traceback (most recent call last)",
            "\u001b[0;32m\u003cipython-input-1-c42a15b2c7cf\u003e\u001b[0m in \u001b[0;36m\u003cmodule\u003e\u001b[0;34m\u001b[0m\n\u001b[0;32m----\u003e 1\u001b[0;31m \u001b[0mdf\u001b[0m\u001b[0;34m.\u001b[0m\u001b[0mhead\u001b[0m\u001b[0;34m(\u001b[0m\u001b[0;34m)\u001b[0m\u001b[0;34m\u001b[0m\u001b[0;34m\u001b[0m\u001b[0m\n\u001b[0m",
            "\u001b[0;31mNameError\u001b[0m: name \u0027df\u0027 is not defined"
          ]
        }
      ]
    },
    {
      "execution_count": 0,
      "cell_type": "code",
      "metadata": {},
      "source": [
        "df \u003d pd.DataFrame(data\u003dnumpy_data, index\u003d[\"row1\", \"row2\"], columns\u003d[\"column1\", \"column2\"])"
      ],
      "outputs": []
    },
    {
      "execution_count": 0,
      "cell_type": "code",
      "metadata": {},
      "source": [
        "# Write recipe outputs\nbcfxb \u003d dataiku.Dataset(\"bcfxb\")\nbcfxb.write_with_schema(df)"
      ],
      "outputs": []
    }
  ]
}