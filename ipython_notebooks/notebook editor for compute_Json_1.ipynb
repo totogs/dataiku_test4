{
  "metadata": {
    "kernelspec": {
      "name": "py-dku-venv-pre-pross",
      "display_name": "Python (env pre-pross)",
      "language": "python"
    },
    "associatedRecipe": "compute_Json",
    "creator": "rayan",
    "createdOn": 1629120342576,
    "tags": [
      "recipe-editor"
    ],
    "customFields": {},
    "language_info": {
      "name": "python",
      "version": "3.6.13",
      "mimetype": "text/x-python",
      "codemirror_mode": {
        "name": "ipython",
        "version": 3
      },
      "pygments_lexer": "ipython3",
      "nbconvert_exporter": "python",
      "file_extension": ".py"
    },
    "modifiedBy": "rayan"
  },
  "nbformat": 4,
  "nbformat_minor": 1,
  "cells": [
    {
      "execution_count": 0,
      "cell_type": "code",
      "metadata": {},
      "source": [
        "# -*- coding: utf-8 -*-\nimport dataiku\nimport pandas as pd, numpy as np\nfrom dataiku import pandasutils as pdu\n\n# Read recipe inputs\ndisk_usage \u003d dataiku.Dataset(\"disk_usage\")\ndf \u003d disk_usage.get_dataframe()"
      ],
      "outputs": []
    },
    {
      "execution_count": 0,
      "cell_type": "code",
      "metadata": {},
      "source": [
        "# Write recipe outputs\njson \u003d dataiku.Dataset(\"Json\")\njson.write_with_schema(df)"
      ],
      "outputs": []
    }
  ]
}