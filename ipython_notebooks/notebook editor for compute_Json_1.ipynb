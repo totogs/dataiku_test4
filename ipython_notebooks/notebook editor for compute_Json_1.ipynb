{
  "metadata": {
    "kernelspec": {
      "name": "python3",
      "display_name": "Python 3",
      "language": "python"
    },
    "associatedRecipe": "compute_Json",
    "creator": "tony",
    "createdOn": 1629813083352,
    "tags": [
      "recipe-editor"
    ],
    "customFields": {},
    "language_info": {
      "name": "python",
      "version": "3.6.13",
      "mimetype": "text/x-python",
      "codemirror_mode": {
        "name": "ipython",
        "version": 3
      },
      "pygments_lexer": "ipython3",
      "nbconvert_exporter": "python",
      "file_extension": ".py"
    },
    "modifiedBy": "tony"
  },
  "nbformat": 4,
  "nbformat_minor": 1,
  "cells": [
    {
      "execution_count": 0,
      "cell_type": "code",
      "metadata": {},
      "source": [
        "# -*- coding: utf-8 -*-\nimport dataiku\nimport pandas as pd, numpy as np\nfrom dataiku import pandasutils as pdu\nimport json\n\n# Read recipe inputs\ndisk_usage \u003d dataiku.Dataset(\"disk_usage\")\ndf \u003d disk_usage.get_dataframe()"
      ],
      "outputs": []
    },
    {
      "execution_count": 0,
      "cell_type": "code",
      "metadata": {},
      "source": [
        "df.info()"
      ],
      "outputs": []
    },
    {
      "execution_count": 0,
      "cell_type": "code",
      "metadata": {},
      "source": [
        "df"
      ],
      "outputs": []
    },
    {
      "execution_count": 0,
      "cell_type": "code",
      "metadata": {},
      "source": [
        "for key, value in df[\"data\"].items():\n    print(value)\n    dict \u003d json.loads(value)\ndict"
      ],
      "outputs": []
    },
    {
      "execution_count": 0,
      "cell_type": "code",
      "metadata": {},
      "source": [
        "df \u003d pd.json_normalize(dict[\"result\"])\ndf \u003d df.explode(\u0027values\u0027)\ndf[[\u0027Timestamp\u0027,\u0027CPU_Usage\u0027]] \u003d pd.DataFrame(df[\u0027values\u0027].tolist(),index\u003ddf.index)\ndf"
      ],
      "outputs": []
    },
    {
      "execution_count": 0,
      "cell_type": "code",
      "metadata": {},
      "source": [
        "df.rename(columns\u003d{\u0027metric.hostname\u0027: \u0027Broker\u0027, \u0027metric.dc\u0027: \u0027Data_Center\u0027,\u0027metric.mountpoint\u0027:\u0027Disk\u0027}, inplace\u003dTrue)\ndf[\u0027Broker_Disk\u0027] \u003d df[\u0027Broker\u0027] + df[\u0027Disk\u0027]\ndf \u003d df.drop([\u0027metric.cluster\u0027, \u0027metric.job\u0027,\u0027metric.device\u0027,\u0027metric.fstype\u0027,\u0027values\u0027,\u0027Broker\u0027,\u0027Disk\u0027], axis\u003d1)\ndf"
      ],
      "outputs": []
    },
    {
      "execution_count": 0,
      "cell_type": "code",
      "metadata": {},
      "source": [
        "list(df[\u0027Broker_Disk\u0027].unique())"
      ],
      "outputs": []
    },
    {
      "execution_count": 0,
      "cell_type": "code",
      "metadata": {},
      "source": [
        "dfx \u003d pd.pivot_table ( df, index\u003d[\u0027Timestamp\u0027], columns \u003d df.groupby([\u0027Timestamp\u0027]).cumcount().add(1), values \u003d [\u0027CPU_Usage\u0027], aggfunc \u003d \u0027sum\u0027)\ndfx.columns \u003d list(df[\u0027Broker_Disk\u0027].unique())\ndfx \u003d dfx.reset_index()\ndfx"
      ],
      "outputs": []
    },
    {
      "execution_count": 0,
      "cell_type": "code",
      "metadata": {},
      "source": [
        "df \u003d dfx"
      ],
      "outputs": []
    },
    {
      "execution_count": 0,
      "cell_type": "code",
      "metadata": {},
      "source": [
        "# Write recipe outputs\njson \u003d dataiku.Dataset(\"Json\")\njson.write_with_schema(df)"
      ],
      "outputs": []
    }
  ]
}