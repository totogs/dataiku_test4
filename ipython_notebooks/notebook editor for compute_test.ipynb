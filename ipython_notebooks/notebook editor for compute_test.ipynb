{
  "metadata": {
    "kernelspec": {
      "name": "py-dku-venv-pre-pross",
      "display_name": "Python (env pre-pross)",
      "language": "python"
    },
    "creator": "rayan",
    "createdOn": 1629119311795,
    "tags": [
      "deleted-recipe-editor"
    ],
    "customFields": {},
    "language_info": {
      "name": "python",
      "version": "3.6.13",
      "mimetype": "text/x-python",
      "codemirror_mode": {
        "name": "ipython",
        "version": 3
      },
      "pygments_lexer": "ipython3",
      "nbconvert_exporter": "python",
      "file_extension": ".py"
    },
    "modifiedBy": "rayan"
  },
  "nbformat": 4,
  "nbformat_minor": 1,
  "cells": [
    {
      "execution_count": 1,
      "cell_type": "code",
      "metadata": {},
      "source": [
        "# -*- coding: utf-8 -*-\nimport dataiku\nimport pandas as pd, numpy as np\nfrom dataiku import pandasutils as pdu\n\n# Read recipe inputs\ngood_columns_prepared \u003d dataiku.Dataset(\"good_columns_prepared\")\ndf \u003d good_columns_prepared.get_dataframe()\ndf.head(5)"
      ],
      "outputs": [
        {
          "output_type": "execute_result",
          "execution_count": 1,
          "data": {
            "text/plain": "                  data.result.0_values      Broker Disk Data_Center\n0  [\"1624601700\",\"16.318256082554285\"]  broker-102    /   dalembert\n1  [\"1624602600\",\"16.201162504168707\"]  broker-102    /   dalembert\n2  [\"1624603500\",\"16.240144417161986\"]  broker-102    /   dalembert\n3  [\"1624604400\",\"16.166954373278003\"]  broker-102    /   dalembert\n4   [\"1624605300\",\"16.24035425373792\"]  broker-102    /   dalembert",
            "text/html": "\n            \u003cbutton style\u003d\"display:none\" \n            class\u003d\"btn btn-default ipython-export-btn\" \n            id\u003d\"btn-df-f756ab30-c4f4-474d-8001-bcf4638cf053\" \n            onclick\u003d\"_export_df(\u0027f756ab30-c4f4-474d-8001-bcf4638cf053\u0027)\"\u003e\n                Export dataframe\n            \u003c/button\u003e\n            \n            \u003cscript\u003e\n                \n                function _check_export_df_possible(dfid,yes_fn,no_fn) {\n                    console.log(\u0027Checking dataframe exportability...\u0027)\n                    if(!IPython || !IPython.notebook || !IPython.notebook.kernel || !IPython.notebook.kernel) {\n                        console.log(\u0027Export is not possible (IPython kernel is not available)\u0027)\n                        if(no_fn) {\n                            no_fn();\n                        }\n                    } else {\n                        var pythonCode \u003d \u0027from dataiku.notebook.export import IPythonExporter;IPythonExporter._check_export_stdout(\"\u0027+dfid+\u0027\")\u0027;\n                        IPython.notebook.kernel.execute(pythonCode,{iopub: {output: function(resp) {\n                            console.info(\"Exportability response\", resp);\n                            var size \u003d /^([0-9]+)x([0-9]+)$/.exec(resp.content.data || resp.content.text)\n                            if(!size) {\n                                console.log(\u0027Export is not possible (dataframe is not in-memory anymore)\u0027)\n                                if(no_fn) {\n                                    no_fn();\n                                }\n                            } else {\n                                console.log(\u0027Export is possible\u0027)\n                                if(yes_fn) {\n                                    yes_fn(1*size[1],1*size[2]);\n                                }\n                            }\n                        }}});\n                    }\n                }\n            \n                function _export_df(dfid) {\n                    \n                    var btn \u003d $(\u0027#btn-df-\u0027+dfid);\n                    var btns \u003d $(\u0027.ipython-export-btn\u0027);\n                    \n                    _check_export_df_possible(dfid,function() {\n                        \n                        window.parent.openExportModalFromIPython(\u0027Pandas dataframe\u0027,function(data) {\n                            btns.prop(\u0027disabled\u0027,true);\n                            btn.text(\u0027Exporting...\u0027);\n                            var command \u003d \u0027from dataiku.notebook.export import IPythonExporter;IPythonExporter._run_export(\"\u0027+dfid+\u0027\",\"\u0027+data.exportId+\u0027\")\u0027;\n                            var callback \u003d {iopub:{output: function(resp) {\n                                console.info(\"CB resp:\", resp);\n                                _check_export_df_possible(dfid,function(rows, cols) {\n                                    $(\u0027#btn-df-\u0027+dfid)\n                                        .css(\u0027display\u0027,\u0027inline-block\u0027)\n                                        .text(\u0027Export this dataframe (\u0027+rows+\u0027 rows, \u0027+cols+\u0027 cols)\u0027)\n                                        .prop(\u0027disabled\u0027,false);\n                                },function() {\n                                    $(\u0027#btn-df-\u0027+dfid).css(\u0027display\u0027,\u0027none\u0027);\n                                });\n                            }}};\n                            IPython.notebook.kernel.execute(command,callback,{silent:false}); // yes, silent now defaults to true. figures.\n                        });\n                    \n                    }, function(){\n                            alert(\u0027Unable to export : the Dataframe object is not loaded in memory\u0027);\n                            btn.css(\u0027display\u0027,\u0027none\u0027);\n                    });\n                    \n                }\n                \n                (function(dfid) {\n                \n                    var retryCount \u003d 10;\n                \n                    function is_valid_websock(s) {\n                        return s \u0026\u0026 s.readyState\u003d\u003d1;\n                    }\n                \n                    function check_conn() {\n                        \n                        if(!IPython || !IPython.notebook) {\n                            // Don\u0027t even try to go further\n                            return;\n                        }\n                        \n                        // Check if IPython is ready\n                        console.info(\"Checking conn ...\")\n                        if(IPython.notebook.kernel\n                        \u0026\u0026 IPython.notebook.kernel\n                        \u0026\u0026 is_valid_websock(IPython.notebook.kernel.ws)\n                        ) {\n                            \n                            _check_export_df_possible(dfid,function(rows, cols) {\n                                $(\u0027#btn-df-\u0027+dfid).css(\u0027display\u0027,\u0027inline-block\u0027);\n                                $(\u0027#btn-df-\u0027+dfid).text(\u0027Export this dataframe (\u0027+rows+\u0027 rows, \u0027+cols+\u0027 cols)\u0027);\n                            });\n                            \n                        } else {\n                            console.info(\"Conditions are not ok\", IPython.notebook.kernel);\n                            \n                            // Retry later\n                            \n                            if(retryCount\u003e0) {\n                                setTimeout(check_conn,500);\n                                retryCount--;\n                            }\n                            \n                        }\n                    };\n                    \n                    setTimeout(check_conn,100);\n                    \n                })(\"f756ab30-c4f4-474d-8001-bcf4638cf053\");\n                \n            \u003c/script\u003e\n            \n        \u003cdiv\u003e\n\u003cstyle scoped\u003e\n    .dataframe tbody tr th:only-of-type {\n        vertical-align: middle;\n    }\n\n    .dataframe tbody tr th {\n        vertical-align: top;\n    }\n\n    .dataframe thead th {\n        text-align: right;\n    }\n\u003c/style\u003e\n\u003ctable border\u003d\"1\" class\u003d\"dataframe\"\u003e\n  \u003cthead\u003e\n    \u003ctr style\u003d\"text-align: right;\"\u003e\n      \u003cth\u003e\u003c/th\u003e\n      \u003cth\u003edata.result.0_values\u003c/th\u003e\n      \u003cth\u003eBroker\u003c/th\u003e\n      \u003cth\u003eDisk\u003c/th\u003e\n      \u003cth\u003eData_Center\u003c/th\u003e\n    \u003c/tr\u003e\n  \u003c/thead\u003e\n  \u003ctbody\u003e\n    \u003ctr\u003e\n      \u003cth\u003e0\u003c/th\u003e\n      \u003ctd\u003e[\"1624601700\",\"16.318256082554285\"]\u003c/td\u003e\n      \u003ctd\u003ebroker-102\u003c/td\u003e\n      \u003ctd\u003e/\u003c/td\u003e\n      \u003ctd\u003edalembert\u003c/td\u003e\n    \u003c/tr\u003e\n    \u003ctr\u003e\n      \u003cth\u003e1\u003c/th\u003e\n      \u003ctd\u003e[\"1624602600\",\"16.201162504168707\"]\u003c/td\u003e\n      \u003ctd\u003ebroker-102\u003c/td\u003e\n      \u003ctd\u003e/\u003c/td\u003e\n      \u003ctd\u003edalembert\u003c/td\u003e\n    \u003c/tr\u003e\n    \u003ctr\u003e\n      \u003cth\u003e2\u003c/th\u003e\n      \u003ctd\u003e[\"1624603500\",\"16.240144417161986\"]\u003c/td\u003e\n      \u003ctd\u003ebroker-102\u003c/td\u003e\n      \u003ctd\u003e/\u003c/td\u003e\n      \u003ctd\u003edalembert\u003c/td\u003e\n    \u003c/tr\u003e\n    \u003ctr\u003e\n      \u003cth\u003e3\u003c/th\u003e\n      \u003ctd\u003e[\"1624604400\",\"16.166954373278003\"]\u003c/td\u003e\n      \u003ctd\u003ebroker-102\u003c/td\u003e\n      \u003ctd\u003e/\u003c/td\u003e\n      \u003ctd\u003edalembert\u003c/td\u003e\n    \u003c/tr\u003e\n    \u003ctr\u003e\n      \u003cth\u003e4\u003c/th\u003e\n      \u003ctd\u003e[\"1624605300\",\"16.24035425373792\"]\u003c/td\u003e\n      \u003ctd\u003ebroker-102\u003c/td\u003e\n      \u003ctd\u003e/\u003c/td\u003e\n      \u003ctd\u003edalembert\u003c/td\u003e\n    \u003c/tr\u003e\n  \u003c/tbody\u003e\n\u003c/table\u003e\n\u003c/div\u003e"
          },
          "metadata": {}
        }
      ]
    },
    {
      "execution_count": 3,
      "cell_type": "code",
      "metadata": {},
      "source": [
        "df[\"data.result.0_values\"] \u003d list(df[\"data.result.0_values\"])"
      ],
      "outputs": []
    },
    {
      "execution_count": 11,
      "cell_type": "code",
      "metadata": {},
      "source": [
        "df[\"data.result.0_values\"][0]"
      ],
      "outputs": [
        {
          "output_type": "execute_result",
          "execution_count": 11,
          "data": {
            "text/plain": "[\u0027[\u0027,\n \u0027\"\u0027,\n \u00271\u0027,\n \u00276\u0027,\n \u00272\u0027,\n \u00274\u0027,\n \u00276\u0027,\n \u00270\u0027,\n \u00271\u0027,\n \u00277\u0027,\n \u00270\u0027,\n \u00270\u0027,\n \u0027\"\u0027,\n \u0027,\u0027,\n \u0027\"\u0027,\n \u00271\u0027,\n \u00276\u0027,\n \u0027.\u0027,\n \u00273\u0027,\n \u00271\u0027,\n \u00278\u0027,\n \u00272\u0027,\n \u00275\u0027,\n \u00276\u0027,\n \u00270\u0027,\n \u00278\u0027,\n \u00272\u0027,\n \u00275\u0027,\n \u00275\u0027,\n \u00274\u0027,\n \u00272\u0027,\n \u00278\u0027,\n \u00275\u0027,\n \u0027\"\u0027,\n \u0027]\u0027]"
          },
          "metadata": {}
        }
      ]
    },
    {
      "execution_count": 2,
      "cell_type": "code",
      "metadata": {},
      "source": [
        ""
      ],
      "outputs": [
        {
          "output_type": "stream",
          "text": "3964 rows successfully written (PKopIYN0II)\n",
          "name": "stdout"
        }
      ]
    },
    {
      "execution_count": 0,
      "cell_type": "code",
      "metadata": {},
      "source": [
        "# Write recipe outputs\ntest \u003d dataiku.Dataset(\"test\")\ntest.write_with_schema(df)"
      ],
      "outputs": []
    }
  ]
}