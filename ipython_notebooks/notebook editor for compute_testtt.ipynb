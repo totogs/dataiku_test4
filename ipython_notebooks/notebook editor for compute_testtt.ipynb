{
  "metadata": {
    "kernelspec": {
      "name": "py-dku-venv-creditcard",
      "display_name": "Python (env creditcard)",
      "language": "python"
    },
    "associatedRecipe": "compute_testtt",
    "creator": "tony",
    "createdOn": 1629121281942,
    "tags": [
      "recipe-editor"
    ],
    "customFields": {},
    "language_info": {
      "name": "python",
      "version": "3.6.13",
      "mimetype": "text/x-python",
      "codemirror_mode": {
        "name": "ipython",
        "version": 3
      },
      "pygments_lexer": "ipython3",
      "nbconvert_exporter": "python",
      "file_extension": ".py"
    },
    "modifiedBy": "tony"
  },
  "nbformat": 4,
  "nbformat_minor": 1,
  "cells": [
    {
      "execution_count": 1,
      "cell_type": "code",
      "metadata": {},
      "source": [
        "# -*- coding: utf-8 -*-\nimport dataiku\nimport pandas as pd, numpy as np\nfrom dataiku import pandasutils as pdu\n\n# Read recipe inputs\ndisk_usage \u003d dataiku.Dataset(\"disk_usage\")\ndisk_usage_df \u003d disk_usage.get_dataframe()\n\n\n"
      ],
      "outputs": []
    },
    {
      "execution_count": 0,
      "cell_type": "code",
      "metadata": {},
      "source": [
        "disk_usage_df"
      ],
      "outputs": []
    },
    {
      "execution_count": 0,
      "cell_type": "code",
      "metadata": {},
      "source": [
        "# Compute recipe outputs from inputs\n# TODO: Replace this part by your actual code that computes the output, as a Pandas dataframe\n# NB: DSS also supports other kinds of APIs for reading and writing data. Please see doc.\n\ntesttt_df \u003d disk_usage_df # For this sample code, simply copy input to output\n\n\n# Write recipe outputs\ntesttt \u003d dataiku.Dataset(\"testtt\")\ntesttt.write_with_schema(testtt_df)"
      ],
      "outputs": []
    }
  ]
}