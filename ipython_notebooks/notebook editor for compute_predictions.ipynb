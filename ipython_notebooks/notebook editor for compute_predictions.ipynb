{
  "metadata": {
    "kernelspec": {
      "display_name": "Python in gpu_gke_2 (builtin env)",
      "language": "python",
      "name": "py-dku-containerized-venv--gpu_gke_2"
    },
    "associatedRecipe": "compute_predictions",
    "creator": "tony",
    "createdOn": 1629799405892,
    "tags": [
      "recipe-editor"
    ],
    "customFields": {},
    "modifiedBy": "tony"
  },
  "nbformat": 4,
  "nbformat_minor": 1,
  "cells": [
    {
      "execution_count": 0,
      "cell_type": "code",
      "metadata": {},
      "source": [
        "# -*- coding: utf-8 -*-\nimport dataiku\nimport pandas as pd, numpy as np\nfrom dataiku import pandasutils as pdu\n\n# Read recipe inputs\njson_prepared \u003d dataiku.Dataset(\"Json_prepared\")\njson_prepared_df \u003d json_prepared.get_dataframe()\n\n\n"
      ],
      "outputs": []
    },
    {
      "execution_count": 0,
      "cell_type": "code",
      "metadata": {},
      "source": [
        "import math\n\nimport tensorflow as tf\nfrom tensorflow import keras\nfrom tensorflow.keras import layers\nfrom tensorflow.keras.utils import Sequence\nfrom datetime import timedelta\nfrom sklearn.preprocessing import MinMaxScaler\nfrom sklearn.metrics import mean_squared_error\n\nimport numpy as np\nimport pandas as pd\nimport time\n\nimport os"
      ],
      "outputs": []
    },
    {
      "execution_count": 0,
      "cell_type": "code",
      "metadata": {},
      "source": [
        ""
      ],
      "outputs": []
    },
    {
      "execution_count": 0,
      "cell_type": "code",
      "metadata": {},
      "source": [
        "# Compute recipe outputs from inputs\n# TODO: Replace this part by your actual code that computes the output, as a Pandas dataframe\n# NB: DSS also supports other kinds of APIs for reading and writing data. Please see doc.\n\npredictions_df \u003d json_prepared_df # For this sample code, simply copy input to output\n\n\n# Write recipe outputs\npredictions \u003d dataiku.Dataset(\"predictions\")\npredictions.write_with_schema(predictions_df)"
      ],
      "outputs": []
    }
  ]
}