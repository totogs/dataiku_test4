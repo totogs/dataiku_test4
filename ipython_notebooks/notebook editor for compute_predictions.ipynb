{
  "metadata": {
    "kernelspec": {
      "name": "py-dku-containerized-venv-asl_alphabet-gpu_gke_2",
      "display_name": "Python in gpu_gke_2 (env asl_alphabet)",
      "language": "python"
    },
    "associatedRecipe": "compute_predictions",
    "creator": "tony",
    "createdOn": 1629799405892,
    "tags": [
      "recipe-editor"
    ],
    "customFields": {},
    "language_info": {
      "name": "python",
      "version": "3.6.8",
      "mimetype": "text/x-python",
      "codemirror_mode": {
        "name": "ipython",
        "version": 3
      },
      "pygments_lexer": "ipython3",
      "nbconvert_exporter": "python",
      "file_extension": ".py"
    },
    "modifiedBy": "tony"
  },
  "nbformat": 4,
  "nbformat_minor": 1,
  "cells": [
    {
      "execution_count": 36,
      "cell_type": "code",
      "metadata": {},
      "source": [
        "# -*- coding: utf-8 -*-\nimport dataiku\nimport pandas as pd, numpy as np\nfrom dataiku import pandasutils as pdu\n\n# Read recipe inputs\njson_prepared \u003d dataiku.Dataset(\"Json_prepared\")\ndf \u003d json_prepared.get_dataframe()\n\n\n"
      ],
      "outputs": []
    },
    {
      "execution_count": 37,
      "cell_type": "code",
      "metadata": {},
      "source": [
        "import math\n\nimport tensorflow as tf\nfrom tensorflow import keras\nfrom tensorflow.keras import layers\nfrom tensorflow.keras.utils import Sequence\nfrom datetime import timedelta\nfrom sklearn.preprocessing import MinMaxScaler\nfrom sklearn.metrics import mean_squared_error\n\nimport numpy as np\nimport pandas as pd\nimport time\n\nimport os"
      ],
      "outputs": []
    },
    {
      "execution_count": 38,
      "cell_type": "code",
      "metadata": {},
      "source": [
        "df.head()"
      ],
      "outputs": [
        {
          "output_type": "execute_result",
          "execution_count": 38,
          "data": {
            "text/plain": "    Timestamp                      date  broker-102/  broker-104/  broker-106/  broker-108/  broker-110/  zook-102/  zook-104/  broker-102/data  broker-104/data  broker-106/data  broker-108/data  broker-110/data  zook-102/data  zook-104/data  broker-101/  broker-103/  broker-105/  broker-107/  broker-109/  zook-101/  zook-103/  zook-105/  broker-101/data  broker-103/data  broker-105/data  broker-107/data  broker-109/data  zook-101/data  zook-103/data  zook-105/data\n0  1624601700 2021-06-25 06:15:00+00:00    16.318256    14.317784    15.499574    13.478442    10.100069   3.457606   3.497103        85.198139        74.491702        70.937154        73.322070        88.858424       0.278296       0.216338    15.759843    15.526538    10.510089    13.464054     9.834396   3.489473   3.470773   3.176120        81.194161        76.236908        73.175427        72.768512        90.265277       0.251977       0.236909       0.245222\n1  1624602600 2021-06-25 06:30:00+00:00    16.201163    14.317455    15.596986    13.478452    10.100073   3.457596   3.498734        85.195519        74.540221        70.971025        73.390322        88.953916       0.278296       0.216338    15.798915    15.604688    10.588215    13.542199     9.893027   3.469877   3.470783   3.176225        81.216755        76.227287        73.233565        72.715046        90.343407       0.251977       0.236909       0.245222\n2  1624603500 2021-06-25 06:45:00+00:00    16.240144    14.200271    15.479296    13.478466    10.021952   3.457639   3.498534        85.368338        74.687954        71.060131        73.450625        89.056802       0.278296       0.216338    15.875768    15.526571    10.480893    13.464078     9.971639   3.489372   3.470907   3.156653        81.287027        76.350551        73.217323        72.744789        90.583015       0.251977       0.236909       0.245222\n3  1624604400 2021-06-25 07:00:00+00:00    16.166954    14.239343    15.479368    13.351567    10.002428   3.458865   3.498543        85.503684        74.622017        71.028285        73.530478        89.180835       0.278296       0.216338    15.875782    15.487523    10.519952    13.464083     9.971339   3.470134   3.470964   3.176167        81.417682        76.318796        73.396165        72.921757        90.711837       0.251977       0.236909       0.245222\n4  1624605300 2021-06-25 07:15:00+00:00    16.240354    14.317498    15.597000    13.405028    10.002437   3.497909   3.499302        85.652764        74.762854        71.062395        73.475029        89.232812       0.278296       0.216338    15.758903    15.458370    10.446685    13.542228     9.893218   3.470191   3.472156   3.176158        81.569016        76.359671        73.456350        72.810311        90.751683       0.251977       0.236909       0.245222",
            "text/html": "\n            \u003cbutton style\u003d\"display:none\" \n            class\u003d\"btn btn-default ipython-export-btn\" \n            id\u003d\"btn-df-b3c2f936-b315-45c1-9741-15864224ae05\" \n            onclick\u003d\"_export_df(\u0027b3c2f936-b315-45c1-9741-15864224ae05\u0027)\"\u003e\n                Export dataframe\n            \u003c/button\u003e\n            \n            \u003cscript\u003e\n                \n                function _check_export_df_possible(dfid,yes_fn,no_fn) {\n                    console.log(\u0027Checking dataframe exportability...\u0027)\n                    if(!IPython || !IPython.notebook || !IPython.notebook.kernel || !IPython.notebook.kernel) {\n                        console.log(\u0027Export is not possible (IPython kernel is not available)\u0027)\n                        if(no_fn) {\n                            no_fn();\n                        }\n                    } else {\n                        var pythonCode \u003d \u0027from dataiku.notebook.export import IPythonExporter;IPythonExporter._check_export_stdout(\"\u0027+dfid+\u0027\")\u0027;\n                        IPython.notebook.kernel.execute(pythonCode,{iopub: {output: function(resp) {\n                            console.info(\"Exportability response\", resp);\n                            var size \u003d /^([0-9]+)x([0-9]+)$/.exec(resp.content.data || resp.content.text)\n                            if(!size) {\n                                console.log(\u0027Export is not possible (dataframe is not in-memory anymore)\u0027)\n                                if(no_fn) {\n                                    no_fn();\n                                }\n                            } else {\n                                console.log(\u0027Export is possible\u0027)\n                                if(yes_fn) {\n                                    yes_fn(1*size[1],1*size[2]);\n                                }\n                            }\n                        }}});\n                    }\n                }\n            \n                function _export_df(dfid) {\n                    \n                    var btn \u003d $(\u0027#btn-df-\u0027+dfid);\n                    var btns \u003d $(\u0027.ipython-export-btn\u0027);\n                    \n                    _check_export_df_possible(dfid,function() {\n                        \n                        window.parent.openExportModalFromIPython(\u0027Pandas dataframe\u0027,function(data) {\n                            btns.prop(\u0027disabled\u0027,true);\n                            btn.text(\u0027Exporting...\u0027);\n                            var command \u003d \u0027from dataiku.notebook.export import IPythonExporter;IPythonExporter._run_export(\"\u0027+dfid+\u0027\",\"\u0027+data.exportId+\u0027\")\u0027;\n                            var callback \u003d {iopub:{output: function(resp) {\n                                console.info(\"CB resp:\", resp);\n                                _check_export_df_possible(dfid,function(rows, cols) {\n                                    $(\u0027#btn-df-\u0027+dfid)\n                                        .css(\u0027display\u0027,\u0027inline-block\u0027)\n                                        .text(\u0027Export this dataframe (\u0027+rows+\u0027 rows, \u0027+cols+\u0027 cols)\u0027)\n                                        .prop(\u0027disabled\u0027,false);\n                                },function() {\n                                    $(\u0027#btn-df-\u0027+dfid).css(\u0027display\u0027,\u0027none\u0027);\n                                });\n                            }}};\n                            IPython.notebook.kernel.execute(command,callback,{silent:false}); // yes, silent now defaults to true. figures.\n                        });\n                    \n                    }, function(){\n                            alert(\u0027Unable to export : the Dataframe object is not loaded in memory\u0027);\n                            btn.css(\u0027display\u0027,\u0027none\u0027);\n                    });\n                    \n                }\n                \n                (function(dfid) {\n                \n                    var retryCount \u003d 10;\n                \n                    function is_valid_websock(s) {\n                        return s \u0026\u0026 s.readyState\u003d\u003d1;\n                    }\n                \n                    function check_conn() {\n                        \n                        if(!IPython || !IPython.notebook) {\n                            // Don\u0027t even try to go further\n                            return;\n                        }\n                        \n                        // Check if IPython is ready\n                        console.info(\"Checking conn ...\")\n                        if(IPython.notebook.kernel\n                        \u0026\u0026 IPython.notebook.kernel\n                        \u0026\u0026 is_valid_websock(IPython.notebook.kernel.ws)\n                        ) {\n                            \n                            _check_export_df_possible(dfid,function(rows, cols) {\n                                $(\u0027#btn-df-\u0027+dfid).css(\u0027display\u0027,\u0027inline-block\u0027);\n                                $(\u0027#btn-df-\u0027+dfid).text(\u0027Export this dataframe (\u0027+rows+\u0027 rows, \u0027+cols+\u0027 cols)\u0027);\n                            });\n                            \n                        } else {\n                            console.info(\"Conditions are not ok\", IPython.notebook.kernel);\n                            \n                            // Retry later\n                            \n                            if(retryCount\u003e0) {\n                                setTimeout(check_conn,500);\n                                retryCount--;\n                            }\n                            \n                        }\n                    };\n                    \n                    setTimeout(check_conn,100);\n                    \n                })(\"b3c2f936-b315-45c1-9741-15864224ae05\");\n                \n            \u003c/script\u003e\n            \n        \u003cdiv\u003e\n\u003cstyle scoped\u003e\n    .dataframe tbody tr th:only-of-type {\n        vertical-align: middle;\n    }\n\n    .dataframe tbody tr th {\n        vertical-align: top;\n    }\n\n    .dataframe thead th {\n        text-align: right;\n    }\n\u003c/style\u003e\n\u003ctable border\u003d\"1\" class\u003d\"dataframe\"\u003e\n  \u003cthead\u003e\n    \u003ctr style\u003d\"text-align: right;\"\u003e\n      \u003cth\u003e\u003c/th\u003e\n      \u003cth\u003eTimestamp\u003c/th\u003e\n      \u003cth\u003edate\u003c/th\u003e\n      \u003cth\u003ebroker-102/\u003c/th\u003e\n      \u003cth\u003ebroker-104/\u003c/th\u003e\n      \u003cth\u003ebroker-106/\u003c/th\u003e\n      \u003cth\u003ebroker-108/\u003c/th\u003e\n      \u003cth\u003ebroker-110/\u003c/th\u003e\n      \u003cth\u003ezook-102/\u003c/th\u003e\n      \u003cth\u003ezook-104/\u003c/th\u003e\n      \u003cth\u003ebroker-102/data\u003c/th\u003e\n      \u003cth\u003ebroker-104/data\u003c/th\u003e\n      \u003cth\u003ebroker-106/data\u003c/th\u003e\n      \u003cth\u003ebroker-108/data\u003c/th\u003e\n      \u003cth\u003ebroker-110/data\u003c/th\u003e\n      \u003cth\u003ezook-102/data\u003c/th\u003e\n      \u003cth\u003ezook-104/data\u003c/th\u003e\n      \u003cth\u003ebroker-101/\u003c/th\u003e\n      \u003cth\u003ebroker-103/\u003c/th\u003e\n      \u003cth\u003ebroker-105/\u003c/th\u003e\n      \u003cth\u003ebroker-107/\u003c/th\u003e\n      \u003cth\u003ebroker-109/\u003c/th\u003e\n      \u003cth\u003ezook-101/\u003c/th\u003e\n      \u003cth\u003ezook-103/\u003c/th\u003e\n      \u003cth\u003ezook-105/\u003c/th\u003e\n      \u003cth\u003ebroker-101/data\u003c/th\u003e\n      \u003cth\u003ebroker-103/data\u003c/th\u003e\n      \u003cth\u003ebroker-105/data\u003c/th\u003e\n      \u003cth\u003ebroker-107/data\u003c/th\u003e\n      \u003cth\u003ebroker-109/data\u003c/th\u003e\n      \u003cth\u003ezook-101/data\u003c/th\u003e\n      \u003cth\u003ezook-103/data\u003c/th\u003e\n      \u003cth\u003ezook-105/data\u003c/th\u003e\n    \u003c/tr\u003e\n  \u003c/thead\u003e\n  \u003ctbody\u003e\n    \u003ctr\u003e\n      \u003cth\u003e0\u003c/th\u003e\n      \u003ctd\u003e1624601700\u003c/td\u003e\n      \u003ctd\u003e2021-06-25 06:15:00+00:00\u003c/td\u003e\n      \u003ctd\u003e16.318256\u003c/td\u003e\n      \u003ctd\u003e14.317784\u003c/td\u003e\n      \u003ctd\u003e15.499574\u003c/td\u003e\n      \u003ctd\u003e13.478442\u003c/td\u003e\n      \u003ctd\u003e10.100069\u003c/td\u003e\n      \u003ctd\u003e3.457606\u003c/td\u003e\n      \u003ctd\u003e3.497103\u003c/td\u003e\n      \u003ctd\u003e85.198139\u003c/td\u003e\n      \u003ctd\u003e74.491702\u003c/td\u003e\n      \u003ctd\u003e70.937154\u003c/td\u003e\n      \u003ctd\u003e73.322070\u003c/td\u003e\n      \u003ctd\u003e88.858424\u003c/td\u003e\n      \u003ctd\u003e0.278296\u003c/td\u003e\n      \u003ctd\u003e0.216338\u003c/td\u003e\n      \u003ctd\u003e15.759843\u003c/td\u003e\n      \u003ctd\u003e15.526538\u003c/td\u003e\n      \u003ctd\u003e10.510089\u003c/td\u003e\n      \u003ctd\u003e13.464054\u003c/td\u003e\n      \u003ctd\u003e9.834396\u003c/td\u003e\n      \u003ctd\u003e3.489473\u003c/td\u003e\n      \u003ctd\u003e3.470773\u003c/td\u003e\n      \u003ctd\u003e3.176120\u003c/td\u003e\n      \u003ctd\u003e81.194161\u003c/td\u003e\n      \u003ctd\u003e76.236908\u003c/td\u003e\n      \u003ctd\u003e73.175427\u003c/td\u003e\n      \u003ctd\u003e72.768512\u003c/td\u003e\n      \u003ctd\u003e90.265277\u003c/td\u003e\n      \u003ctd\u003e0.251977\u003c/td\u003e\n      \u003ctd\u003e0.236909\u003c/td\u003e\n      \u003ctd\u003e0.245222\u003c/td\u003e\n    \u003c/tr\u003e\n    \u003ctr\u003e\n      \u003cth\u003e1\u003c/th\u003e\n      \u003ctd\u003e1624602600\u003c/td\u003e\n      \u003ctd\u003e2021-06-25 06:30:00+00:00\u003c/td\u003e\n      \u003ctd\u003e16.201163\u003c/td\u003e\n      \u003ctd\u003e14.317455\u003c/td\u003e\n      \u003ctd\u003e15.596986\u003c/td\u003e\n      \u003ctd\u003e13.478452\u003c/td\u003e\n      \u003ctd\u003e10.100073\u003c/td\u003e\n      \u003ctd\u003e3.457596\u003c/td\u003e\n      \u003ctd\u003e3.498734\u003c/td\u003e\n      \u003ctd\u003e85.195519\u003c/td\u003e\n      \u003ctd\u003e74.540221\u003c/td\u003e\n      \u003ctd\u003e70.971025\u003c/td\u003e\n      \u003ctd\u003e73.390322\u003c/td\u003e\n      \u003ctd\u003e88.953916\u003c/td\u003e\n      \u003ctd\u003e0.278296\u003c/td\u003e\n      \u003ctd\u003e0.216338\u003c/td\u003e\n      \u003ctd\u003e15.798915\u003c/td\u003e\n      \u003ctd\u003e15.604688\u003c/td\u003e\n      \u003ctd\u003e10.588215\u003c/td\u003e\n      \u003ctd\u003e13.542199\u003c/td\u003e\n      \u003ctd\u003e9.893027\u003c/td\u003e\n      \u003ctd\u003e3.469877\u003c/td\u003e\n      \u003ctd\u003e3.470783\u003c/td\u003e\n      \u003ctd\u003e3.176225\u003c/td\u003e\n      \u003ctd\u003e81.216755\u003c/td\u003e\n      \u003ctd\u003e76.227287\u003c/td\u003e\n      \u003ctd\u003e73.233565\u003c/td\u003e\n      \u003ctd\u003e72.715046\u003c/td\u003e\n      \u003ctd\u003e90.343407\u003c/td\u003e\n      \u003ctd\u003e0.251977\u003c/td\u003e\n      \u003ctd\u003e0.236909\u003c/td\u003e\n      \u003ctd\u003e0.245222\u003c/td\u003e\n    \u003c/tr\u003e\n    \u003ctr\u003e\n      \u003cth\u003e2\u003c/th\u003e\n      \u003ctd\u003e1624603500\u003c/td\u003e\n      \u003ctd\u003e2021-06-25 06:45:00+00:00\u003c/td\u003e\n      \u003ctd\u003e16.240144\u003c/td\u003e\n      \u003ctd\u003e14.200271\u003c/td\u003e\n      \u003ctd\u003e15.479296\u003c/td\u003e\n      \u003ctd\u003e13.478466\u003c/td\u003e\n      \u003ctd\u003e10.021952\u003c/td\u003e\n      \u003ctd\u003e3.457639\u003c/td\u003e\n      \u003ctd\u003e3.498534\u003c/td\u003e\n      \u003ctd\u003e85.368338\u003c/td\u003e\n      \u003ctd\u003e74.687954\u003c/td\u003e\n      \u003ctd\u003e71.060131\u003c/td\u003e\n      \u003ctd\u003e73.450625\u003c/td\u003e\n      \u003ctd\u003e89.056802\u003c/td\u003e\n      \u003ctd\u003e0.278296\u003c/td\u003e\n      \u003ctd\u003e0.216338\u003c/td\u003e\n      \u003ctd\u003e15.875768\u003c/td\u003e\n      \u003ctd\u003e15.526571\u003c/td\u003e\n      \u003ctd\u003e10.480893\u003c/td\u003e\n      \u003ctd\u003e13.464078\u003c/td\u003e\n      \u003ctd\u003e9.971639\u003c/td\u003e\n      \u003ctd\u003e3.489372\u003c/td\u003e\n      \u003ctd\u003e3.470907\u003c/td\u003e\n      \u003ctd\u003e3.156653\u003c/td\u003e\n      \u003ctd\u003e81.287027\u003c/td\u003e\n      \u003ctd\u003e76.350551\u003c/td\u003e\n      \u003ctd\u003e73.217323\u003c/td\u003e\n      \u003ctd\u003e72.744789\u003c/td\u003e\n      \u003ctd\u003e90.583015\u003c/td\u003e\n      \u003ctd\u003e0.251977\u003c/td\u003e\n      \u003ctd\u003e0.236909\u003c/td\u003e\n      \u003ctd\u003e0.245222\u003c/td\u003e\n    \u003c/tr\u003e\n    \u003ctr\u003e\n      \u003cth\u003e3\u003c/th\u003e\n      \u003ctd\u003e1624604400\u003c/td\u003e\n      \u003ctd\u003e2021-06-25 07:00:00+00:00\u003c/td\u003e\n      \u003ctd\u003e16.166954\u003c/td\u003e\n      \u003ctd\u003e14.239343\u003c/td\u003e\n      \u003ctd\u003e15.479368\u003c/td\u003e\n      \u003ctd\u003e13.351567\u003c/td\u003e\n      \u003ctd\u003e10.002428\u003c/td\u003e\n      \u003ctd\u003e3.458865\u003c/td\u003e\n      \u003ctd\u003e3.498543\u003c/td\u003e\n      \u003ctd\u003e85.503684\u003c/td\u003e\n      \u003ctd\u003e74.622017\u003c/td\u003e\n      \u003ctd\u003e71.028285\u003c/td\u003e\n      \u003ctd\u003e73.530478\u003c/td\u003e\n      \u003ctd\u003e89.180835\u003c/td\u003e\n      \u003ctd\u003e0.278296\u003c/td\u003e\n      \u003ctd\u003e0.216338\u003c/td\u003e\n      \u003ctd\u003e15.875782\u003c/td\u003e\n      \u003ctd\u003e15.487523\u003c/td\u003e\n      \u003ctd\u003e10.519952\u003c/td\u003e\n      \u003ctd\u003e13.464083\u003c/td\u003e\n      \u003ctd\u003e9.971339\u003c/td\u003e\n      \u003ctd\u003e3.470134\u003c/td\u003e\n      \u003ctd\u003e3.470964\u003c/td\u003e\n      \u003ctd\u003e3.176167\u003c/td\u003e\n      \u003ctd\u003e81.417682\u003c/td\u003e\n      \u003ctd\u003e76.318796\u003c/td\u003e\n      \u003ctd\u003e73.396165\u003c/td\u003e\n      \u003ctd\u003e72.921757\u003c/td\u003e\n      \u003ctd\u003e90.711837\u003c/td\u003e\n      \u003ctd\u003e0.251977\u003c/td\u003e\n      \u003ctd\u003e0.236909\u003c/td\u003e\n      \u003ctd\u003e0.245222\u003c/td\u003e\n    \u003c/tr\u003e\n    \u003ctr\u003e\n      \u003cth\u003e4\u003c/th\u003e\n      \u003ctd\u003e1624605300\u003c/td\u003e\n      \u003ctd\u003e2021-06-25 07:15:00+00:00\u003c/td\u003e\n      \u003ctd\u003e16.240354\u003c/td\u003e\n      \u003ctd\u003e14.317498\u003c/td\u003e\n      \u003ctd\u003e15.597000\u003c/td\u003e\n      \u003ctd\u003e13.405028\u003c/td\u003e\n      \u003ctd\u003e10.002437\u003c/td\u003e\n      \u003ctd\u003e3.497909\u003c/td\u003e\n      \u003ctd\u003e3.499302\u003c/td\u003e\n      \u003ctd\u003e85.652764\u003c/td\u003e\n      \u003ctd\u003e74.762854\u003c/td\u003e\n      \u003ctd\u003e71.062395\u003c/td\u003e\n      \u003ctd\u003e73.475029\u003c/td\u003e\n      \u003ctd\u003e89.232812\u003c/td\u003e\n      \u003ctd\u003e0.278296\u003c/td\u003e\n      \u003ctd\u003e0.216338\u003c/td\u003e\n      \u003ctd\u003e15.758903\u003c/td\u003e\n      \u003ctd\u003e15.458370\u003c/td\u003e\n      \u003ctd\u003e10.446685\u003c/td\u003e\n      \u003ctd\u003e13.542228\u003c/td\u003e\n      \u003ctd\u003e9.893218\u003c/td\u003e\n      \u003ctd\u003e3.470191\u003c/td\u003e\n      \u003ctd\u003e3.472156\u003c/td\u003e\n      \u003ctd\u003e3.176158\u003c/td\u003e\n      \u003ctd\u003e81.569016\u003c/td\u003e\n      \u003ctd\u003e76.359671\u003c/td\u003e\n      \u003ctd\u003e73.456350\u003c/td\u003e\n      \u003ctd\u003e72.810311\u003c/td\u003e\n      \u003ctd\u003e90.751683\u003c/td\u003e\n      \u003ctd\u003e0.251977\u003c/td\u003e\n      \u003ctd\u003e0.236909\u003c/td\u003e\n      \u003ctd\u003e0.245222\u003c/td\u003e\n    \u003c/tr\u003e\n  \u003c/tbody\u003e\n\u003c/table\u003e\n\u003c/div\u003e"
          },
          "metadata": {}
        }
      ]
    },
    {
      "execution_count": 39,
      "cell_type": "code",
      "metadata": {},
      "source": [
        "del df[\u0027Timestamp\u0027]"
      ],
      "outputs": []
    },
    {
      "execution_count": 40,
      "cell_type": "code",
      "metadata": {},
      "source": [
        "\n# Split into training, validation and test datasets.\n# Since it\u0027s timeseries we should do it by date.\ntest_cutoff_date \u003d df[\u0027date\u0027].max() - timedelta(days\u003d7)\n\ntest_df \u003d df[df[\u0027date\u0027] \u003e test_cutoff_date]\ntrain_df \u003d df[df[\u0027date\u0027] \u003c\u003d test_cutoff_date]\n\n#check out the datasets\nprint(\u0027Test dates: {} to {}\u0027.format(test_df[\u0027date\u0027].min(), test_df[\u0027date\u0027].max()))\nprint(\u0027Train dates: {} to {}\u0027.format(train_df[\u0027date\u0027].min(), train_df[\u0027date\u0027].max()))"
      ],
      "outputs": [
        {
          "output_type": "stream",
          "text": "Test dates: 2021-07-29 13:15:00+00:00 to 2021-08-05 13:00:00+00:00\nTrain dates: 2021-06-25 06:15:00+00:00 to 2021-07-29 13:00:00+00:00\n",
          "name": "stdout"
        }
      ]
    },
    {
      "execution_count": 41,
      "cell_type": "code",
      "metadata": {},
      "source": [
        "train_df  \u003d train_df.set_index(\u0027date\u0027)\ntest_df \u003d test_df.set_index(\u0027date\u0027)"
      ],
      "outputs": []
    },
    {
      "execution_count": 42,
      "cell_type": "code",
      "metadata": {},
      "source": [
        "train_df.head()"
      ],
      "outputs": [
        {
          "output_type": "execute_result",
          "execution_count": 42,
          "data": {
            "text/plain": "                           broker-102/  broker-104/  broker-106/  broker-108/  broker-110/  zook-102/  zook-104/  broker-102/data  broker-104/data  broker-106/data  broker-108/data  broker-110/data  zook-102/data  zook-104/data  broker-101/  broker-103/  broker-105/  broker-107/  broker-109/  zook-101/  zook-103/  zook-105/  broker-101/data  broker-103/data  broker-105/data  broker-107/data  broker-109/data  zook-101/data  zook-103/data  zook-105/data\ndate                                                                                                                                                                                                                                                                                                                                                                                                                                                                   \n2021-06-25 06:15:00+00:00    16.318256    14.317784    15.499574    13.478442    10.100069   3.457606   3.497103        85.198139        74.491702        70.937154        73.322070        88.858424       0.278296       0.216338    15.759843    15.526538    10.510089    13.464054     9.834396   3.489473   3.470773   3.176120        81.194161        76.236908        73.175427        72.768512        90.265277       0.251977       0.236909       0.245222\n2021-06-25 06:30:00+00:00    16.201163    14.317455    15.596986    13.478452    10.100073   3.457596   3.498734        85.195519        74.540221        70.971025        73.390322        88.953916       0.278296       0.216338    15.798915    15.604688    10.588215    13.542199     9.893027   3.469877   3.470783   3.176225        81.216755        76.227287        73.233565        72.715046        90.343407       0.251977       0.236909       0.245222\n2021-06-25 06:45:00+00:00    16.240144    14.200271    15.479296    13.478466    10.021952   3.457639   3.498534        85.368338        74.687954        71.060131        73.450625        89.056802       0.278296       0.216338    15.875768    15.526571    10.480893    13.464078     9.971639   3.489372   3.470907   3.156653        81.287027        76.350551        73.217323        72.744789        90.583015       0.251977       0.236909       0.245222\n2021-06-25 07:00:00+00:00    16.166954    14.239343    15.479368    13.351567    10.002428   3.458865   3.498543        85.503684        74.622017        71.028285        73.530478        89.180835       0.278296       0.216338    15.875782    15.487523    10.519952    13.464083     9.971339   3.470134   3.470964   3.176167        81.417682        76.318796        73.396165        72.921757        90.711837       0.251977       0.236909       0.245222\n2021-06-25 07:15:00+00:00    16.240354    14.317498    15.597000    13.405028    10.002437   3.497909   3.499302        85.652764        74.762854        71.062395        73.475029        89.232812       0.278296       0.216338    15.758903    15.458370    10.446685    13.542228     9.893218   3.470191   3.472156   3.176158        81.569016        76.359671        73.456350        72.810311        90.751683       0.251977       0.236909       0.245222",
            "text/html": "\n            \u003cbutton style\u003d\"display:none\" \n            class\u003d\"btn btn-default ipython-export-btn\" \n            id\u003d\"btn-df-037104b5-c300-4413-9046-4563bd950d29\" \n            onclick\u003d\"_export_df(\u0027037104b5-c300-4413-9046-4563bd950d29\u0027)\"\u003e\n                Export dataframe\n            \u003c/button\u003e\n            \n            \u003cscript\u003e\n                \n                function _check_export_df_possible(dfid,yes_fn,no_fn) {\n                    console.log(\u0027Checking dataframe exportability...\u0027)\n                    if(!IPython || !IPython.notebook || !IPython.notebook.kernel || !IPython.notebook.kernel) {\n                        console.log(\u0027Export is not possible (IPython kernel is not available)\u0027)\n                        if(no_fn) {\n                            no_fn();\n                        }\n                    } else {\n                        var pythonCode \u003d \u0027from dataiku.notebook.export import IPythonExporter;IPythonExporter._check_export_stdout(\"\u0027+dfid+\u0027\")\u0027;\n                        IPython.notebook.kernel.execute(pythonCode,{iopub: {output: function(resp) {\n                            console.info(\"Exportability response\", resp);\n                            var size \u003d /^([0-9]+)x([0-9]+)$/.exec(resp.content.data || resp.content.text)\n                            if(!size) {\n                                console.log(\u0027Export is not possible (dataframe is not in-memory anymore)\u0027)\n                                if(no_fn) {\n                                    no_fn();\n                                }\n                            } else {\n                                console.log(\u0027Export is possible\u0027)\n                                if(yes_fn) {\n                                    yes_fn(1*size[1],1*size[2]);\n                                }\n                            }\n                        }}});\n                    }\n                }\n            \n                function _export_df(dfid) {\n                    \n                    var btn \u003d $(\u0027#btn-df-\u0027+dfid);\n                    var btns \u003d $(\u0027.ipython-export-btn\u0027);\n                    \n                    _check_export_df_possible(dfid,function() {\n                        \n                        window.parent.openExportModalFromIPython(\u0027Pandas dataframe\u0027,function(data) {\n                            btns.prop(\u0027disabled\u0027,true);\n                            btn.text(\u0027Exporting...\u0027);\n                            var command \u003d \u0027from dataiku.notebook.export import IPythonExporter;IPythonExporter._run_export(\"\u0027+dfid+\u0027\",\"\u0027+data.exportId+\u0027\")\u0027;\n                            var callback \u003d {iopub:{output: function(resp) {\n                                console.info(\"CB resp:\", resp);\n                                _check_export_df_possible(dfid,function(rows, cols) {\n                                    $(\u0027#btn-df-\u0027+dfid)\n                                        .css(\u0027display\u0027,\u0027inline-block\u0027)\n                                        .text(\u0027Export this dataframe (\u0027+rows+\u0027 rows, \u0027+cols+\u0027 cols)\u0027)\n                                        .prop(\u0027disabled\u0027,false);\n                                },function() {\n                                    $(\u0027#btn-df-\u0027+dfid).css(\u0027display\u0027,\u0027none\u0027);\n                                });\n                            }}};\n                            IPython.notebook.kernel.execute(command,callback,{silent:false}); // yes, silent now defaults to true. figures.\n                        });\n                    \n                    }, function(){\n                            alert(\u0027Unable to export : the Dataframe object is not loaded in memory\u0027);\n                            btn.css(\u0027display\u0027,\u0027none\u0027);\n                    });\n                    \n                }\n                \n                (function(dfid) {\n                \n                    var retryCount \u003d 10;\n                \n                    function is_valid_websock(s) {\n                        return s \u0026\u0026 s.readyState\u003d\u003d1;\n                    }\n                \n                    function check_conn() {\n                        \n                        if(!IPython || !IPython.notebook) {\n                            // Don\u0027t even try to go further\n                            return;\n                        }\n                        \n                        // Check if IPython is ready\n                        console.info(\"Checking conn ...\")\n                        if(IPython.notebook.kernel\n                        \u0026\u0026 IPython.notebook.kernel\n                        \u0026\u0026 is_valid_websock(IPython.notebook.kernel.ws)\n                        ) {\n                            \n                            _check_export_df_possible(dfid,function(rows, cols) {\n                                $(\u0027#btn-df-\u0027+dfid).css(\u0027display\u0027,\u0027inline-block\u0027);\n                                $(\u0027#btn-df-\u0027+dfid).text(\u0027Export this dataframe (\u0027+rows+\u0027 rows, \u0027+cols+\u0027 cols)\u0027);\n                            });\n                            \n                        } else {\n                            console.info(\"Conditions are not ok\", IPython.notebook.kernel);\n                            \n                            // Retry later\n                            \n                            if(retryCount\u003e0) {\n                                setTimeout(check_conn,500);\n                                retryCount--;\n                            }\n                            \n                        }\n                    };\n                    \n                    setTimeout(check_conn,100);\n                    \n                })(\"037104b5-c300-4413-9046-4563bd950d29\");\n                \n            \u003c/script\u003e\n            \n        \u003cdiv\u003e\n\u003cstyle scoped\u003e\n    .dataframe tbody tr th:only-of-type {\n        vertical-align: middle;\n    }\n\n    .dataframe tbody tr th {\n        vertical-align: top;\n    }\n\n    .dataframe thead th {\n        text-align: right;\n    }\n\u003c/style\u003e\n\u003ctable border\u003d\"1\" class\u003d\"dataframe\"\u003e\n  \u003cthead\u003e\n    \u003ctr style\u003d\"text-align: right;\"\u003e\n      \u003cth\u003e\u003c/th\u003e\n      \u003cth\u003ebroker-102/\u003c/th\u003e\n      \u003cth\u003ebroker-104/\u003c/th\u003e\n      \u003cth\u003ebroker-106/\u003c/th\u003e\n      \u003cth\u003ebroker-108/\u003c/th\u003e\n      \u003cth\u003ebroker-110/\u003c/th\u003e\n      \u003cth\u003ezook-102/\u003c/th\u003e\n      \u003cth\u003ezook-104/\u003c/th\u003e\n      \u003cth\u003ebroker-102/data\u003c/th\u003e\n      \u003cth\u003ebroker-104/data\u003c/th\u003e\n      \u003cth\u003ebroker-106/data\u003c/th\u003e\n      \u003cth\u003ebroker-108/data\u003c/th\u003e\n      \u003cth\u003ebroker-110/data\u003c/th\u003e\n      \u003cth\u003ezook-102/data\u003c/th\u003e\n      \u003cth\u003ezook-104/data\u003c/th\u003e\n      \u003cth\u003ebroker-101/\u003c/th\u003e\n      \u003cth\u003ebroker-103/\u003c/th\u003e\n      \u003cth\u003ebroker-105/\u003c/th\u003e\n      \u003cth\u003ebroker-107/\u003c/th\u003e\n      \u003cth\u003ebroker-109/\u003c/th\u003e\n      \u003cth\u003ezook-101/\u003c/th\u003e\n      \u003cth\u003ezook-103/\u003c/th\u003e\n      \u003cth\u003ezook-105/\u003c/th\u003e\n      \u003cth\u003ebroker-101/data\u003c/th\u003e\n      \u003cth\u003ebroker-103/data\u003c/th\u003e\n      \u003cth\u003ebroker-105/data\u003c/th\u003e\n      \u003cth\u003ebroker-107/data\u003c/th\u003e\n      \u003cth\u003ebroker-109/data\u003c/th\u003e\n      \u003cth\u003ezook-101/data\u003c/th\u003e\n      \u003cth\u003ezook-103/data\u003c/th\u003e\n      \u003cth\u003ezook-105/data\u003c/th\u003e\n    \u003c/tr\u003e\n    \u003ctr\u003e\n      \u003cth\u003edate\u003c/th\u003e\n      \u003cth\u003e\u003c/th\u003e\n      \u003cth\u003e\u003c/th\u003e\n      \u003cth\u003e\u003c/th\u003e\n      \u003cth\u003e\u003c/th\u003e\n      \u003cth\u003e\u003c/th\u003e\n      \u003cth\u003e\u003c/th\u003e\n      \u003cth\u003e\u003c/th\u003e\n      \u003cth\u003e\u003c/th\u003e\n      \u003cth\u003e\u003c/th\u003e\n      \u003cth\u003e\u003c/th\u003e\n      \u003cth\u003e\u003c/th\u003e\n      \u003cth\u003e\u003c/th\u003e\n      \u003cth\u003e\u003c/th\u003e\n      \u003cth\u003e\u003c/th\u003e\n      \u003cth\u003e\u003c/th\u003e\n      \u003cth\u003e\u003c/th\u003e\n      \u003cth\u003e\u003c/th\u003e\n      \u003cth\u003e\u003c/th\u003e\n      \u003cth\u003e\u003c/th\u003e\n      \u003cth\u003e\u003c/th\u003e\n      \u003cth\u003e\u003c/th\u003e\n      \u003cth\u003e\u003c/th\u003e\n      \u003cth\u003e\u003c/th\u003e\n      \u003cth\u003e\u003c/th\u003e\n      \u003cth\u003e\u003c/th\u003e\n      \u003cth\u003e\u003c/th\u003e\n      \u003cth\u003e\u003c/th\u003e\n      \u003cth\u003e\u003c/th\u003e\n      \u003cth\u003e\u003c/th\u003e\n      \u003cth\u003e\u003c/th\u003e\n    \u003c/tr\u003e\n  \u003c/thead\u003e\n  \u003ctbody\u003e\n    \u003ctr\u003e\n      \u003cth\u003e2021-06-25 06:15:00+00:00\u003c/th\u003e\n      \u003ctd\u003e16.318256\u003c/td\u003e\n      \u003ctd\u003e14.317784\u003c/td\u003e\n      \u003ctd\u003e15.499574\u003c/td\u003e\n      \u003ctd\u003e13.478442\u003c/td\u003e\n      \u003ctd\u003e10.100069\u003c/td\u003e\n      \u003ctd\u003e3.457606\u003c/td\u003e\n      \u003ctd\u003e3.497103\u003c/td\u003e\n      \u003ctd\u003e85.198139\u003c/td\u003e\n      \u003ctd\u003e74.491702\u003c/td\u003e\n      \u003ctd\u003e70.937154\u003c/td\u003e\n      \u003ctd\u003e73.322070\u003c/td\u003e\n      \u003ctd\u003e88.858424\u003c/td\u003e\n      \u003ctd\u003e0.278296\u003c/td\u003e\n      \u003ctd\u003e0.216338\u003c/td\u003e\n      \u003ctd\u003e15.759843\u003c/td\u003e\n      \u003ctd\u003e15.526538\u003c/td\u003e\n      \u003ctd\u003e10.510089\u003c/td\u003e\n      \u003ctd\u003e13.464054\u003c/td\u003e\n      \u003ctd\u003e9.834396\u003c/td\u003e\n      \u003ctd\u003e3.489473\u003c/td\u003e\n      \u003ctd\u003e3.470773\u003c/td\u003e\n      \u003ctd\u003e3.176120\u003c/td\u003e\n      \u003ctd\u003e81.194161\u003c/td\u003e\n      \u003ctd\u003e76.236908\u003c/td\u003e\n      \u003ctd\u003e73.175427\u003c/td\u003e\n      \u003ctd\u003e72.768512\u003c/td\u003e\n      \u003ctd\u003e90.265277\u003c/td\u003e\n      \u003ctd\u003e0.251977\u003c/td\u003e\n      \u003ctd\u003e0.236909\u003c/td\u003e\n      \u003ctd\u003e0.245222\u003c/td\u003e\n    \u003c/tr\u003e\n    \u003ctr\u003e\n      \u003cth\u003e2021-06-25 06:30:00+00:00\u003c/th\u003e\n      \u003ctd\u003e16.201163\u003c/td\u003e\n      \u003ctd\u003e14.317455\u003c/td\u003e\n      \u003ctd\u003e15.596986\u003c/td\u003e\n      \u003ctd\u003e13.478452\u003c/td\u003e\n      \u003ctd\u003e10.100073\u003c/td\u003e\n      \u003ctd\u003e3.457596\u003c/td\u003e\n      \u003ctd\u003e3.498734\u003c/td\u003e\n      \u003ctd\u003e85.195519\u003c/td\u003e\n      \u003ctd\u003e74.540221\u003c/td\u003e\n      \u003ctd\u003e70.971025\u003c/td\u003e\n      \u003ctd\u003e73.390322\u003c/td\u003e\n      \u003ctd\u003e88.953916\u003c/td\u003e\n      \u003ctd\u003e0.278296\u003c/td\u003e\n      \u003ctd\u003e0.216338\u003c/td\u003e\n      \u003ctd\u003e15.798915\u003c/td\u003e\n      \u003ctd\u003e15.604688\u003c/td\u003e\n      \u003ctd\u003e10.588215\u003c/td\u003e\n      \u003ctd\u003e13.542199\u003c/td\u003e\n      \u003ctd\u003e9.893027\u003c/td\u003e\n      \u003ctd\u003e3.469877\u003c/td\u003e\n      \u003ctd\u003e3.470783\u003c/td\u003e\n      \u003ctd\u003e3.176225\u003c/td\u003e\n      \u003ctd\u003e81.216755\u003c/td\u003e\n      \u003ctd\u003e76.227287\u003c/td\u003e\n      \u003ctd\u003e73.233565\u003c/td\u003e\n      \u003ctd\u003e72.715046\u003c/td\u003e\n      \u003ctd\u003e90.343407\u003c/td\u003e\n      \u003ctd\u003e0.251977\u003c/td\u003e\n      \u003ctd\u003e0.236909\u003c/td\u003e\n      \u003ctd\u003e0.245222\u003c/td\u003e\n    \u003c/tr\u003e\n    \u003ctr\u003e\n      \u003cth\u003e2021-06-25 06:45:00+00:00\u003c/th\u003e\n      \u003ctd\u003e16.240144\u003c/td\u003e\n      \u003ctd\u003e14.200271\u003c/td\u003e\n      \u003ctd\u003e15.479296\u003c/td\u003e\n      \u003ctd\u003e13.478466\u003c/td\u003e\n      \u003ctd\u003e10.021952\u003c/td\u003e\n      \u003ctd\u003e3.457639\u003c/td\u003e\n      \u003ctd\u003e3.498534\u003c/td\u003e\n      \u003ctd\u003e85.368338\u003c/td\u003e\n      \u003ctd\u003e74.687954\u003c/td\u003e\n      \u003ctd\u003e71.060131\u003c/td\u003e\n      \u003ctd\u003e73.450625\u003c/td\u003e\n      \u003ctd\u003e89.056802\u003c/td\u003e\n      \u003ctd\u003e0.278296\u003c/td\u003e\n      \u003ctd\u003e0.216338\u003c/td\u003e\n      \u003ctd\u003e15.875768\u003c/td\u003e\n      \u003ctd\u003e15.526571\u003c/td\u003e\n      \u003ctd\u003e10.480893\u003c/td\u003e\n      \u003ctd\u003e13.464078\u003c/td\u003e\n      \u003ctd\u003e9.971639\u003c/td\u003e\n      \u003ctd\u003e3.489372\u003c/td\u003e\n      \u003ctd\u003e3.470907\u003c/td\u003e\n      \u003ctd\u003e3.156653\u003c/td\u003e\n      \u003ctd\u003e81.287027\u003c/td\u003e\n      \u003ctd\u003e76.350551\u003c/td\u003e\n      \u003ctd\u003e73.217323\u003c/td\u003e\n      \u003ctd\u003e72.744789\u003c/td\u003e\n      \u003ctd\u003e90.583015\u003c/td\u003e\n      \u003ctd\u003e0.251977\u003c/td\u003e\n      \u003ctd\u003e0.236909\u003c/td\u003e\n      \u003ctd\u003e0.245222\u003c/td\u003e\n    \u003c/tr\u003e\n    \u003ctr\u003e\n      \u003cth\u003e2021-06-25 07:00:00+00:00\u003c/th\u003e\n      \u003ctd\u003e16.166954\u003c/td\u003e\n      \u003ctd\u003e14.239343\u003c/td\u003e\n      \u003ctd\u003e15.479368\u003c/td\u003e\n      \u003ctd\u003e13.351567\u003c/td\u003e\n      \u003ctd\u003e10.002428\u003c/td\u003e\n      \u003ctd\u003e3.458865\u003c/td\u003e\n      \u003ctd\u003e3.498543\u003c/td\u003e\n      \u003ctd\u003e85.503684\u003c/td\u003e\n      \u003ctd\u003e74.622017\u003c/td\u003e\n      \u003ctd\u003e71.028285\u003c/td\u003e\n      \u003ctd\u003e73.530478\u003c/td\u003e\n      \u003ctd\u003e89.180835\u003c/td\u003e\n      \u003ctd\u003e0.278296\u003c/td\u003e\n      \u003ctd\u003e0.216338\u003c/td\u003e\n      \u003ctd\u003e15.875782\u003c/td\u003e\n      \u003ctd\u003e15.487523\u003c/td\u003e\n      \u003ctd\u003e10.519952\u003c/td\u003e\n      \u003ctd\u003e13.464083\u003c/td\u003e\n      \u003ctd\u003e9.971339\u003c/td\u003e\n      \u003ctd\u003e3.470134\u003c/td\u003e\n      \u003ctd\u003e3.470964\u003c/td\u003e\n      \u003ctd\u003e3.176167\u003c/td\u003e\n      \u003ctd\u003e81.417682\u003c/td\u003e\n      \u003ctd\u003e76.318796\u003c/td\u003e\n      \u003ctd\u003e73.396165\u003c/td\u003e\n      \u003ctd\u003e72.921757\u003c/td\u003e\n      \u003ctd\u003e90.711837\u003c/td\u003e\n      \u003ctd\u003e0.251977\u003c/td\u003e\n      \u003ctd\u003e0.236909\u003c/td\u003e\n      \u003ctd\u003e0.245222\u003c/td\u003e\n    \u003c/tr\u003e\n    \u003ctr\u003e\n      \u003cth\u003e2021-06-25 07:15:00+00:00\u003c/th\u003e\n      \u003ctd\u003e16.240354\u003c/td\u003e\n      \u003ctd\u003e14.317498\u003c/td\u003e\n      \u003ctd\u003e15.597000\u003c/td\u003e\n      \u003ctd\u003e13.405028\u003c/td\u003e\n      \u003ctd\u003e10.002437\u003c/td\u003e\n      \u003ctd\u003e3.497909\u003c/td\u003e\n      \u003ctd\u003e3.499302\u003c/td\u003e\n      \u003ctd\u003e85.652764\u003c/td\u003e\n      \u003ctd\u003e74.762854\u003c/td\u003e\n      \u003ctd\u003e71.062395\u003c/td\u003e\n      \u003ctd\u003e73.475029\u003c/td\u003e\n      \u003ctd\u003e89.232812\u003c/td\u003e\n      \u003ctd\u003e0.278296\u003c/td\u003e\n      \u003ctd\u003e0.216338\u003c/td\u003e\n      \u003ctd\u003e15.758903\u003c/td\u003e\n      \u003ctd\u003e15.458370\u003c/td\u003e\n      \u003ctd\u003e10.446685\u003c/td\u003e\n      \u003ctd\u003e13.542228\u003c/td\u003e\n      \u003ctd\u003e9.893218\u003c/td\u003e\n      \u003ctd\u003e3.470191\u003c/td\u003e\n      \u003ctd\u003e3.472156\u003c/td\u003e\n      \u003ctd\u003e3.176158\u003c/td\u003e\n      \u003ctd\u003e81.569016\u003c/td\u003e\n      \u003ctd\u003e76.359671\u003c/td\u003e\n      \u003ctd\u003e73.456350\u003c/td\u003e\n      \u003ctd\u003e72.810311\u003c/td\u003e\n      \u003ctd\u003e90.751683\u003c/td\u003e\n      \u003ctd\u003e0.251977\u003c/td\u003e\n      \u003ctd\u003e0.236909\u003c/td\u003e\n      \u003ctd\u003e0.245222\u003c/td\u003e\n    \u003c/tr\u003e\n  \u003c/tbody\u003e\n\u003c/table\u003e\n\u003c/div\u003e"
          },
          "metadata": {}
        }
      ]
    },
    {
      "execution_count": 43,
      "cell_type": "code",
      "metadata": {},
      "source": [
        "train \u003d train_df\nscalers\u003d{}\nfor i in train_df.columns:\n    scaler \u003d MinMaxScaler(feature_range\u003d(-1,1))\n    s_s \u003d scaler.fit_transform(train[i].values.reshape(-1,1))\n    s_s\u003dnp.reshape(s_s,len(s_s))\n    scalers[\u0027scaler_\u0027+ i] \u003d scaler\n    train[i]\u003ds_s\ntest \u003d test_df\nfor i in test_df.columns:\n    scaler \u003d scalers[\u0027scaler_\u0027+i]\n    s_s \u003d scaler.transform(test[i].values.reshape(-1,1))\n    s_s\u003dnp.reshape(s_s,len(s_s))\n    scalers[\u0027scaler_\u0027+i] \u003d scaler\n    test[i]\u003ds_s"
      ],
      "outputs": []
    },
    {
      "execution_count": 44,
      "cell_type": "code",
      "metadata": {},
      "source": [
        "def split_series(series, n_past, n_future):\n  #\n  # n_past \u003d\u003d\u003e no of past observations  \n  #\n  # n_future \u003d\u003d\u003e no of future observations \n  #\n  X, y \u003d list(), list()\n  for window_start in range(len(series)):\n    past_end \u003d window_start + n_past\n    future_end \u003d past_end + n_future\n    if future_end \u003e len(series):\n      break\n    # slicing the past and future parts of the window\n    past, future \u003d series[window_start:past_end, :], series[past_end:future_end, :]\n    X.append(past)\n    y.append(future)\n  return np.array(X), np.array(y)"
      ],
      "outputs": []
    },
    {
      "execution_count": 45,
      "cell_type": "code",
      "metadata": {},
      "source": [
        "n_past \u003d 10\nn_future \u003d 5 \nn_features \u003d 30"
      ],
      "outputs": []
    },
    {
      "execution_count": 46,
      "cell_type": "code",
      "metadata": {},
      "source": [
        "X_train, y_train \u003d split_series(train.values,n_past, n_future)\nX_train \u003d X_train.reshape((X_train.shape[0], X_train.shape[1],n_features))\ny_train \u003d y_train.reshape((y_train.shape[0], y_train.shape[1], n_features))\nX_test, y_test \u003d split_series(test.values,n_past, n_future)\nX_test \u003d X_test.reshape((X_test.shape[0], X_test.shape[1],n_features))\ny_test \u003d y_test.reshape((y_test.shape[0], y_test.shape[1], n_features))\n"
      ],
      "outputs": []
    },
    {
      "execution_count": 47,
      "cell_type": "code",
      "metadata": {},
      "source": [
        "encoder_inputs \u003d tf.keras.layers.Input(shape\u003d(n_past, n_features))\nencoder_l1 \u003d tf.keras.layers.LSTM(100, return_state\u003dTrue)\nencoder_outputs1 \u003d encoder_l1(encoder_inputs)\n\nencoder_states1 \u003d encoder_outputs1[1:]\n\n#\ndecoder_inputs \u003d tf.keras.layers.RepeatVector(n_future)(encoder_outputs1[0])\n\n#\ndecoder_l1 \u003d tf.keras.layers.LSTM(100, return_sequences\u003dTrue)(decoder_inputs,initial_state \u003d encoder_states1)\ndecoder_outputs1 \u003d tf.keras.layers.TimeDistributed(tf.keras.layers.Dense(n_features))(decoder_l1)\n\n#\nmodel_e1d1 \u003d tf.keras.models.Model(encoder_inputs,decoder_outputs1)\n\n#\nmodel_e1d1.summary()"
      ],
      "outputs": [
        {
          "output_type": "stream",
          "text": "WARNING:tensorflow:From /opt/dataiku/code-env/lib64/python3.6/site-packages/tensorflow_core/python/ops/resource_variable_ops.py:1630: calling BaseResourceVariable.__init__ (from tensorflow.python.ops.resource_variable_ops) with constraint is deprecated and will be removed in a future version.\nInstructions for updating:\nIf using Keras pass *_constraint arguments to layers.\n",
          "name": "stdout"
        },
        {
          "output_type": "stream",
          "text": "/opt/dataiku/code-env/lib64/python3.6/site-packages/tensorflow_core/python/framework/tensor_util.py:521: DeprecationWarning: tostring() is deprecated. Use tobytes() instead.\n  tensor_proto.tensor_content \u003d nparray.tostring()\n",
          "name": "stderr"
        },
        {
          "output_type": "stream",
          "text": "Model: \"model\"\n__________________________________________________________________________________________________\nLayer (type)                    Output Shape         Param #     Connected to                     \n\u003d\u003d\u003d\u003d\u003d\u003d\u003d\u003d\u003d\u003d\u003d\u003d\u003d\u003d\u003d\u003d\u003d\u003d\u003d\u003d\u003d\u003d\u003d\u003d\u003d\u003d\u003d\u003d\u003d\u003d\u003d\u003d\u003d\u003d\u003d\u003d\u003d\u003d\u003d\u003d\u003d\u003d\u003d\u003d\u003d\u003d\u003d\u003d\u003d\u003d\u003d\u003d\u003d\u003d\u003d\u003d\u003d\u003d\u003d\u003d\u003d\u003d\u003d\u003d\u003d\u003d\u003d\u003d\u003d\u003d\u003d\u003d\u003d\u003d\u003d\u003d\u003d\u003d\u003d\u003d\u003d\u003d\u003d\u003d\u003d\u003d\u003d\u003d\u003d\u003d\u003d\u003d\u003d\u003d\u003d\u003d\u003d\u003d\ninput_1 (InputLayer)            [(None, 10, 30)]     0                                            \n__________________________________________________________________________________________________\nlstm (LSTM)                     [(None, 100), (None, 52400       input_1[0][0]                    \n__________________________________________________________________________________________________\nrepeat_vector (RepeatVector)    (None, 5, 100)       0           lstm[0][0]                       \n__________________________________________________________________________________________________\nlstm_1 (LSTM)                   (None, 5, 100)       80400       repeat_vector[0][0]              \n                                                                 lstm[0][1]                       \n                                                                 lstm[0][2]                       \n__________________________________________________________________________________________________\ntime_distributed (TimeDistribut (None, 5, 30)        3030        lstm_1[0][0]                     \n\u003d\u003d\u003d\u003d\u003d\u003d\u003d\u003d\u003d\u003d\u003d\u003d\u003d\u003d\u003d\u003d\u003d\u003d\u003d\u003d\u003d\u003d\u003d\u003d\u003d\u003d\u003d\u003d\u003d\u003d\u003d\u003d\u003d\u003d\u003d\u003d\u003d\u003d\u003d\u003d\u003d\u003d\u003d\u003d\u003d\u003d\u003d\u003d\u003d\u003d\u003d\u003d\u003d\u003d\u003d\u003d\u003d\u003d\u003d\u003d\u003d\u003d\u003d\u003d\u003d\u003d\u003d\u003d\u003d\u003d\u003d\u003d\u003d\u003d\u003d\u003d\u003d\u003d\u003d\u003d\u003d\u003d\u003d\u003d\u003d\u003d\u003d\u003d\u003d\u003d\u003d\u003d\u003d\u003d\u003d\u003d\u003d\u003d\nTotal params: 135,830\nTrainable params: 135,830\nNon-trainable params: 0\n__________________________________________________________________________________________________\n",
          "name": "stdout"
        }
      ]
    },
    {
      "execution_count": 48,
      "cell_type": "code",
      "metadata": {},
      "source": [
        "reduce_lr \u003d tf.keras.callbacks.LearningRateScheduler(lambda x: 1e-3 * 0.90 ** x)\nmodel_e1d1.compile(optimizer\u003dtf.keras.optimizers.Adam(), loss\u003dtf.keras.losses.Huber())\nhistory_e1d1\u003dmodel_e1d1.fit(X_train,y_train,epochs\u003d25,validation_data\u003d(X_test,y_test),batch_size\u003d32,verbose\u003d0,callbacks\u003d[reduce_lr])"
      ],
      "outputs": [
        {
          "output_type": "stream",
          "text": "WARNING:tensorflow:From /opt/dataiku/code-env/lib64/python3.6/site-packages/tensorflow_core/python/ops/math_grad.py:1424: where (from tensorflow.python.ops.array_ops) is deprecated and will be removed in a future version.\nInstructions for updating:\nUse tf.where in 2.0, which has the same broadcast rule as np.where\n",
          "name": "stdout"
        },
        {
          "output_type": "stream",
          "text": "/opt/dataiku/code-env/lib64/python3.6/site-packages/tensorflow_core/python/framework/tensor_util.py:521: DeprecationWarning: tostring() is deprecated. Use tobytes() instead.\n  tensor_proto.tensor_content \u003d nparray.tostring()\n/opt/dataiku/code-env/lib64/python3.6/site-packages/tensorflow_core/python/framework/tensor_util.py:521: DeprecationWarning: tostring() is deprecated. Use tobytes() instead.\n  tensor_proto.tensor_content \u003d nparray.tostring()\n",
          "name": "stderr"
        }
      ]
    },
    {
      "execution_count": 49,
      "cell_type": "code",
      "metadata": {},
      "source": [
        "pred_e1d1\u003dmodel_e1d1.predict(X_test)"
      ],
      "outputs": []
    },
    {
      "execution_count": 54,
      "cell_type": "code",
      "metadata": {},
      "source": [
        "for index,i in enumerate(train_df.columns):\n    scaler \u003d scalers[\u0027scaler_\u0027+i]\n    pred_e1d1[:,:,index]\u003dscaler.inverse_transform(pred_e1d1[:,:,index])\n    y_train[:,:,index]\u003dscaler.inverse_transform(y_train[:,:,index])\n    y_test[:,:,index]\u003dscaler.inverse_transform(y_test[:,:,index])"
      ],
      "outputs": []
    },
    {
      "execution_count": 57,
      "cell_type": "code",
      "metadata": {},
      "source": [
        "y_test"
      ],
      "outputs": [
        {
          "output_type": "execute_result",
          "execution_count": 57,
          "data": {
            "text/plain": "array([[[13.73975085, 12.34896357, 13.48752729, ...,  0.28861596,\n          0.24067233,  0.21813935],\n        [13.81945537, 12.19840105, 13.34242053, ...,  0.28868466,\n          0.24073339,  0.21819278],\n        [13.70270993, 12.3528217 , 13.35214455, ...,  0.28869993,\n          0.24075629,  0.21822331],\n        [13.74617948, 12.34994121, 13.48782297, ...,  0.28869993,\n          0.24075629,  0.21822331],\n        [13.66709971, 12.35417133, 13.34188163, ...,  0.28869993,\n          0.24075629,  0.21822331]],\n\n       [[13.81945537, 12.19840105, 13.34242053, ...,  0.28868466,\n          0.24073339,  0.21819278],\n        [13.70270993, 12.3528217 , 13.35214455, ...,  0.28869993,\n          0.24075629,  0.21822331],\n        [13.74617948, 12.34994121, 13.48782297, ...,  0.28869993,\n          0.24075629,  0.21822331],\n        [13.66709971, 12.35417133, 13.34188163, ...,  0.28869993,\n          0.24075629,  0.21822331],\n        [13.74318931, 12.35760979, 13.43049466, ...,  0.28869993,\n          0.24075629,  0.21822331]],\n\n       [[13.70270993, 12.3528217 , 13.35214455, ...,  0.28869993,\n          0.24075629,  0.21822331],\n        [13.74617948, 12.34994121, 13.48782297, ...,  0.28869993,\n          0.24075629,  0.21822331],\n        [13.66709971, 12.35417133, 13.34188163, ...,  0.28869993,\n          0.24075629,  0.21822331],\n        [13.74318931, 12.35760979, 13.43049466, ...,  0.28869993,\n          0.24075629,  0.21822331],\n        [13.74091449, 12.36054273, 13.50866356, ...,  0.28869993,\n          0.24075629,  0.21822331]],\n\n       ...,\n\n       [[13.89192052, 12.32849019, 13.40149906, ...,  0.28278426,\n          0.2714796 ,  0.19234703],\n        [13.89133394, 12.34725626, 13.40402664, ...,  0.28278426,\n          0.2714796 ,  0.19234703],\n        [13.8146482 , 12.3672575 , 13.32484672, ...,  0.28279952,\n          0.27149487,  0.19235467],\n        [13.83093438, 12.40596758, 13.40413633, ...,  0.28279952,\n          0.27149487,  0.1923623 ],\n        [13.7742499 , 12.48400771, 13.34306435, ...,  0.28279952,\n          0.27149487,  0.1923623 ]],\n\n       [[13.89133394, 12.34725626, 13.40402664, ...,  0.28278426,\n          0.2714796 ,  0.19234703],\n        [13.8146482 , 12.3672575 , 13.32484672, ...,  0.28279952,\n          0.27149487,  0.19235467],\n        [13.83093438, 12.40596758, 13.40413633, ...,  0.28279952,\n          0.27149487,  0.1923623 ],\n        [13.7742499 , 12.48400771, 13.34306435, ...,  0.28279952,\n          0.27149487,  0.1923623 ],\n        [13.8914627 , 12.34728487, 13.42121416, ...,  0.28279952,\n          0.27149487,  0.1923623 ]],\n\n       [[13.8146482 , 12.3672575 , 13.32484672, ...,  0.28279952,\n          0.27149487,  0.19235467],\n        [13.83093438, 12.40596758, 13.40413633, ...,  0.28279952,\n          0.27149487,  0.1923623 ],\n        [13.7742499 , 12.48400771, 13.34306435, ...,  0.28279952,\n          0.27149487,  0.1923623 ],\n        [13.8914627 , 12.34728487, 13.42121416, ...,  0.28279952,\n          0.27149487,  0.1923623 ],\n        [13.81334626, 12.36683306, 13.34308819, ...,  0.28279952,\n          0.27149487,  0.1923623 ]]])"
          },
          "metadata": {}
        }
      ]
    },
    {
      "execution_count": 56,
      "cell_type": "code",
      "metadata": {},
      "source": [
        "pred_e1d1.shape"
      ],
      "outputs": [
        {
          "output_type": "execute_result",
          "execution_count": 56,
          "data": {
            "text/plain": "(658, 5, 30)"
          },
          "metadata": {}
        }
      ]
    },
    {
      "execution_count": 59,
      "cell_type": "code",
      "metadata": {},
      "source": [
        "handle \u003d dataiku.Folder(\"models\")\npath "
      ],
      "outputs": []
    },
    {
      "execution_count": 60,
      "cell_type": "code",
      "metadata": {},
      "source": [
        "from keras.models import load_model \nmodel_e1d1.save(\u0027model.h5\u0027)"
      ],
      "outputs": [
        {
          "output_type": "stream",
          "text": "Using TensorFlow backend.\n",
          "name": "stderr"
        }
      ]
    },
    {
      "execution_count": 0,
      "cell_type": "code",
      "metadata": {},
      "source": [
        "# Compute recipe outputs from inputs\n# TODO: Replace this part by your actual code that computes the output, as a Pandas dataframe\n# NB: DSS also supports other kinds of APIs for reading and writing data. Please see doc.\n\npredictions_df \u003d json_prepared_df # For this sample code, simply copy input to output\n\n\n# Write recipe outputs\npredictions \u003d dataiku.Dataset(\"predictions\")\npredictions.write_with_schema(predictions_df)"
      ],
      "outputs": []
    },
    {
      "execution_count": 0,
      "cell_type": "code",
      "metadata": {},
      "source": [
        ""
      ],
      "outputs": []
    }
  ]
}