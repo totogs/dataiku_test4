{
  "metadata": {
    "kernelspec": {
      "name": "py-dku-venv-pre-pross",
      "display_name": "Python (env pre-pross)",
      "language": "python"
    },
    "associatedRecipe": "compute_Pivot",
    "creator": "rayan",
    "createdOn": 1629123971071,
    "tags": [
      "recipe-editor"
    ],
    "customFields": {},
    "language_info": {
      "name": "python",
      "version": "3.6.13",
      "mimetype": "text/x-python",
      "codemirror_mode": {
        "name": "ipython",
        "version": 3
      },
      "pygments_lexer": "ipython3",
      "nbconvert_exporter": "python",
      "file_extension": ".py"
    },
    "modifiedBy": "rayan"
  },
  "nbformat": 4,
  "nbformat_minor": 1,
  "cells": [
    {
      "execution_count": 1,
      "cell_type": "code",
      "metadata": {},
      "source": [
        "# -*- coding: utf-8 -*-\nimport dataiku\nimport pandas as pd, numpy as np\nfrom dataiku import pandasutils as pdu\n\n# Read recipe inputs\njson \u003d dataiku.Dataset(\"Json\")\ndf \u003d json.get_dataframe()\ndf.head(10)"
      ],
      "outputs": [
        {
          "output_type": "execute_result",
          "execution_count": 1,
          "data": {
            "text/plain": "       Broker Data_Center Disk Timestamp  CPU_Usage\n0  broker-102   dalembert    /       NaT  16.318256\n1  broker-102   dalembert    /       NaT  16.201163\n2  broker-102   dalembert    /       NaT  16.240144\n3  broker-102   dalembert    /       NaT  16.166954\n4  broker-102   dalembert    /       NaT  16.240354\n5  broker-102   dalembert    /       NaT  16.318356\n6  broker-102   dalembert    /       NaT  16.201301\n7  broker-102   dalembert    /       NaT  16.280624\n8  broker-102   dalembert    /       NaT  16.407470\n9  broker-102   dalembert    /       NaT  16.287959",
            "text/html": "\n            \u003cbutton style\u003d\"display:none\" \n            class\u003d\"btn btn-default ipython-export-btn\" \n            id\u003d\"btn-df-1179b77f-766c-48fa-9fc9-8926123c8720\" \n            onclick\u003d\"_export_df(\u00271179b77f-766c-48fa-9fc9-8926123c8720\u0027)\"\u003e\n                Export dataframe\n            \u003c/button\u003e\n            \n            \u003cscript\u003e\n                \n                function _check_export_df_possible(dfid,yes_fn,no_fn) {\n                    console.log(\u0027Checking dataframe exportability...\u0027)\n                    if(!IPython || !IPython.notebook || !IPython.notebook.kernel || !IPython.notebook.kernel) {\n                        console.log(\u0027Export is not possible (IPython kernel is not available)\u0027)\n                        if(no_fn) {\n                            no_fn();\n                        }\n                    } else {\n                        var pythonCode \u003d \u0027from dataiku.notebook.export import IPythonExporter;IPythonExporter._check_export_stdout(\"\u0027+dfid+\u0027\")\u0027;\n                        IPython.notebook.kernel.execute(pythonCode,{iopub: {output: function(resp) {\n                            console.info(\"Exportability response\", resp);\n                            var size \u003d /^([0-9]+)x([0-9]+)$/.exec(resp.content.data || resp.content.text)\n                            if(!size) {\n                                console.log(\u0027Export is not possible (dataframe is not in-memory anymore)\u0027)\n                                if(no_fn) {\n                                    no_fn();\n                                }\n                            } else {\n                                console.log(\u0027Export is possible\u0027)\n                                if(yes_fn) {\n                                    yes_fn(1*size[1],1*size[2]);\n                                }\n                            }\n                        }}});\n                    }\n                }\n            \n                function _export_df(dfid) {\n                    \n                    var btn \u003d $(\u0027#btn-df-\u0027+dfid);\n                    var btns \u003d $(\u0027.ipython-export-btn\u0027);\n                    \n                    _check_export_df_possible(dfid,function() {\n                        \n                        window.parent.openExportModalFromIPython(\u0027Pandas dataframe\u0027,function(data) {\n                            btns.prop(\u0027disabled\u0027,true);\n                            btn.text(\u0027Exporting...\u0027);\n                            var command \u003d \u0027from dataiku.notebook.export import IPythonExporter;IPythonExporter._run_export(\"\u0027+dfid+\u0027\",\"\u0027+data.exportId+\u0027\")\u0027;\n                            var callback \u003d {iopub:{output: function(resp) {\n                                console.info(\"CB resp:\", resp);\n                                _check_export_df_possible(dfid,function(rows, cols) {\n                                    $(\u0027#btn-df-\u0027+dfid)\n                                        .css(\u0027display\u0027,\u0027inline-block\u0027)\n                                        .text(\u0027Export this dataframe (\u0027+rows+\u0027 rows, \u0027+cols+\u0027 cols)\u0027)\n                                        .prop(\u0027disabled\u0027,false);\n                                },function() {\n                                    $(\u0027#btn-df-\u0027+dfid).css(\u0027display\u0027,\u0027none\u0027);\n                                });\n                            }}};\n                            IPython.notebook.kernel.execute(command,callback,{silent:false}); // yes, silent now defaults to true. figures.\n                        });\n                    \n                    }, function(){\n                            alert(\u0027Unable to export : the Dataframe object is not loaded in memory\u0027);\n                            btn.css(\u0027display\u0027,\u0027none\u0027);\n                    });\n                    \n                }\n                \n                (function(dfid) {\n                \n                    var retryCount \u003d 10;\n                \n                    function is_valid_websock(s) {\n                        return s \u0026\u0026 s.readyState\u003d\u003d1;\n                    }\n                \n                    function check_conn() {\n                        \n                        if(!IPython || !IPython.notebook) {\n                            // Don\u0027t even try to go further\n                            return;\n                        }\n                        \n                        // Check if IPython is ready\n                        console.info(\"Checking conn ...\")\n                        if(IPython.notebook.kernel\n                        \u0026\u0026 IPython.notebook.kernel\n                        \u0026\u0026 is_valid_websock(IPython.notebook.kernel.ws)\n                        ) {\n                            \n                            _check_export_df_possible(dfid,function(rows, cols) {\n                                $(\u0027#btn-df-\u0027+dfid).css(\u0027display\u0027,\u0027inline-block\u0027);\n                                $(\u0027#btn-df-\u0027+dfid).text(\u0027Export this dataframe (\u0027+rows+\u0027 rows, \u0027+cols+\u0027 cols)\u0027);\n                            });\n                            \n                        } else {\n                            console.info(\"Conditions are not ok\", IPython.notebook.kernel);\n                            \n                            // Retry later\n                            \n                            if(retryCount\u003e0) {\n                                setTimeout(check_conn,500);\n                                retryCount--;\n                            }\n                            \n                        }\n                    };\n                    \n                    setTimeout(check_conn,100);\n                    \n                })(\"1179b77f-766c-48fa-9fc9-8926123c8720\");\n                \n            \u003c/script\u003e\n            \n        \u003cdiv\u003e\n\u003cstyle scoped\u003e\n    .dataframe tbody tr th:only-of-type {\n        vertical-align: middle;\n    }\n\n    .dataframe tbody tr th {\n        vertical-align: top;\n    }\n\n    .dataframe thead th {\n        text-align: right;\n    }\n\u003c/style\u003e\n\u003ctable border\u003d\"1\" class\u003d\"dataframe\"\u003e\n  \u003cthead\u003e\n    \u003ctr style\u003d\"text-align: right;\"\u003e\n      \u003cth\u003e\u003c/th\u003e\n      \u003cth\u003eBroker\u003c/th\u003e\n      \u003cth\u003eData_Center\u003c/th\u003e\n      \u003cth\u003eDisk\u003c/th\u003e\n      \u003cth\u003eTimestamp\u003c/th\u003e\n      \u003cth\u003eCPU_Usage\u003c/th\u003e\n    \u003c/tr\u003e\n  \u003c/thead\u003e\n  \u003ctbody\u003e\n    \u003ctr\u003e\n      \u003cth\u003e0\u003c/th\u003e\n      \u003ctd\u003ebroker-102\u003c/td\u003e\n      \u003ctd\u003edalembert\u003c/td\u003e\n      \u003ctd\u003e/\u003c/td\u003e\n      \u003ctd\u003eNaT\u003c/td\u003e\n      \u003ctd\u003e16.318256\u003c/td\u003e\n    \u003c/tr\u003e\n    \u003ctr\u003e\n      \u003cth\u003e1\u003c/th\u003e\n      \u003ctd\u003ebroker-102\u003c/td\u003e\n      \u003ctd\u003edalembert\u003c/td\u003e\n      \u003ctd\u003e/\u003c/td\u003e\n      \u003ctd\u003eNaT\u003c/td\u003e\n      \u003ctd\u003e16.201163\u003c/td\u003e\n    \u003c/tr\u003e\n    \u003ctr\u003e\n      \u003cth\u003e2\u003c/th\u003e\n      \u003ctd\u003ebroker-102\u003c/td\u003e\n      \u003ctd\u003edalembert\u003c/td\u003e\n      \u003ctd\u003e/\u003c/td\u003e\n      \u003ctd\u003eNaT\u003c/td\u003e\n      \u003ctd\u003e16.240144\u003c/td\u003e\n    \u003c/tr\u003e\n    \u003ctr\u003e\n      \u003cth\u003e3\u003c/th\u003e\n      \u003ctd\u003ebroker-102\u003c/td\u003e\n      \u003ctd\u003edalembert\u003c/td\u003e\n      \u003ctd\u003e/\u003c/td\u003e\n      \u003ctd\u003eNaT\u003c/td\u003e\n      \u003ctd\u003e16.166954\u003c/td\u003e\n    \u003c/tr\u003e\n    \u003ctr\u003e\n      \u003cth\u003e4\u003c/th\u003e\n      \u003ctd\u003ebroker-102\u003c/td\u003e\n      \u003ctd\u003edalembert\u003c/td\u003e\n      \u003ctd\u003e/\u003c/td\u003e\n      \u003ctd\u003eNaT\u003c/td\u003e\n      \u003ctd\u003e16.240354\u003c/td\u003e\n    \u003c/tr\u003e\n    \u003ctr\u003e\n      \u003cth\u003e5\u003c/th\u003e\n      \u003ctd\u003ebroker-102\u003c/td\u003e\n      \u003ctd\u003edalembert\u003c/td\u003e\n      \u003ctd\u003e/\u003c/td\u003e\n      \u003ctd\u003eNaT\u003c/td\u003e\n      \u003ctd\u003e16.318356\u003c/td\u003e\n    \u003c/tr\u003e\n    \u003ctr\u003e\n      \u003cth\u003e6\u003c/th\u003e\n      \u003ctd\u003ebroker-102\u003c/td\u003e\n      \u003ctd\u003edalembert\u003c/td\u003e\n      \u003ctd\u003e/\u003c/td\u003e\n      \u003ctd\u003eNaT\u003c/td\u003e\n      \u003ctd\u003e16.201301\u003c/td\u003e\n    \u003c/tr\u003e\n    \u003ctr\u003e\n      \u003cth\u003e7\u003c/th\u003e\n      \u003ctd\u003ebroker-102\u003c/td\u003e\n      \u003ctd\u003edalembert\u003c/td\u003e\n      \u003ctd\u003e/\u003c/td\u003e\n      \u003ctd\u003eNaT\u003c/td\u003e\n      \u003ctd\u003e16.280624\u003c/td\u003e\n    \u003c/tr\u003e\n    \u003ctr\u003e\n      \u003cth\u003e8\u003c/th\u003e\n      \u003ctd\u003ebroker-102\u003c/td\u003e\n      \u003ctd\u003edalembert\u003c/td\u003e\n      \u003ctd\u003e/\u003c/td\u003e\n      \u003ctd\u003eNaT\u003c/td\u003e\n      \u003ctd\u003e16.407470\u003c/td\u003e\n    \u003c/tr\u003e\n    \u003ctr\u003e\n      \u003cth\u003e9\u003c/th\u003e\n      \u003ctd\u003ebroker-102\u003c/td\u003e\n      \u003ctd\u003edalembert\u003c/td\u003e\n      \u003ctd\u003e/\u003c/td\u003e\n      \u003ctd\u003eNaT\u003c/td\u003e\n      \u003ctd\u003e16.287959\u003c/td\u003e\n    \u003c/tr\u003e\n  \u003c/tbody\u003e\n\u003c/table\u003e\n\u003c/div\u003e"
          },
          "metadata": {}
        }
      ]
    },
    {
      "execution_count": 0,
      "cell_type": "code",
      "metadata": {},
      "source": [
        ""
      ],
      "outputs": []
    },
    {
      "execution_count": 0,
      "cell_type": "code",
      "metadata": {},
      "source": [
        "df\u003dpd.pivot_table(df,index\u003d[\u0027shopCode\u0027,\u0027Product\u0027],columns\u003ddf.groupby([\u0027shopCode\u0027,\u0027Product\u0027]).cumcount().add(1),values\u003d[\u0027Code\u0027,\u0027Score\u0027],aggfunc\u003d\u0027sum\u0027)"
      ],
      "outputs": []
    },
    {
      "execution_count": 0,
      "cell_type": "code",
      "metadata": {},
      "source": [
        "# Write recipe outputs\npivot \u003d dataiku.Dataset(\"Pivot\")\npivot.write_with_schema(df)"
      ],
      "outputs": []
    }
  ]
}