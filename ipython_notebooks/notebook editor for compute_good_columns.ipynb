{
  "metadata": {
    "kernelspec": {
      "name": "python3",
      "display_name": "Python 3",
      "language": "python"
    },
    "associatedRecipe": "compute_good_columns",
    "creator": "rayan",
    "createdOn": 1628858407723,
    "tags": [
      "recipe-editor"
    ],
    "customFields": {},
    "language_info": {
      "name": "python",
      "version": "3.6.13",
      "mimetype": "text/x-python",
      "codemirror_mode": {
        "name": "ipython",
        "version": 3
      },
      "pygments_lexer": "ipython3",
      "nbconvert_exporter": "python",
      "file_extension": ".py"
    },
    "modifiedBy": "rayan"
  },
  "nbformat": 4,
  "nbformat_minor": 1,
  "cells": [
    {
      "execution_count": 0,
      "cell_type": "code",
      "metadata": {},
      "source": [
        "import dataiku\nimport pandas as pd, numpy as np\nfrom dataiku import pandasutils as pdu"
      ],
      "outputs": []
    },
    {
      "execution_count": 0,
      "cell_type": "code",
      "metadata": {},
      "source": [
        "# Read recipe inputs\nprepared \u003d dataiku.Dataset(\"prepared\")\ndf \u003d prepared.get_dataframe()\ndf.head()"
      ],
      "outputs": []
    },
    {
      "execution_count": 0,
      "cell_type": "code",
      "metadata": {},
      "source": [
        "#On fait des sous daframes pour pouvoir faire les modifications sur tout les brokers en memes temps\n\ndf0 \u003d df[[\"data.result.0.metric\",\"data.result.0.values\"]]\ndf1 \u003d df[[\"data.result.1.metric\",\"data.result.1.values\"]]\ndf2 \u003d df[[\"data.result.2.metric\",\"data.result.2.values\"]]\ndf3 \u003d df[[\"data.result.3.metric\",\"data.result.3.values\"]]\ndf4 \u003d df[[\"data.result.4.metric\",\"data.result.4.values\"]]\n\ndf5 \u003d df[[\"data.result.5.metric\",\"data.result.5.values\"]]\ndf6 \u003d df[[\"data.result.6.metric\",\"data.result.6.values\"]]\ndf7 \u003d df[[\"data.result.7.metric\",\"data.result.7.values\"]]\ndf8 \u003d df[[\"data.result.8.metric\",\"data.result.8.values\"]]\ndf9 \u003d df[[\"data.result.9.metric\",\"data.result.9.values\"]]\n\ndf10 \u003d df[[\"data.result.10.metric\",\"data.result.10.values\"]]\ndf11 \u003d df[[\"data.result.11.metric\",\"data.result.11.values\"]]\ndf12 \u003d df[[\"data.result.12.metric\",\"data.result.12.values\"]]\ndf13 \u003d df[[\"data.result.13.metric\",\"data.result.13.values\"]]\ndf14 \u003d df[[\"data.result.14.metric\",\"data.result.14.values\"]]\n\ndf15 \u003d df[[\"data.result.15.metric\",\"data.result.15.values\"]]\ndf16 \u003d df[[\"data.result.16.metric\",\"data.result.16.values\"]]\ndf17 \u003d df[[\"data.result.17.metric\",\"data.result.17.values\"]]\ndf18 \u003d df[[\"data.result.18.metric\",\"data.result.18.values\"]]\ndf19 \u003d df[[\"data.result.19.metric\",\"data.result.19.values\"]]\n\ndf20 \u003d df[[\"data.result.20.metric\",\"data.result.20.values\"]]\ndf21 \u003d df[[\"data.result.21.metric\",\"data.result.21.values\"]]\ndf22 \u003d df[[\"data.result.22.metric\",\"data.result.22.values\"]]\ndf23 \u003d df[[\"data.result.23.metric\",\"data.result.23.values\"]]\ndf24 \u003d df[[\"data.result.24.metric\",\"data.result.24.values\"]]\n\ndf25 \u003d df[[\"data.result.25.metric\",\"data.result.25.values\"]]\ndf26 \u003d df[[\"data.result.26.metric\",\"data.result.26.values\"]]\ndf27 \u003d df[[\"data.result.27.metric\",\"data.result.27.values\"]]\ndf28 \u003d df[[\"data.result.28.metric\",\"data.result.28.values\"]]\ndf29 \u003d df[[\"data.result.29.metric\",\"data.result.29.values\"]]"
      ],
      "outputs": []
    },
    {
      "execution_count": 0,
      "cell_type": "code",
      "metadata": {},
      "source": [
        "df0.head()"
      ],
      "outputs": []
    },
    {
      "execution_count": 0,
      "cell_type": "code",
      "metadata": {},
      "source": [
        "for key, value in df0[\"data.result.0.metric\"]df0[\"data.result.0.metric\"].items():\n    if key \u003d\u003d \"hostname\":\n        print(value)\n    else :\n        print(\"non chackal\")"
      ],
      "outputs": []
    },
    {
      "execution_count": 0,
      "cell_type": "code",
      "metadata": {},
      "source": [
        "df0[\"data.result.0.metric\"].items()"
      ],
      "outputs": []
    },
    {
      "execution_count": 0,
      "cell_type": "code",
      "metadata": {},
      "source": [
        "good_columns_df \u003d df # For this sample code, simply copy input to output\n\n# Write recipe outputs\n#good_columns \u003d dataiku.Dataset(\"good_columns\")\ngood_columns.write_with_schema(good_columns_df)"
      ],
      "outputs": []
    }
  ]
}