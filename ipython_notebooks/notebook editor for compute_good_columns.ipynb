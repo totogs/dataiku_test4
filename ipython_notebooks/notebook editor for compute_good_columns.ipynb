{
  "nbformat": 4,
  "nbformat_minor": 0,
  "metadata": {
    "kernelspec": {
      "display_name": "Python 3",
      "language": "python",
      "name": "python3"
    },
    "associatedRecipe": "compute_good_columns",
    "creator": "rayan",
    "createdOn": 1628861815500,
    "tags": [
      "recipe-editor"
    ],
    "customFields": {}
  },
  "cells": [
    {
      "cell_type": "code",
      "metadata": {},
      "outputs": [],
      "execution_count": 0,
      "source": [
        "import dataiku\n",
        "import pandas as pd, numpy as np\n",
        "from dataiku import pandasutils as pdu"
      ]
    },
    {
      "cell_type": "code",
      "metadata": {},
      "outputs": [],
      "execution_count": 0,
      "source": [
        "# Read recipe inputs\n",
        "prepared \u003d dataiku.Dataset(\"prepared\")\n",
        "df \u003d prepared.get_dataframe()\n",
        "df.head()"
      ]
    },
    {
      "cell_type": "code",
      "metadata": {},
      "outputs": [],
      "execution_count": 0,
      "source": [
        "#On fait des sous daframes pour pouvoir faire les modifications sur tout les brokers en memes temps\n",
        "\n",
        "df0 \u003d df[[\"data.result.0_metric\",\"data.result.0_values\"]]\n",
        "df1 \u003d df[[\"data.result.1_metric\",\"data.result.1_values\"]]\n",
        "df2 \u003d df[[\"data.result.2_metric\",\"data.result.2_values\"]]\n",
        "df3 \u003d df[[\"data.result.3_metric\",\"data.result.3_values\"]]\n",
        "df4 \u003d df[[\"data.result.4_metric\",\"data.result.4_values\"]]\n",
        "\n",
        "df5 \u003d df[[\"data.result.5_metric\",\"data.result.5_values\"]]\n",
        "df6 \u003d df[[\"data.result.6_metric\",\"data.result.6_values\"]]\n",
        "df7 \u003d df[[\"data.result.7_metric\",\"data.result.7_values\"]]\n",
        "df8 \u003d df[[\"data.result.8_metric\",\"data.result.8_values\"]]\n",
        "df9 \u003d df[[\"data.result.9_metric\",\"data.result.9_values\"]]\n",
        "\n",
        "df10 \u003d df[[\"data.result.10_metric\",\"data.result.10_values\"]]\n",
        "df11 \u003d df[[\"data.result.11_metric\",\"data.result.11_values\"]]\n",
        "df12 \u003d df[[\"data.result.12_metric\",\"data.result.12_values\"]]\n",
        "df13 \u003d df[[\"data.result.13_metric\",\"data.result.13_values\"]]\n",
        "df14 \u003d df[[\"data.result.14_metric\",\"data.result.14_values\"]]\n",
        "\n",
        "df15 \u003d df[[\"data.result.15_metric\",\"data.result.15_values\"]]\n",
        "df16 \u003d df[[\"data.result.16_metric\",\"data.result.16_values\"]]\n",
        "df17 \u003d df[[\"data.result.17_metric\",\"data.result.17_values\"]]\n",
        "df18 \u003d df[[\"data.result.18_metric\",\"data.result.18_values\"]]\n",
        "df19 \u003d df[[\"data.result.19_metric\",\"data.result.19_values\"]]\n",
        "\n",
        "df20 \u003d df[[\"data.result.20_metric\",\"data.result.20_values\"]]\n",
        "df21 \u003d df[[\"data.result.21_metric\",\"data.result.21_values\"]]\n",
        "df22 \u003d df[[\"data.result.22_metric\",\"data.result.22_values\"]]\n",
        "df23 \u003d df[[\"data.result.23_metric\",\"data.result.23_values\"]]\n",
        "df24 \u003d df[[\"data.result.24_metric\",\"data.result.24_values\"]]\n",
        "\n",
        "df25 \u003d df[[\"data.result.25_metric\",\"data.result.25_values\"]]\n",
        "df26 \u003d df[[\"data.result.26_metric\",\"data.result.26_values\"]]\n",
        "df27 \u003d df[[\"data.result.27_metric\",\"data.result.27_values\"]]\n",
        "df28 \u003d df[[\"data.result.28_metric\",\"data.result.28_values\"]]\n",
        "df29 \u003d df[[\"data.result.29_metric\",\"data.result.29_values\"]]"
      ]
    },
    {
      "cell_type": "code",
      "metadata": {},
      "outputs": [],
      "execution_count": 0,
      "source": [
        "df0.head()"
      ]
    },
    {
      "cell_type": "code",
      "metadata": {},
      "outputs": [],
      "execution_count": 0,
      "source": [
        "dict \u003d df0[\"data.result.0_metric\"]\n",
        "\n",
        "for key, value in dict.items():\n",
        "\n",
        "    print(key, \u0027-\u003e\u0027, dict[key])"
      ]
    },
    {
      "cell_type": "code",
      "metadata": {},
      "outputs": [],
      "execution_count": 0,
      "source": [
        "dict \u003d df0[\"data.result.0_metric\"]\n",
        "\n",
        "for key in dict:\n",
        "\n",
        "    print(key)"
      ]
    },
    {
      "cell_type": "code",
      "metadata": {},
      "outputs": [],
      "execution_count": 0,
      "source": [
        "broker\n",
        "for key, value in df0[\"data.result.0_metric\"].items():\n",
        "    if key \u003d\u003d \"hostname\":\n",
        "        print(value)\n",
        "    else :\n",
        "        print(\"non chackal\")"
      ]
    },
    {
      "cell_type": "code",
      "metadata": {},
      "outputs": [],
      "execution_count": 0,
      "source": [
        "df0[\"data.result.0.metric\"].items()"
      ]
    },
    {
      "cell_type": "code",
      "metadata": {},
      "outputs": [],
      "execution_count": 0,
      "source": [
        "# Write recipe outputs\n",
        "#good_columns \u003d dataiku.Dataset(\"good_columns\")\n",
        "#good_columns.write_with_schema(df)"
      ]
    }
  ]
}