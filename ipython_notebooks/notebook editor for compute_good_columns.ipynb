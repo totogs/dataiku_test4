{
  "metadata": {
    "kernelspec": {
      "name": "python3",
      "display_name": "Python 3",
      "language": "python"
    },
    "associatedRecipe": "compute_good_columns",
    "creator": "rayan",
    "createdOn": 1628861511558,
    "tags": [
      "recipe-editor"
    ],
    "customFields": {},
    "language_info": {
      "name": "python",
      "version": "3.6.13",
      "mimetype": "text/x-python",
      "codemirror_mode": {
        "name": "ipython",
        "version": 3
      },
      "pygments_lexer": "ipython3",
      "nbconvert_exporter": "python",
      "file_extension": ".py"
    },
    "modifiedBy": "rayan"
  },
  "nbformat": 4,
  "nbformat_minor": 1,
  "cells": [
    {
      "execution_count": 0,
      "cell_type": "code",
      "metadata": {},
      "source": [
        "import dataiku\nimport pandas as pd, numpy as np\nfrom dataiku import pandasutils as pdu"
      ],
      "outputs": []
    },
    {
      "execution_count": 0,
      "cell_type": "code",
      "metadata": {},
      "source": [
        "# Read recipe inputs\nprepared \u003d dataiku.Dataset(\"prepared\")\ndf \u003d prepared.get_dataframe()\ndf.head()"
      ],
      "outputs": []
    },
    {
      "execution_count": 0,
      "cell_type": "code",
      "metadata": {},
      "source": [
        "#On fait des sous daframes pour pouvoir faire les modifications sur tout les brokers en memes temps\n\ndf0 \u003d df[[\"data.result.0_metric\",\"data.result.0_values\"]]\ndf1 \u003d df[[\"data.result.1_metric\",\"data.result.1_values\"]]\ndf2 \u003d df[[\"data.result.2_metric\",\"data.result.2_values\"]]\ndf3 \u003d df[[\"data.result.3_metric\",\"data.result.3_values\"]]\ndf4 \u003d df[[\"data.result.4_metric\",\"data.result.4_values\"]]\n\ndf5 \u003d df[[\"data.result.5_metric\",\"data.result.5_values\"]]\ndf6 \u003d df[[\"data.result.6_metric\",\"data.result.6_values\"]]\ndf7 \u003d df[[\"data.result.7_metric\",\"data.result.7_values\"]]\ndf8 \u003d df[[\"data.result.8_metric\",\"data.result.8_values\"]]\ndf9 \u003d df[[\"data.result.9_metric\",\"data.result.9_values\"]]\n\ndf10 \u003d df[[\"data.result.10_metric\",\"data.result.10_values\"]]\ndf11 \u003d df[[\"data.result.11_metric\",\"data.result.11_values\"]]\ndf12 \u003d df[[\"data.result.12_metric\",\"data.result.12_values\"]]\ndf13 \u003d df[[\"data.result.13_metric\",\"data.result.13_values\"]]\ndf14 \u003d df[[\"data.result.14_metric\",\"data.result.14_values\"]]\n\ndf15 \u003d df[[\"data.result.15_metric\",\"data.result.15_values\"]]\ndf16 \u003d df[[\"data.result.16_metric\",\"data.result.16_values\"]]\ndf17 \u003d df[[\"data.result.17_metric\",\"data.result.17_values\"]]\ndf18 \u003d df[[\"data.result.18_metric\",\"data.result.18_values\"]]\ndf19 \u003d df[[\"data.result.19_metric\",\"data.result.19_values\"]]\n\ndf20 \u003d df[[\"data.result.20_metric\",\"data.result.20_values\"]]\ndf21 \u003d df[[\"data.result.21_metric\",\"data.result.21_values\"]]\ndf22 \u003d df[[\"data.result.22_metric\",\"data.result.22_values\"]]\ndf23 \u003d df[[\"data.result.23_metric\",\"data.result.23_values\"]]\ndf24 \u003d df[[\"data.result.24_metric\",\"data.result.24_values\"]]\n\ndf25 \u003d df[[\"data.result.25_metric\",\"data.result.25_values\"]]\ndf26 \u003d df[[\"data.result.26_metric\",\"data.result.26_values\"]]\ndf27 \u003d df[[\"data.result.27_metric\",\"data.result.27_values\"]]\ndf28 \u003d df[[\"data.result.28_metric\",\"data.result.28_values\"]]\ndf29 \u003d df[[\"data.result.29_metric\",\"data.result.29_values\"]]"
      ],
      "outputs": []
    },
    {
      "execution_count": 0,
      "cell_type": "code",
      "metadata": {},
      "source": [
        "df0.head()"
      ],
      "outputs": []
    },
    {
      "execution_count": 0,
      "cell_type": "code",
      "metadata": {},
      "source": [
        "dict \u003d df0[\"data.result.0_metric\"]\n\nfor key, value in dict.items():\n\n    print(key, \u0027-\u003e\u0027, dict[key])"
      ],
      "outputs": []
    },
    {
      "execution_count": 0,
      "cell_type": "code",
      "metadata": {},
      "source": [
        "dict \u003d df0[\"data.result.0_metric\"]\n\nfor key in dict:\n\n    print(key)"
      ],
      "outputs": []
    },
    {
      "execution_count": 0,
      "cell_type": "code",
      "metadata": {},
      "source": [
        "broker\nfor key, value in df0[\"data.result.0_metric\"].items():\n    if key \u003d\u003d \"hostname\":\n        print(value)\n    else :\n        print(\"non chackal\")"
      ],
      "outputs": []
    },
    {
      "execution_count": 0,
      "cell_type": "code",
      "metadata": {},
      "source": [
        "df0[\"data.result.0.metric\"].items()"
      ],
      "outputs": []
    },
    {
      "execution_count": 0,
      "cell_type": "code",
      "metadata": {},
      "source": [
        "# Write recipe outputs\n#good_columns \u003d dataiku.Dataset(\"good_columns\")\n#good_columns.write_with_schema(df)"
      ],
      "outputs": []
    }
  ]
}