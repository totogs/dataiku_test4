{
  "metadata": {
    "kernelspec": {
      "name": "py-dku-containerized-venv-plugin_timeseries-forecast-gpu-cuda100_managed-gpu_gke",
      "display_name": "Python in gpu_gke (env plugin_timeseries-forecast-gpu-cuda100_managed)",
      "language": "python"
    },
    "associatedRecipe": "compute_testt",
    "creator": "tony",
    "createdOn": 1629734148304,
    "tags": [
      "recipe-editor"
    ],
    "customFields": {},
    "language_info": {
      "name": "python",
      "version": "3.6.13",
      "mimetype": "text/x-python",
      "codemirror_mode": {
        "name": "ipython",
        "version": 3
      },
      "pygments_lexer": "ipython3",
      "nbconvert_exporter": "python",
      "file_extension": ".py"
    },
    "modifiedBy": "tony"
  },
  "nbformat": 4,
  "nbformat_minor": 1,
  "cells": [
    {
      "execution_count": 0,
      "cell_type": "code",
      "metadata": {},
      "source": [
        ""
      ],
      "outputs": []
    }
  ]
}