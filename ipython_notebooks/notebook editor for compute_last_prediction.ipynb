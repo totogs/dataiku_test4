{
  "nbformat": 4,
  "nbformat_minor": 0,
  "metadata": {
    "kernelspec": {
      "display_name": "Python in gpu_gke_2 (builtin env)",
      "language": "python",
      "name": "py-dku-containerized-venv--gpu_gke_2"
    },
    "associatedRecipe": "compute_last_prediction",
    "creator": "tony",
    "createdOn": 1629812450463,
    "tags": [
      "recipe-editor"
    ],
    "customFields": {}
  },
  "cells": [
    {
      "cell_type": "code",
      "metadata": {},
      "outputs": [],
      "execution_count": 0,
      "source": [
        "# -*- coding: utf-8 -*-\n",
        "import dataiku\n",
        "import pandas as pd, numpy as np\n",
        "from dataiku import pandasutils as pdu\n",
        "\n",
        "# Read recipe inputs\n",
        "json_prepared_filtered \u003d dataiku.Dataset(\"Json_prepared_filtered\")\n",
        "json_prepared_filtered_df \u003d json_prepared_filtered.get_dataframe()\n",
        "\n",
        "\n",
        "# Compute recipe outputs from inputs\n",
        "# TODO: Replace this part by your actual code that computes the output, as a Pandas dataframe\n",
        "# NB: DSS also supports other kinds of APIs for reading and writing data. Please see doc.\n",
        "\n",
        "last_prediction_df \u003d json_prepared_filtered_df # For this sample code, simply copy input to output\n",
        "\n",
        "\n",
        "# Write recipe outputs\n",
        "last_prediction \u003d dataiku.Dataset(\"last_prediction\")\n",
        "last_prediction.write_with_schema(last_prediction_df)"
      ]
    }
  ]
}