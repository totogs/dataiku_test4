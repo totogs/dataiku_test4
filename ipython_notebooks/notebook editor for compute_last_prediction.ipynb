{
  "metadata": {
    "kernelspec": {
      "name": "py-dku-containerized-venv-asl_alphabet-gpu_gke_2",
      "display_name": "Python in gpu_gke_2 (env asl_alphabet)",
      "language": "python"
    },
    "creator": "tony",
    "createdOn": 1629817580402,
    "tags": [
      "deleted-recipe-editor"
    ],
    "customFields": {},
    "language_info": {
      "name": "python",
      "version": "3.6.8",
      "mimetype": "text/x-python",
      "codemirror_mode": {
        "name": "ipython",
        "version": 3
      },
      "pygments_lexer": "ipython3",
      "nbconvert_exporter": "python",
      "file_extension": ".py"
    },
    "modifiedBy": "tony"
  },
  "nbformat": 4,
  "nbformat_minor": 1,
  "cells": [
    {
      "execution_count": 49,
      "cell_type": "code",
      "metadata": {},
      "source": [
        "# -*- coding: utf-8 -*-\nimport dataiku\nimport pandas as pd, numpy as np\nfrom dataiku import pandasutils as pdu\n\n# Read recipe inputs\njson_prepared_filtered \u003d dataiku.Dataset(\"Json_prepared_filtered\")\ndf \u003d json_prepared_filtered.get_dataframe()"
      ],
      "outputs": []
    },
    {
      "execution_count": 50,
      "cell_type": "code",
      "metadata": {},
      "source": [
        "import math\n\nimport tensorflow as tf\nfrom tensorflow import keras\nfrom tensorflow.keras import layers\nfrom tensorflow.keras.utils import Sequence\nfrom datetime import timedelta\nfrom sklearn.preprocessing import MinMaxScaler\nfrom sklearn.metrics import mean_squared_error\n\nimport numpy as np\nimport pandas as pd\nimport time\n\nimport os"
      ],
      "outputs": []
    },
    {
      "execution_count": 51,
      "cell_type": "code",
      "metadata": {},
      "source": [
        "del df[\u0027Timestamp\u0027]\ndf_cpy  \u003d df.set_index(\u0027date\u0027)"
      ],
      "outputs": []
    },
    {
      "execution_count": 52,
      "cell_type": "code",
      "metadata": {},
      "source": [
        "val \u003d df_cpy\nscalers\u003d{}\nfor i in df_cpy.columns:\n    scaler \u003d MinMaxScaler(feature_range\u003d(-1,1))\n    s_s \u003d scaler.fit_transform(val[i].values.reshape(-1,1))\n    s_s\u003dnp.reshape(s_s,len(s_s))\n    scalers[\u0027scaler_\u0027+ i] \u003d scaler\n    val[i]\u003ds_s"
      ],
      "outputs": []
    },
    {
      "execution_count": 53,
      "cell_type": "code",
      "metadata": {},
      "source": [
        "val_to_pred \u003d val.values\nval_to_pred \u003d val_to_pred.reshape((1, val_to_pred.shape[0],val_to_pred.shape[1]))"
      ],
      "outputs": []
    },
    {
      "execution_count": 54,
      "cell_type": "code",
      "metadata": {},
      "source": [
        "handle \u003d dataiku.Folder(\"model_forecast\")\njson_config \u003d handle.read_json(\"model_json\")\nmodel \u003d keras.models.model_from_json(json_config)"
      ],
      "outputs": [
        {
          "output_type": "stream",
          "text": "/opt/dataiku/code-env/lib64/python3.6/site-packages/tensorflow_core/python/framework/tensor_util.py:521: DeprecationWarning: tostring() is deprecated. Use tobytes() instead.\n  tensor_proto.tensor_content \u003d nparray.tostring()\n",
          "name": "stderr"
        }
      ]
    },
    {
      "execution_count": 55,
      "cell_type": "code",
      "metadata": {},
      "source": [
        "val_pred \u003d model.predict(val_to_pred)"
      ],
      "outputs": []
    },
    {
      "execution_count": 57,
      "cell_type": "code",
      "metadata": {},
      "source": [
        "for index,i in enumerate(df_cpy.columns):\n    scaler \u003d scalers[\u0027scaler_\u0027+i]\n    val_pred[:,:,index]\u003dscaler.inverse_transform(val_pred[:,:,index])"
      ],
      "outputs": []
    },
    {
      "execution_count": 58,
      "cell_type": "code",
      "metadata": {},
      "source": [
        "val \u003d val_pred.squeeze()\nval.shape"
      ],
      "outputs": [
        {
          "output_type": "execute_result",
          "execution_count": 58,
          "data": {
            "text/plain": "(5, 30)"
          },
          "metadata": {}
        }
      ]
    },
    {
      "execution_count": 62,
      "cell_type": "code",
      "metadata": {},
      "source": [
        "df_pred \u003d pd.DataFrame(val, columns\u003ddf_cpy.columns)"
      ],
      "outputs": []
    },
    {
      "execution_count": 63,
      "cell_type": "code",
      "metadata": {},
      "source": [
        "lastdate \u003d df[\"date\"].max()\nlistdate \u003d []\nfor i in range(len(val)):\n    lastdate \u003d lastdate + timedelta(minutes\u003d15)\n    listdate.append(lastdate)\n"
      ],
      "outputs": []
    },
    {
      "execution_count": 0,
      "cell_type": "code",
      "metadata": {},
      "source": [
        "df_pred[\"date\"] \u003d "
      ],
      "outputs": []
    },
    {
      "execution_count": 0,
      "cell_type": "code",
      "metadata": {},
      "source": [
        "# Compute recipe outputs from inputs\n# TODO: Replace this part by your actual code that computes the output, as a Pandas dataframe\n# NB: DSS also supports other kinds of APIs for reading and writing data. Please see doc.\n\nlast_prediction_df \u003d json_prepared_filtered_df # For this sample code, simply copy input to output\n\n\n# Write recipe outputs\nlast_prediction \u003d dataiku.Dataset(\"last_prediction\")\nlast_prediction.write_with_schema(last_prediction_df)"
      ],
      "outputs": []
    }
  ]
}