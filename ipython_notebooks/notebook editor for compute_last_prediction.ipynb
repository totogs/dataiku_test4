{
  "metadata": {
    "kernelspec": {
      "name": "py-dku-containerized-venv-asl_alphabet-gpu_gke_2",
      "display_name": "Python in gpu_gke_2 (env asl_alphabet)",
      "language": "python"
    },
    "associatedRecipe": "compute_last_prediction",
    "creator": "tony",
    "createdOn": 1629817580402,
    "tags": [
      "recipe-editor"
    ],
    "customFields": {},
    "language_info": {
      "name": "python",
      "version": "3.6.8",
      "mimetype": "text/x-python",
      "codemirror_mode": {
        "name": "ipython",
        "version": 3
      },
      "pygments_lexer": "ipython3",
      "nbconvert_exporter": "python",
      "file_extension": ".py"
    },
    "modifiedBy": "tony"
  },
  "nbformat": 4,
  "nbformat_minor": 1,
  "cells": [
    {
      "execution_count": 49,
      "cell_type": "code",
      "metadata": {},
      "source": [
        "# -*- coding: utf-8 -*-\nimport dataiku\nimport pandas as pd, numpy as np\nfrom dataiku import pandasutils as pdu\n\n# Read recipe inputs\njson_prepared_filtered \u003d dataiku.Dataset(\"Json_prepared_filtered\")\ndf \u003d json_prepared_filtered.get_dataframe()"
      ],
      "outputs": []
    },
    {
      "execution_count": 50,
      "cell_type": "code",
      "metadata": {},
      "source": [
        "import math\n\nimport tensorflow as tf\nfrom tensorflow import keras\nfrom tensorflow.keras import layers\nfrom tensorflow.keras.utils import Sequence\nfrom datetime import timedelta\nfrom sklearn.preprocessing import MinMaxScaler\nfrom sklearn.metrics import mean_squared_error\n\nimport numpy as np\nimport pandas as pd\nimport time\n\nimport os"
      ],
      "outputs": []
    },
    {
      "execution_count": 51,
      "cell_type": "code",
      "metadata": {},
      "source": [
        "del df[\u0027Timestamp\u0027]\ndf_cpy  \u003d df.set_index(\u0027date\u0027)"
      ],
      "outputs": []
    },
    {
      "execution_count": 52,
      "cell_type": "code",
      "metadata": {},
      "source": [
        "val \u003d df_cpy\nscalers\u003d{}\nfor i in df_cpy.columns:\n    scaler \u003d MinMaxScaler(feature_range\u003d(-1,1))\n    s_s \u003d scaler.fit_transform(val[i].values.reshape(-1,1))\n    s_s\u003dnp.reshape(s_s,len(s_s))\n    scalers[\u0027scaler_\u0027+ i] \u003d scaler\n    val[i]\u003ds_s"
      ],
      "outputs": []
    },
    {
      "execution_count": 53,
      "cell_type": "code",
      "metadata": {},
      "source": [
        "val_to_pred \u003d val.values\nval_to_pred \u003d val_to_pred.reshape((1, val_to_pred.shape[0],val_to_pred.shape[1]))"
      ],
      "outputs": []
    },
    {
      "execution_count": 54,
      "cell_type": "code",
      "metadata": {},
      "source": [
        "handle \u003d dataiku.Folder(\"models\")\njson_config \u003d handle.read_json(\"model_json\")\nmodel \u003d keras.models.model_from_json(json_config)"
      ],
      "outputs": [
        {
          "output_type": "stream",
          "text": "/opt/dataiku/code-env/lib64/python3.6/site-packages/tensorflow_core/python/framework/tensor_util.py:521: DeprecationWarning: tostring() is deprecated. Use tobytes() instead.\n  tensor_proto.tensor_content \u003d nparray.tostring()\n",
          "name": "stderr"
        }
      ]
    },
    {
      "execution_count": 55,
      "cell_type": "code",
      "metadata": {},
      "source": [
        "val_pred \u003d model.predict(val_to_pred)"
      ],
      "outputs": []
    },
    {
      "execution_count": 57,
      "cell_type": "code",
      "metadata": {},
      "source": [
        "for index,i in enumerate(df_cpy.columns):\n    scaler \u003d scalers[\u0027scaler_\u0027+i]\n    val_pred[:,:,index]\u003dscaler.inverse_transform(val_pred[:,:,index])"
      ],
      "outputs": []
    },
    {
      "execution_count": 58,
      "cell_type": "code",
      "metadata": {},
      "source": [
        "val \u003d val_pred.squeeze()\nval.shape"
      ],
      "outputs": [
        {
          "output_type": "execute_result",
          "execution_count": 58,
          "data": {
            "text/plain": "(5, 30)"
          },
          "metadata": {}
        }
      ]
    },
    {
      "execution_count": 60,
      "cell_type": "code",
      "metadata": {},
      "source": [
        "pd.DataFrame(val, columns\u003ddf_cpy.columns)"
      ],
      "outputs": [
        {
          "output_type": "execute_result",
          "execution_count": 60,
          "data": {
            "text/plain": "   broker-102/  broker-104/  broker-106/  broker-108/  broker-110/  zook-102/  zook-104/  broker-102/data  broker-104/data  broker-106/data  broker-108/data  broker-110/data  zook-102/data  zook-104/data  broker-101/  broker-103/  broker-105/  broker-107/  broker-109/  zook-101/  zook-103/  zook-105/  broker-101/data  broker-103/data  broker-105/data  broker-107/data  broker-109/data  zook-101/data  zook-103/data  zook-105/data\n0    13.829904    12.370465    13.398085    11.131040     5.384354   3.470438  45.658268        77.798096        73.659523        67.849602        34.353062        44.715580       8.136435       6.526124    10.945130    11.969110     8.464610     7.369499     5.603982   3.266891  38.822983  33.399689        74.625633        70.949013        75.151627        28.887962        37.118645       0.237391       0.122937       0.088851\n1    13.827413    12.368169    13.395205    11.122213     5.244454   3.469371  44.918064        77.869888        73.728638        67.845085        32.283901        43.195049       7.977165       6.412914    10.929482    12.085797     8.422974     7.560489     5.572600   3.270096  40.814400  33.572910        74.111061        70.940231        75.181366        31.458179        37.625420       0.235559       0.128693       0.098169\n2    13.825769    12.367417    13.392929    11.116161     5.169658   3.468504  44.285770        77.907990        73.784630        67.857262        30.998426        42.067047       7.817830       6.364792    10.937129    12.160419     8.395222     7.729565     5.546916   3.274801  42.315041  34.077682        73.630211        70.946190        75.221184        33.471870        37.793404       0.234155       0.131835       0.105052\n3    13.824516    12.367314    13.391109    11.112173     5.134713   3.467815  43.666962        77.924744        73.830345        67.873062        30.204741        41.236897       7.668516       6.355106    10.959486    12.206495     8.376280     7.867665     5.524976   3.279732  43.336624  34.676380        73.211441        70.957001        75.236755        34.989853        37.840431       0.233119       0.133609       0.110116\n4    13.823488    12.367464    13.389660    11.109614     5.121978   3.467275  43.051113        77.931969        73.866348        67.890060        29.716938        40.646709       7.539484       6.364955    10.988175    12.234900     8.362979     7.974416     5.507166   3.284281  44.010052  35.257278        72.863976        70.969933        75.236031        36.092461        37.887993       0.232376       0.134693       0.113803",
            "text/html": "\n            \u003cbutton style\u003d\"display:none\" \n            class\u003d\"btn btn-default ipython-export-btn\" \n            id\u003d\"btn-df-e40eb864-ef95-4e95-9022-d27d67ddb53f\" \n            onclick\u003d\"_export_df(\u0027e40eb864-ef95-4e95-9022-d27d67ddb53f\u0027)\"\u003e\n                Export dataframe\n            \u003c/button\u003e\n            \n            \u003cscript\u003e\n                \n                function _check_export_df_possible(dfid,yes_fn,no_fn) {\n                    console.log(\u0027Checking dataframe exportability...\u0027)\n                    if(!IPython || !IPython.notebook || !IPython.notebook.kernel || !IPython.notebook.kernel) {\n                        console.log(\u0027Export is not possible (IPython kernel is not available)\u0027)\n                        if(no_fn) {\n                            no_fn();\n                        }\n                    } else {\n                        var pythonCode \u003d \u0027from dataiku.notebook.export import IPythonExporter;IPythonExporter._check_export_stdout(\"\u0027+dfid+\u0027\")\u0027;\n                        IPython.notebook.kernel.execute(pythonCode,{iopub: {output: function(resp) {\n                            console.info(\"Exportability response\", resp);\n                            var size \u003d /^([0-9]+)x([0-9]+)$/.exec(resp.content.data || resp.content.text)\n                            if(!size) {\n                                console.log(\u0027Export is not possible (dataframe is not in-memory anymore)\u0027)\n                                if(no_fn) {\n                                    no_fn();\n                                }\n                            } else {\n                                console.log(\u0027Export is possible\u0027)\n                                if(yes_fn) {\n                                    yes_fn(1*size[1],1*size[2]);\n                                }\n                            }\n                        }}});\n                    }\n                }\n            \n                function _export_df(dfid) {\n                    \n                    var btn \u003d $(\u0027#btn-df-\u0027+dfid);\n                    var btns \u003d $(\u0027.ipython-export-btn\u0027);\n                    \n                    _check_export_df_possible(dfid,function() {\n                        \n                        window.parent.openExportModalFromIPython(\u0027Pandas dataframe\u0027,function(data) {\n                            btns.prop(\u0027disabled\u0027,true);\n                            btn.text(\u0027Exporting...\u0027);\n                            var command \u003d \u0027from dataiku.notebook.export import IPythonExporter;IPythonExporter._run_export(\"\u0027+dfid+\u0027\",\"\u0027+data.exportId+\u0027\")\u0027;\n                            var callback \u003d {iopub:{output: function(resp) {\n                                console.info(\"CB resp:\", resp);\n                                _check_export_df_possible(dfid,function(rows, cols) {\n                                    $(\u0027#btn-df-\u0027+dfid)\n                                        .css(\u0027display\u0027,\u0027inline-block\u0027)\n                                        .text(\u0027Export this dataframe (\u0027+rows+\u0027 rows, \u0027+cols+\u0027 cols)\u0027)\n                                        .prop(\u0027disabled\u0027,false);\n                                },function() {\n                                    $(\u0027#btn-df-\u0027+dfid).css(\u0027display\u0027,\u0027none\u0027);\n                                });\n                            }}};\n                            IPython.notebook.kernel.execute(command,callback,{silent:false}); // yes, silent now defaults to true. figures.\n                        });\n                    \n                    }, function(){\n                            alert(\u0027Unable to export : the Dataframe object is not loaded in memory\u0027);\n                            btn.css(\u0027display\u0027,\u0027none\u0027);\n                    });\n                    \n                }\n                \n                (function(dfid) {\n                \n                    var retryCount \u003d 10;\n                \n                    function is_valid_websock(s) {\n                        return s \u0026\u0026 s.readyState\u003d\u003d1;\n                    }\n                \n                    function check_conn() {\n                        \n                        if(!IPython || !IPython.notebook) {\n                            // Don\u0027t even try to go further\n                            return;\n                        }\n                        \n                        // Check if IPython is ready\n                        console.info(\"Checking conn ...\")\n                        if(IPython.notebook.kernel\n                        \u0026\u0026 IPython.notebook.kernel\n                        \u0026\u0026 is_valid_websock(IPython.notebook.kernel.ws)\n                        ) {\n                            \n                            _check_export_df_possible(dfid,function(rows, cols) {\n                                $(\u0027#btn-df-\u0027+dfid).css(\u0027display\u0027,\u0027inline-block\u0027);\n                                $(\u0027#btn-df-\u0027+dfid).text(\u0027Export this dataframe (\u0027+rows+\u0027 rows, \u0027+cols+\u0027 cols)\u0027);\n                            });\n                            \n                        } else {\n                            console.info(\"Conditions are not ok\", IPython.notebook.kernel);\n                            \n                            // Retry later\n                            \n                            if(retryCount\u003e0) {\n                                setTimeout(check_conn,500);\n                                retryCount--;\n                            }\n                            \n                        }\n                    };\n                    \n                    setTimeout(check_conn,100);\n                    \n                })(\"e40eb864-ef95-4e95-9022-d27d67ddb53f\");\n                \n            \u003c/script\u003e\n            \n        \u003cdiv\u003e\n\u003cstyle scoped\u003e\n    .dataframe tbody tr th:only-of-type {\n        vertical-align: middle;\n    }\n\n    .dataframe tbody tr th {\n        vertical-align: top;\n    }\n\n    .dataframe thead th {\n        text-align: right;\n    }\n\u003c/style\u003e\n\u003ctable border\u003d\"1\" class\u003d\"dataframe\"\u003e\n  \u003cthead\u003e\n    \u003ctr style\u003d\"text-align: right;\"\u003e\n      \u003cth\u003e\u003c/th\u003e\n      \u003cth\u003ebroker-102/\u003c/th\u003e\n      \u003cth\u003ebroker-104/\u003c/th\u003e\n      \u003cth\u003ebroker-106/\u003c/th\u003e\n      \u003cth\u003ebroker-108/\u003c/th\u003e\n      \u003cth\u003ebroker-110/\u003c/th\u003e\n      \u003cth\u003ezook-102/\u003c/th\u003e\n      \u003cth\u003ezook-104/\u003c/th\u003e\n      \u003cth\u003ebroker-102/data\u003c/th\u003e\n      \u003cth\u003ebroker-104/data\u003c/th\u003e\n      \u003cth\u003ebroker-106/data\u003c/th\u003e\n      \u003cth\u003ebroker-108/data\u003c/th\u003e\n      \u003cth\u003ebroker-110/data\u003c/th\u003e\n      \u003cth\u003ezook-102/data\u003c/th\u003e\n      \u003cth\u003ezook-104/data\u003c/th\u003e\n      \u003cth\u003ebroker-101/\u003c/th\u003e\n      \u003cth\u003ebroker-103/\u003c/th\u003e\n      \u003cth\u003ebroker-105/\u003c/th\u003e\n      \u003cth\u003ebroker-107/\u003c/th\u003e\n      \u003cth\u003ebroker-109/\u003c/th\u003e\n      \u003cth\u003ezook-101/\u003c/th\u003e\n      \u003cth\u003ezook-103/\u003c/th\u003e\n      \u003cth\u003ezook-105/\u003c/th\u003e\n      \u003cth\u003ebroker-101/data\u003c/th\u003e\n      \u003cth\u003ebroker-103/data\u003c/th\u003e\n      \u003cth\u003ebroker-105/data\u003c/th\u003e\n      \u003cth\u003ebroker-107/data\u003c/th\u003e\n      \u003cth\u003ebroker-109/data\u003c/th\u003e\n      \u003cth\u003ezook-101/data\u003c/th\u003e\n      \u003cth\u003ezook-103/data\u003c/th\u003e\n      \u003cth\u003ezook-105/data\u003c/th\u003e\n    \u003c/tr\u003e\n  \u003c/thead\u003e\n  \u003ctbody\u003e\n    \u003ctr\u003e\n      \u003cth\u003e0\u003c/th\u003e\n      \u003ctd\u003e13.829904\u003c/td\u003e\n      \u003ctd\u003e12.370465\u003c/td\u003e\n      \u003ctd\u003e13.398085\u003c/td\u003e\n      \u003ctd\u003e11.131040\u003c/td\u003e\n      \u003ctd\u003e5.384354\u003c/td\u003e\n      \u003ctd\u003e3.470438\u003c/td\u003e\n      \u003ctd\u003e45.658268\u003c/td\u003e\n      \u003ctd\u003e77.798096\u003c/td\u003e\n      \u003ctd\u003e73.659523\u003c/td\u003e\n      \u003ctd\u003e67.849602\u003c/td\u003e\n      \u003ctd\u003e34.353062\u003c/td\u003e\n      \u003ctd\u003e44.715580\u003c/td\u003e\n      \u003ctd\u003e8.136435\u003c/td\u003e\n      \u003ctd\u003e6.526124\u003c/td\u003e\n      \u003ctd\u003e10.945130\u003c/td\u003e\n      \u003ctd\u003e11.969110\u003c/td\u003e\n      \u003ctd\u003e8.464610\u003c/td\u003e\n      \u003ctd\u003e7.369499\u003c/td\u003e\n      \u003ctd\u003e5.603982\u003c/td\u003e\n      \u003ctd\u003e3.266891\u003c/td\u003e\n      \u003ctd\u003e38.822983\u003c/td\u003e\n      \u003ctd\u003e33.399689\u003c/td\u003e\n      \u003ctd\u003e74.625633\u003c/td\u003e\n      \u003ctd\u003e70.949013\u003c/td\u003e\n      \u003ctd\u003e75.151627\u003c/td\u003e\n      \u003ctd\u003e28.887962\u003c/td\u003e\n      \u003ctd\u003e37.118645\u003c/td\u003e\n      \u003ctd\u003e0.237391\u003c/td\u003e\n      \u003ctd\u003e0.122937\u003c/td\u003e\n      \u003ctd\u003e0.088851\u003c/td\u003e\n    \u003c/tr\u003e\n    \u003ctr\u003e\n      \u003cth\u003e1\u003c/th\u003e\n      \u003ctd\u003e13.827413\u003c/td\u003e\n      \u003ctd\u003e12.368169\u003c/td\u003e\n      \u003ctd\u003e13.395205\u003c/td\u003e\n      \u003ctd\u003e11.122213\u003c/td\u003e\n      \u003ctd\u003e5.244454\u003c/td\u003e\n      \u003ctd\u003e3.469371\u003c/td\u003e\n      \u003ctd\u003e44.918064\u003c/td\u003e\n      \u003ctd\u003e77.869888\u003c/td\u003e\n      \u003ctd\u003e73.728638\u003c/td\u003e\n      \u003ctd\u003e67.845085\u003c/td\u003e\n      \u003ctd\u003e32.283901\u003c/td\u003e\n      \u003ctd\u003e43.195049\u003c/td\u003e\n      \u003ctd\u003e7.977165\u003c/td\u003e\n      \u003ctd\u003e6.412914\u003c/td\u003e\n      \u003ctd\u003e10.929482\u003c/td\u003e\n      \u003ctd\u003e12.085797\u003c/td\u003e\n      \u003ctd\u003e8.422974\u003c/td\u003e\n      \u003ctd\u003e7.560489\u003c/td\u003e\n      \u003ctd\u003e5.572600\u003c/td\u003e\n      \u003ctd\u003e3.270096\u003c/td\u003e\n      \u003ctd\u003e40.814400\u003c/td\u003e\n      \u003ctd\u003e33.572910\u003c/td\u003e\n      \u003ctd\u003e74.111061\u003c/td\u003e\n      \u003ctd\u003e70.940231\u003c/td\u003e\n      \u003ctd\u003e75.181366\u003c/td\u003e\n      \u003ctd\u003e31.458179\u003c/td\u003e\n      \u003ctd\u003e37.625420\u003c/td\u003e\n      \u003ctd\u003e0.235559\u003c/td\u003e\n      \u003ctd\u003e0.128693\u003c/td\u003e\n      \u003ctd\u003e0.098169\u003c/td\u003e\n    \u003c/tr\u003e\n    \u003ctr\u003e\n      \u003cth\u003e2\u003c/th\u003e\n      \u003ctd\u003e13.825769\u003c/td\u003e\n      \u003ctd\u003e12.367417\u003c/td\u003e\n      \u003ctd\u003e13.392929\u003c/td\u003e\n      \u003ctd\u003e11.116161\u003c/td\u003e\n      \u003ctd\u003e5.169658\u003c/td\u003e\n      \u003ctd\u003e3.468504\u003c/td\u003e\n      \u003ctd\u003e44.285770\u003c/td\u003e\n      \u003ctd\u003e77.907990\u003c/td\u003e\n      \u003ctd\u003e73.784630\u003c/td\u003e\n      \u003ctd\u003e67.857262\u003c/td\u003e\n      \u003ctd\u003e30.998426\u003c/td\u003e\n      \u003ctd\u003e42.067047\u003c/td\u003e\n      \u003ctd\u003e7.817830\u003c/td\u003e\n      \u003ctd\u003e6.364792\u003c/td\u003e\n      \u003ctd\u003e10.937129\u003c/td\u003e\n      \u003ctd\u003e12.160419\u003c/td\u003e\n      \u003ctd\u003e8.395222\u003c/td\u003e\n      \u003ctd\u003e7.729565\u003c/td\u003e\n      \u003ctd\u003e5.546916\u003c/td\u003e\n      \u003ctd\u003e3.274801\u003c/td\u003e\n      \u003ctd\u003e42.315041\u003c/td\u003e\n      \u003ctd\u003e34.077682\u003c/td\u003e\n      \u003ctd\u003e73.630211\u003c/td\u003e\n      \u003ctd\u003e70.946190\u003c/td\u003e\n      \u003ctd\u003e75.221184\u003c/td\u003e\n      \u003ctd\u003e33.471870\u003c/td\u003e\n      \u003ctd\u003e37.793404\u003c/td\u003e\n      \u003ctd\u003e0.234155\u003c/td\u003e\n      \u003ctd\u003e0.131835\u003c/td\u003e\n      \u003ctd\u003e0.105052\u003c/td\u003e\n    \u003c/tr\u003e\n    \u003ctr\u003e\n      \u003cth\u003e3\u003c/th\u003e\n      \u003ctd\u003e13.824516\u003c/td\u003e\n      \u003ctd\u003e12.367314\u003c/td\u003e\n      \u003ctd\u003e13.391109\u003c/td\u003e\n      \u003ctd\u003e11.112173\u003c/td\u003e\n      \u003ctd\u003e5.134713\u003c/td\u003e\n      \u003ctd\u003e3.467815\u003c/td\u003e\n      \u003ctd\u003e43.666962\u003c/td\u003e\n      \u003ctd\u003e77.924744\u003c/td\u003e\n      \u003ctd\u003e73.830345\u003c/td\u003e\n      \u003ctd\u003e67.873062\u003c/td\u003e\n      \u003ctd\u003e30.204741\u003c/td\u003e\n      \u003ctd\u003e41.236897\u003c/td\u003e\n      \u003ctd\u003e7.668516\u003c/td\u003e\n      \u003ctd\u003e6.355106\u003c/td\u003e\n      \u003ctd\u003e10.959486\u003c/td\u003e\n      \u003ctd\u003e12.206495\u003c/td\u003e\n      \u003ctd\u003e8.376280\u003c/td\u003e\n      \u003ctd\u003e7.867665\u003c/td\u003e\n      \u003ctd\u003e5.524976\u003c/td\u003e\n      \u003ctd\u003e3.279732\u003c/td\u003e\n      \u003ctd\u003e43.336624\u003c/td\u003e\n      \u003ctd\u003e34.676380\u003c/td\u003e\n      \u003ctd\u003e73.211441\u003c/td\u003e\n      \u003ctd\u003e70.957001\u003c/td\u003e\n      \u003ctd\u003e75.236755\u003c/td\u003e\n      \u003ctd\u003e34.989853\u003c/td\u003e\n      \u003ctd\u003e37.840431\u003c/td\u003e\n      \u003ctd\u003e0.233119\u003c/td\u003e\n      \u003ctd\u003e0.133609\u003c/td\u003e\n      \u003ctd\u003e0.110116\u003c/td\u003e\n    \u003c/tr\u003e\n    \u003ctr\u003e\n      \u003cth\u003e4\u003c/th\u003e\n      \u003ctd\u003e13.823488\u003c/td\u003e\n      \u003ctd\u003e12.367464\u003c/td\u003e\n      \u003ctd\u003e13.389660\u003c/td\u003e\n      \u003ctd\u003e11.109614\u003c/td\u003e\n      \u003ctd\u003e5.121978\u003c/td\u003e\n      \u003ctd\u003e3.467275\u003c/td\u003e\n      \u003ctd\u003e43.051113\u003c/td\u003e\n      \u003ctd\u003e77.931969\u003c/td\u003e\n      \u003ctd\u003e73.866348\u003c/td\u003e\n      \u003ctd\u003e67.890060\u003c/td\u003e\n      \u003ctd\u003e29.716938\u003c/td\u003e\n      \u003ctd\u003e40.646709\u003c/td\u003e\n      \u003ctd\u003e7.539484\u003c/td\u003e\n      \u003ctd\u003e6.364955\u003c/td\u003e\n      \u003ctd\u003e10.988175\u003c/td\u003e\n      \u003ctd\u003e12.234900\u003c/td\u003e\n      \u003ctd\u003e8.362979\u003c/td\u003e\n      \u003ctd\u003e7.974416\u003c/td\u003e\n      \u003ctd\u003e5.507166\u003c/td\u003e\n      \u003ctd\u003e3.284281\u003c/td\u003e\n      \u003ctd\u003e44.010052\u003c/td\u003e\n      \u003ctd\u003e35.257278\u003c/td\u003e\n      \u003ctd\u003e72.863976\u003c/td\u003e\n      \u003ctd\u003e70.969933\u003c/td\u003e\n      \u003ctd\u003e75.236031\u003c/td\u003e\n      \u003ctd\u003e36.092461\u003c/td\u003e\n      \u003ctd\u003e37.887993\u003c/td\u003e\n      \u003ctd\u003e0.232376\u003c/td\u003e\n      \u003ctd\u003e0.134693\u003c/td\u003e\n      \u003ctd\u003e0.113803\u003c/td\u003e\n    \u003c/tr\u003e\n  \u003c/tbody\u003e\n\u003c/table\u003e\n\u003c/div\u003e"
          },
          "metadata": {}
        }
      ]
    },
    {
      "execution_count": 0,
      "cell_type": "code",
      "metadata": {},
      "source": [
        ""
      ],
      "outputs": []
    },
    {
      "execution_count": 40,
      "cell_type": "code",
      "metadata": {},
      "source": [
        "lastdate \u003d df[\"date\"].max()\nprint(lastdate)\nfor i in range(len(val)):\n    lastdate \u003d lastdate + timedelta(minutes\u003d15)\n    row \u003d dict()\n    \n    row[\"date\"] \u003d lastdate\n    \n    df.append({})"
      ],
      "outputs": [
        {
          "output_type": "stream",
          "text": "2021-08-05 11:45:00+00:00\n",
          "name": "stdout"
        },
        {
          "output_type": "error",
          "ename": "TypeError",
          "evalue": "append() missing 1 required positional argument: \u0027other\u0027",
          "traceback": [
            "\u001b[0;31m---------------------------------------------------------------------------\u001b[0m",
            "\u001b[0;31mTypeError\u001b[0m                                 Traceback (most recent call last)",
            "\u001b[0;32m\u003cipython-input-40-428dd2b5e201\u003e\u001b[0m in \u001b[0;36m\u003cmodule\u003e\u001b[0;34m\u001b[0m\n\u001b[1;32m      3\u001b[0m \u001b[0;32mfor\u001b[0m \u001b[0mi\u001b[0m \u001b[0;32min\u001b[0m \u001b[0mrange\u001b[0m\u001b[0;34m(\u001b[0m\u001b[0mlen\u001b[0m\u001b[0;34m(\u001b[0m\u001b[0mval\u001b[0m\u001b[0;34m)\u001b[0m\u001b[0;34m)\u001b[0m\u001b[0;34m:\u001b[0m\u001b[0;34m\u001b[0m\u001b[0;34m\u001b[0m\u001b[0m\n\u001b[1;32m      4\u001b[0m     \u001b[0mlastdate\u001b[0m \u001b[0;34m\u003d\u001b[0m \u001b[0mlastdate\u001b[0m \u001b[0;34m+\u001b[0m \u001b[0mtimedelta\u001b[0m\u001b[0;34m(\u001b[0m\u001b[0mminutes\u001b[0m\u001b[0;34m\u003d\u001b[0m\u001b[0;36m15\u001b[0m\u001b[0;34m)\u001b[0m\u001b[0;34m\u001b[0m\u001b[0;34m\u001b[0m\u001b[0m\n\u001b[0;32m----\u003e 5\u001b[0;31m     \u001b[0mdf\u001b[0m\u001b[0;34m.\u001b[0m\u001b[0mappend\u001b[0m\u001b[0;34m(\u001b[0m\u001b[0;34m)\u001b[0m\u001b[0;34m\u001b[0m\u001b[0;34m\u001b[0m\u001b[0m\n\u001b[0m",
            "\u001b[0;31mTypeError\u001b[0m: append() missing 1 required positional argument: \u0027other\u0027"
          ]
        }
      ]
    },
    {
      "execution_count": 0,
      "cell_type": "code",
      "metadata": {},
      "source": [
        "# Compute recipe outputs from inputs\n# TODO: Replace this part by your actual code that computes the output, as a Pandas dataframe\n# NB: DSS also supports other kinds of APIs for reading and writing data. Please see doc.\n\nlast_prediction_df \u003d json_prepared_filtered_df # For this sample code, simply copy input to output\n\n\n# Write recipe outputs\nlast_prediction \u003d dataiku.Dataset(\"last_prediction\")\nlast_prediction.write_with_schema(last_prediction_df)"
      ],
      "outputs": []
    }
  ]
}