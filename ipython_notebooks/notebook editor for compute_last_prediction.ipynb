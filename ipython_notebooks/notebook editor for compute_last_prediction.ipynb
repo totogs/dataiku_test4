{
  "metadata": {
    "kernelspec": {
      "name": "py-dku-containerized-venv-asl_alphabet-gpu_gke_2",
      "display_name": "Python in gpu_gke_2 (env asl_alphabet)",
      "language": "python"
    },
    "associatedRecipe": "compute_last_prediction",
    "creator": "tony",
    "createdOn": 1629817580402,
    "tags": [
      "recipe-editor"
    ],
    "customFields": {},
    "language_info": {
      "name": "python",
      "version": "3.6.8",
      "mimetype": "text/x-python",
      "codemirror_mode": {
        "name": "ipython",
        "version": 3
      },
      "pygments_lexer": "ipython3",
      "nbconvert_exporter": "python",
      "file_extension": ".py"
    },
    "modifiedBy": "tony"
  },
  "nbformat": 4,
  "nbformat_minor": 1,
  "cells": [
    {
      "execution_count": 32,
      "cell_type": "code",
      "metadata": {},
      "source": [
        "# -*- coding: utf-8 -*-\nimport dataiku\nimport pandas as pd, numpy as np\nfrom dataiku import pandasutils as pdu\n\n# Read recipe inputs\njson_prepared_filtered \u003d dataiku.Dataset(\"Json_prepared_filtered\")\ndf \u003d json_prepared_filtered.get_dataframe()"
      ],
      "outputs": []
    },
    {
      "execution_count": 33,
      "cell_type": "code",
      "metadata": {},
      "source": [
        "import math\n\nimport tensorflow as tf\nfrom tensorflow import keras\nfrom tensorflow.keras import layers\nfrom tensorflow.keras.utils import Sequence\nfrom datetime import timedelta\nfrom sklearn.preprocessing import MinMaxScaler\nfrom sklearn.metrics import mean_squared_error\n\nimport numpy as np\nimport pandas as pd\nimport time\n\nimport os"
      ],
      "outputs": []
    },
    {
      "execution_count": 34,
      "cell_type": "code",
      "metadata": {},
      "source": [
        "del df[\u0027Timestamp\u0027]\ndf_cpy  \u003d df.set_index(\u0027date\u0027)"
      ],
      "outputs": []
    },
    {
      "execution_count": 35,
      "cell_type": "code",
      "metadata": {},
      "source": [
        "val \u003d df_cpy\nscalers\u003d{}\nfor i in df_cpy.columns:\n    scaler \u003d MinMaxScaler(feature_range\u003d(-1,1))\n    s_s \u003d scaler.fit_transform(val[i].values.reshape(-1,1))\n    s_s\u003dnp.reshape(s_s,len(s_s))\n    scalers[\u0027scaler_\u0027+ i] \u003d scaler\n    val[i]\u003ds_s"
      ],
      "outputs": []
    },
    {
      "execution_count": 36,
      "cell_type": "code",
      "metadata": {},
      "source": [
        "val_to_pred \u003d val.values\nval_to_pred \u003d val_to_pred.reshape((1, val_to_pred.shape[0],val_to_pred.shape[1]))"
      ],
      "outputs": []
    },
    {
      "execution_count": 37,
      "cell_type": "code",
      "metadata": {},
      "source": [
        "handle \u003d dataiku.Folder(\"models\")\njson_config \u003d handle.read_json(\"model_json\")\nmodel \u003d keras.models.model_from_json(json_config)"
      ],
      "outputs": [
        {
          "output_type": "stream",
          "text": "/opt/dataiku/code-env/lib64/python3.6/site-packages/tensorflow_core/python/framework/tensor_util.py:521: DeprecationWarning: tostring() is deprecated. Use tobytes() instead.\n  tensor_proto.tensor_content \u003d nparray.tostring()\n",
          "name": "stderr"
        }
      ]
    },
    {
      "execution_count": 38,
      "cell_type": "code",
      "metadata": {},
      "source": [
        "val_pred \u003d model.predict(val_to_pred)"
      ],
      "outputs": []
    },
    {
      "execution_count": 39,
      "cell_type": "code",
      "metadata": {},
      "source": [
        "val \u003d val_pred.squeeze()\nval.shape"
      ],
      "outputs": [
        {
          "output_type": "execute_result",
          "execution_count": 39,
          "data": {
            "text/plain": "(5, 30)"
          },
          "metadata": {}
        }
      ]
    },
    {
      "execution_count": 43,
      "cell_type": "code",
      "metadata": {},
      "source": [
        "pd.DataFrame(val)"
      ],
      "outputs": [
        {
          "output_type": "execute_result",
          "execution_count": 43,
          "data": {
            "text/plain": "          0         1         2         3         4         5         6         7         8         9        10        11        12        13        14        15        16        17        18        19        20        21        22        23        24        25        26        27        28        29\n0 -0.167541  0.030422  0.301656 -0.033036  0.004076  0.099365 -0.022584  0.010397  0.160482  0.164269 -0.198799  0.072712 -0.048479  0.174819 -0.021397 -0.079354 -0.010619 -0.222815  0.124031 -0.241170  0.054417 -0.106700  0.108048  0.146577  0.191625 -0.216005 -0.066658 -0.078948 -0.048901  0.040698\n1 -0.068319 -0.027517  0.216861 -0.023262 -0.024179  0.070408 -0.008399 -0.000389  0.135149  0.148135 -0.112425  0.022752 -0.021547  0.116353 -0.023335 -0.108245 -0.005611 -0.150221  0.043002 -0.161296 -0.028551 -0.051502  0.085733  0.148392  0.120521 -0.181846 -0.048511 -0.080069  0.006573 -0.003307\n2 -0.005438 -0.072222  0.153603 -0.031606 -0.038643  0.054338  0.006429 -0.008563  0.113533  0.132622 -0.055113 -0.019492 -0.012355  0.072268 -0.024759 -0.141195 -0.017231 -0.094167 -0.029770 -0.106632 -0.083285 -0.015446  0.082650  0.146469  0.079261 -0.151268 -0.034119 -0.079868  0.038096 -0.030499\n3  0.032302 -0.105706  0.106762 -0.047324 -0.047352  0.049734  0.018531 -0.013406  0.095346  0.120240 -0.019261 -0.051025 -0.011971  0.038554 -0.025485 -0.173726 -0.034776 -0.054923 -0.091352 -0.071669 -0.118178  0.005528  0.090752  0.144697  0.056229 -0.124631 -0.023818 -0.078577  0.056451 -0.046659\n4  0.053543 -0.130402  0.071862 -0.064997 -0.053978  0.052225  0.028025 -0.015612  0.079748  0.110985  0.002165 -0.072968 -0.015516  0.012539 -0.025518 -0.202781 -0.052847 -0.029431 -0.141691 -0.050691 -0.139545  0.016782  0.104339  0.143840  0.043736 -0.101971 -0.016788 -0.076559  0.067037 -0.055633",
            "text/html": "\n            \u003cbutton style\u003d\"display:none\" \n            class\u003d\"btn btn-default ipython-export-btn\" \n            id\u003d\"btn-df-017be38a-1fe8-4ccd-a8a0-57a7923365a5\" \n            onclick\u003d\"_export_df(\u0027017be38a-1fe8-4ccd-a8a0-57a7923365a5\u0027)\"\u003e\n                Export dataframe\n            \u003c/button\u003e\n            \n            \u003cscript\u003e\n                \n                function _check_export_df_possible(dfid,yes_fn,no_fn) {\n                    console.log(\u0027Checking dataframe exportability...\u0027)\n                    if(!IPython || !IPython.notebook || !IPython.notebook.kernel || !IPython.notebook.kernel) {\n                        console.log(\u0027Export is not possible (IPython kernel is not available)\u0027)\n                        if(no_fn) {\n                            no_fn();\n                        }\n                    } else {\n                        var pythonCode \u003d \u0027from dataiku.notebook.export import IPythonExporter;IPythonExporter._check_export_stdout(\"\u0027+dfid+\u0027\")\u0027;\n                        IPython.notebook.kernel.execute(pythonCode,{iopub: {output: function(resp) {\n                            console.info(\"Exportability response\", resp);\n                            var size \u003d /^([0-9]+)x([0-9]+)$/.exec(resp.content.data || resp.content.text)\n                            if(!size) {\n                                console.log(\u0027Export is not possible (dataframe is not in-memory anymore)\u0027)\n                                if(no_fn) {\n                                    no_fn();\n                                }\n                            } else {\n                                console.log(\u0027Export is possible\u0027)\n                                if(yes_fn) {\n                                    yes_fn(1*size[1],1*size[2]);\n                                }\n                            }\n                        }}});\n                    }\n                }\n            \n                function _export_df(dfid) {\n                    \n                    var btn \u003d $(\u0027#btn-df-\u0027+dfid);\n                    var btns \u003d $(\u0027.ipython-export-btn\u0027);\n                    \n                    _check_export_df_possible(dfid,function() {\n                        \n                        window.parent.openExportModalFromIPython(\u0027Pandas dataframe\u0027,function(data) {\n                            btns.prop(\u0027disabled\u0027,true);\n                            btn.text(\u0027Exporting...\u0027);\n                            var command \u003d \u0027from dataiku.notebook.export import IPythonExporter;IPythonExporter._run_export(\"\u0027+dfid+\u0027\",\"\u0027+data.exportId+\u0027\")\u0027;\n                            var callback \u003d {iopub:{output: function(resp) {\n                                console.info(\"CB resp:\", resp);\n                                _check_export_df_possible(dfid,function(rows, cols) {\n                                    $(\u0027#btn-df-\u0027+dfid)\n                                        .css(\u0027display\u0027,\u0027inline-block\u0027)\n                                        .text(\u0027Export this dataframe (\u0027+rows+\u0027 rows, \u0027+cols+\u0027 cols)\u0027)\n                                        .prop(\u0027disabled\u0027,false);\n                                },function() {\n                                    $(\u0027#btn-df-\u0027+dfid).css(\u0027display\u0027,\u0027none\u0027);\n                                });\n                            }}};\n                            IPython.notebook.kernel.execute(command,callback,{silent:false}); // yes, silent now defaults to true. figures.\n                        });\n                    \n                    }, function(){\n                            alert(\u0027Unable to export : the Dataframe object is not loaded in memory\u0027);\n                            btn.css(\u0027display\u0027,\u0027none\u0027);\n                    });\n                    \n                }\n                \n                (function(dfid) {\n                \n                    var retryCount \u003d 10;\n                \n                    function is_valid_websock(s) {\n                        return s \u0026\u0026 s.readyState\u003d\u003d1;\n                    }\n                \n                    function check_conn() {\n                        \n                        if(!IPython || !IPython.notebook) {\n                            // Don\u0027t even try to go further\n                            return;\n                        }\n                        \n                        // Check if IPython is ready\n                        console.info(\"Checking conn ...\")\n                        if(IPython.notebook.kernel\n                        \u0026\u0026 IPython.notebook.kernel\n                        \u0026\u0026 is_valid_websock(IPython.notebook.kernel.ws)\n                        ) {\n                            \n                            _check_export_df_possible(dfid,function(rows, cols) {\n                                $(\u0027#btn-df-\u0027+dfid).css(\u0027display\u0027,\u0027inline-block\u0027);\n                                $(\u0027#btn-df-\u0027+dfid).text(\u0027Export this dataframe (\u0027+rows+\u0027 rows, \u0027+cols+\u0027 cols)\u0027);\n                            });\n                            \n                        } else {\n                            console.info(\"Conditions are not ok\", IPython.notebook.kernel);\n                            \n                            // Retry later\n                            \n                            if(retryCount\u003e0) {\n                                setTimeout(check_conn,500);\n                                retryCount--;\n                            }\n                            \n                        }\n                    };\n                    \n                    setTimeout(check_conn,100);\n                    \n                })(\"017be38a-1fe8-4ccd-a8a0-57a7923365a5\");\n                \n            \u003c/script\u003e\n            \n        \u003cdiv\u003e\n\u003cstyle scoped\u003e\n    .dataframe tbody tr th:only-of-type {\n        vertical-align: middle;\n    }\n\n    .dataframe tbody tr th {\n        vertical-align: top;\n    }\n\n    .dataframe thead th {\n        text-align: right;\n    }\n\u003c/style\u003e\n\u003ctable border\u003d\"1\" class\u003d\"dataframe\"\u003e\n  \u003cthead\u003e\n    \u003ctr style\u003d\"text-align: right;\"\u003e\n      \u003cth\u003e\u003c/th\u003e\n      \u003cth\u003e0\u003c/th\u003e\n      \u003cth\u003e1\u003c/th\u003e\n      \u003cth\u003e2\u003c/th\u003e\n      \u003cth\u003e3\u003c/th\u003e\n      \u003cth\u003e4\u003c/th\u003e\n      \u003cth\u003e5\u003c/th\u003e\n      \u003cth\u003e6\u003c/th\u003e\n      \u003cth\u003e7\u003c/th\u003e\n      \u003cth\u003e8\u003c/th\u003e\n      \u003cth\u003e9\u003c/th\u003e\n      \u003cth\u003e10\u003c/th\u003e\n      \u003cth\u003e11\u003c/th\u003e\n      \u003cth\u003e12\u003c/th\u003e\n      \u003cth\u003e13\u003c/th\u003e\n      \u003cth\u003e14\u003c/th\u003e\n      \u003cth\u003e15\u003c/th\u003e\n      \u003cth\u003e16\u003c/th\u003e\n      \u003cth\u003e17\u003c/th\u003e\n      \u003cth\u003e18\u003c/th\u003e\n      \u003cth\u003e19\u003c/th\u003e\n      \u003cth\u003e20\u003c/th\u003e\n      \u003cth\u003e21\u003c/th\u003e\n      \u003cth\u003e22\u003c/th\u003e\n      \u003cth\u003e23\u003c/th\u003e\n      \u003cth\u003e24\u003c/th\u003e\n      \u003cth\u003e25\u003c/th\u003e\n      \u003cth\u003e26\u003c/th\u003e\n      \u003cth\u003e27\u003c/th\u003e\n      \u003cth\u003e28\u003c/th\u003e\n      \u003cth\u003e29\u003c/th\u003e\n    \u003c/tr\u003e\n  \u003c/thead\u003e\n  \u003ctbody\u003e\n    \u003ctr\u003e\n      \u003cth\u003e0\u003c/th\u003e\n      \u003ctd\u003e-0.167541\u003c/td\u003e\n      \u003ctd\u003e0.030422\u003c/td\u003e\n      \u003ctd\u003e0.301656\u003c/td\u003e\n      \u003ctd\u003e-0.033036\u003c/td\u003e\n      \u003ctd\u003e0.004076\u003c/td\u003e\n      \u003ctd\u003e0.099365\u003c/td\u003e\n      \u003ctd\u003e-0.022584\u003c/td\u003e\n      \u003ctd\u003e0.010397\u003c/td\u003e\n      \u003ctd\u003e0.160482\u003c/td\u003e\n      \u003ctd\u003e0.164269\u003c/td\u003e\n      \u003ctd\u003e-0.198799\u003c/td\u003e\n      \u003ctd\u003e0.072712\u003c/td\u003e\n      \u003ctd\u003e-0.048479\u003c/td\u003e\n      \u003ctd\u003e0.174819\u003c/td\u003e\n      \u003ctd\u003e-0.021397\u003c/td\u003e\n      \u003ctd\u003e-0.079354\u003c/td\u003e\n      \u003ctd\u003e-0.010619\u003c/td\u003e\n      \u003ctd\u003e-0.222815\u003c/td\u003e\n      \u003ctd\u003e0.124031\u003c/td\u003e\n      \u003ctd\u003e-0.241170\u003c/td\u003e\n      \u003ctd\u003e0.054417\u003c/td\u003e\n      \u003ctd\u003e-0.106700\u003c/td\u003e\n      \u003ctd\u003e0.108048\u003c/td\u003e\n      \u003ctd\u003e0.146577\u003c/td\u003e\n      \u003ctd\u003e0.191625\u003c/td\u003e\n      \u003ctd\u003e-0.216005\u003c/td\u003e\n      \u003ctd\u003e-0.066658\u003c/td\u003e\n      \u003ctd\u003e-0.078948\u003c/td\u003e\n      \u003ctd\u003e-0.048901\u003c/td\u003e\n      \u003ctd\u003e0.040698\u003c/td\u003e\n    \u003c/tr\u003e\n    \u003ctr\u003e\n      \u003cth\u003e1\u003c/th\u003e\n      \u003ctd\u003e-0.068319\u003c/td\u003e\n      \u003ctd\u003e-0.027517\u003c/td\u003e\n      \u003ctd\u003e0.216861\u003c/td\u003e\n      \u003ctd\u003e-0.023262\u003c/td\u003e\n      \u003ctd\u003e-0.024179\u003c/td\u003e\n      \u003ctd\u003e0.070408\u003c/td\u003e\n      \u003ctd\u003e-0.008399\u003c/td\u003e\n      \u003ctd\u003e-0.000389\u003c/td\u003e\n      \u003ctd\u003e0.135149\u003c/td\u003e\n      \u003ctd\u003e0.148135\u003c/td\u003e\n      \u003ctd\u003e-0.112425\u003c/td\u003e\n      \u003ctd\u003e0.022752\u003c/td\u003e\n      \u003ctd\u003e-0.021547\u003c/td\u003e\n      \u003ctd\u003e0.116353\u003c/td\u003e\n      \u003ctd\u003e-0.023335\u003c/td\u003e\n      \u003ctd\u003e-0.108245\u003c/td\u003e\n      \u003ctd\u003e-0.005611\u003c/td\u003e\n      \u003ctd\u003e-0.150221\u003c/td\u003e\n      \u003ctd\u003e0.043002\u003c/td\u003e\n      \u003ctd\u003e-0.161296\u003c/td\u003e\n      \u003ctd\u003e-0.028551\u003c/td\u003e\n      \u003ctd\u003e-0.051502\u003c/td\u003e\n      \u003ctd\u003e0.085733\u003c/td\u003e\n      \u003ctd\u003e0.148392\u003c/td\u003e\n      \u003ctd\u003e0.120521\u003c/td\u003e\n      \u003ctd\u003e-0.181846\u003c/td\u003e\n      \u003ctd\u003e-0.048511\u003c/td\u003e\n      \u003ctd\u003e-0.080069\u003c/td\u003e\n      \u003ctd\u003e0.006573\u003c/td\u003e\n      \u003ctd\u003e-0.003307\u003c/td\u003e\n    \u003c/tr\u003e\n    \u003ctr\u003e\n      \u003cth\u003e2\u003c/th\u003e\n      \u003ctd\u003e-0.005438\u003c/td\u003e\n      \u003ctd\u003e-0.072222\u003c/td\u003e\n      \u003ctd\u003e0.153603\u003c/td\u003e\n      \u003ctd\u003e-0.031606\u003c/td\u003e\n      \u003ctd\u003e-0.038643\u003c/td\u003e\n      \u003ctd\u003e0.054338\u003c/td\u003e\n      \u003ctd\u003e0.006429\u003c/td\u003e\n      \u003ctd\u003e-0.008563\u003c/td\u003e\n      \u003ctd\u003e0.113533\u003c/td\u003e\n      \u003ctd\u003e0.132622\u003c/td\u003e\n      \u003ctd\u003e-0.055113\u003c/td\u003e\n      \u003ctd\u003e-0.019492\u003c/td\u003e\n      \u003ctd\u003e-0.012355\u003c/td\u003e\n      \u003ctd\u003e0.072268\u003c/td\u003e\n      \u003ctd\u003e-0.024759\u003c/td\u003e\n      \u003ctd\u003e-0.141195\u003c/td\u003e\n      \u003ctd\u003e-0.017231\u003c/td\u003e\n      \u003ctd\u003e-0.094167\u003c/td\u003e\n      \u003ctd\u003e-0.029770\u003c/td\u003e\n      \u003ctd\u003e-0.106632\u003c/td\u003e\n      \u003ctd\u003e-0.083285\u003c/td\u003e\n      \u003ctd\u003e-0.015446\u003c/td\u003e\n      \u003ctd\u003e0.082650\u003c/td\u003e\n      \u003ctd\u003e0.146469\u003c/td\u003e\n      \u003ctd\u003e0.079261\u003c/td\u003e\n      \u003ctd\u003e-0.151268\u003c/td\u003e\n      \u003ctd\u003e-0.034119\u003c/td\u003e\n      \u003ctd\u003e-0.079868\u003c/td\u003e\n      \u003ctd\u003e0.038096\u003c/td\u003e\n      \u003ctd\u003e-0.030499\u003c/td\u003e\n    \u003c/tr\u003e\n    \u003ctr\u003e\n      \u003cth\u003e3\u003c/th\u003e\n      \u003ctd\u003e0.032302\u003c/td\u003e\n      \u003ctd\u003e-0.105706\u003c/td\u003e\n      \u003ctd\u003e0.106762\u003c/td\u003e\n      \u003ctd\u003e-0.047324\u003c/td\u003e\n      \u003ctd\u003e-0.047352\u003c/td\u003e\n      \u003ctd\u003e0.049734\u003c/td\u003e\n      \u003ctd\u003e0.018531\u003c/td\u003e\n      \u003ctd\u003e-0.013406\u003c/td\u003e\n      \u003ctd\u003e0.095346\u003c/td\u003e\n      \u003ctd\u003e0.120240\u003c/td\u003e\n      \u003ctd\u003e-0.019261\u003c/td\u003e\n      \u003ctd\u003e-0.051025\u003c/td\u003e\n      \u003ctd\u003e-0.011971\u003c/td\u003e\n      \u003ctd\u003e0.038554\u003c/td\u003e\n      \u003ctd\u003e-0.025485\u003c/td\u003e\n      \u003ctd\u003e-0.173726\u003c/td\u003e\n      \u003ctd\u003e-0.034776\u003c/td\u003e\n      \u003ctd\u003e-0.054923\u003c/td\u003e\n      \u003ctd\u003e-0.091352\u003c/td\u003e\n      \u003ctd\u003e-0.071669\u003c/td\u003e\n      \u003ctd\u003e-0.118178\u003c/td\u003e\n      \u003ctd\u003e0.005528\u003c/td\u003e\n      \u003ctd\u003e0.090752\u003c/td\u003e\n      \u003ctd\u003e0.144697\u003c/td\u003e\n      \u003ctd\u003e0.056229\u003c/td\u003e\n      \u003ctd\u003e-0.124631\u003c/td\u003e\n      \u003ctd\u003e-0.023818\u003c/td\u003e\n      \u003ctd\u003e-0.078577\u003c/td\u003e\n      \u003ctd\u003e0.056451\u003c/td\u003e\n      \u003ctd\u003e-0.046659\u003c/td\u003e\n    \u003c/tr\u003e\n    \u003ctr\u003e\n      \u003cth\u003e4\u003c/th\u003e\n      \u003ctd\u003e0.053543\u003c/td\u003e\n      \u003ctd\u003e-0.130402\u003c/td\u003e\n      \u003ctd\u003e0.071862\u003c/td\u003e\n      \u003ctd\u003e-0.064997\u003c/td\u003e\n      \u003ctd\u003e-0.053978\u003c/td\u003e\n      \u003ctd\u003e0.052225\u003c/td\u003e\n      \u003ctd\u003e0.028025\u003c/td\u003e\n      \u003ctd\u003e-0.015612\u003c/td\u003e\n      \u003ctd\u003e0.079748\u003c/td\u003e\n      \u003ctd\u003e0.110985\u003c/td\u003e\n      \u003ctd\u003e0.002165\u003c/td\u003e\n      \u003ctd\u003e-0.072968\u003c/td\u003e\n      \u003ctd\u003e-0.015516\u003c/td\u003e\n      \u003ctd\u003e0.012539\u003c/td\u003e\n      \u003ctd\u003e-0.025518\u003c/td\u003e\n      \u003ctd\u003e-0.202781\u003c/td\u003e\n      \u003ctd\u003e-0.052847\u003c/td\u003e\n      \u003ctd\u003e-0.029431\u003c/td\u003e\n      \u003ctd\u003e-0.141691\u003c/td\u003e\n      \u003ctd\u003e-0.050691\u003c/td\u003e\n      \u003ctd\u003e-0.139545\u003c/td\u003e\n      \u003ctd\u003e0.016782\u003c/td\u003e\n      \u003ctd\u003e0.104339\u003c/td\u003e\n      \u003ctd\u003e0.143840\u003c/td\u003e\n      \u003ctd\u003e0.043736\u003c/td\u003e\n      \u003ctd\u003e-0.101971\u003c/td\u003e\n      \u003ctd\u003e-0.016788\u003c/td\u003e\n      \u003ctd\u003e-0.076559\u003c/td\u003e\n      \u003ctd\u003e0.067037\u003c/td\u003e\n      \u003ctd\u003e-0.055633\u003c/td\u003e\n    \u003c/tr\u003e\n  \u003c/tbody\u003e\n\u003c/table\u003e\n\u003c/div\u003e"
          },
          "metadata": {}
        }
      ]
    },
    {
      "execution_count": 0,
      "cell_type": "code",
      "metadata": {},
      "source": [
        ""
      ],
      "outputs": []
    },
    {
      "execution_count": 40,
      "cell_type": "code",
      "metadata": {},
      "source": [
        "lastdate \u003d df[\"date\"].max()\nprint(lastdate)\nfor i in range(len(val)):\n    lastdate \u003d lastdate + timedelta(minutes\u003d15)\n    row \u003d dict()\n    \n    row[\"date\"] \u003d lastdate\n    \n    df.append({})"
      ],
      "outputs": [
        {
          "output_type": "stream",
          "text": "2021-08-05 11:45:00+00:00\n",
          "name": "stdout"
        },
        {
          "output_type": "error",
          "ename": "TypeError",
          "evalue": "append() missing 1 required positional argument: \u0027other\u0027",
          "traceback": [
            "\u001b[0;31m---------------------------------------------------------------------------\u001b[0m",
            "\u001b[0;31mTypeError\u001b[0m                                 Traceback (most recent call last)",
            "\u001b[0;32m\u003cipython-input-40-428dd2b5e201\u003e\u001b[0m in \u001b[0;36m\u003cmodule\u003e\u001b[0;34m\u001b[0m\n\u001b[1;32m      3\u001b[0m \u001b[0;32mfor\u001b[0m \u001b[0mi\u001b[0m \u001b[0;32min\u001b[0m \u001b[0mrange\u001b[0m\u001b[0;34m(\u001b[0m\u001b[0mlen\u001b[0m\u001b[0;34m(\u001b[0m\u001b[0mval\u001b[0m\u001b[0;34m)\u001b[0m\u001b[0;34m)\u001b[0m\u001b[0;34m:\u001b[0m\u001b[0;34m\u001b[0m\u001b[0;34m\u001b[0m\u001b[0m\n\u001b[1;32m      4\u001b[0m     \u001b[0mlastdate\u001b[0m \u001b[0;34m\u003d\u001b[0m \u001b[0mlastdate\u001b[0m \u001b[0;34m+\u001b[0m \u001b[0mtimedelta\u001b[0m\u001b[0;34m(\u001b[0m\u001b[0mminutes\u001b[0m\u001b[0;34m\u003d\u001b[0m\u001b[0;36m15\u001b[0m\u001b[0;34m)\u001b[0m\u001b[0;34m\u001b[0m\u001b[0;34m\u001b[0m\u001b[0m\n\u001b[0;32m----\u003e 5\u001b[0;31m     \u001b[0mdf\u001b[0m\u001b[0;34m.\u001b[0m\u001b[0mappend\u001b[0m\u001b[0;34m(\u001b[0m\u001b[0;34m)\u001b[0m\u001b[0;34m\u001b[0m\u001b[0;34m\u001b[0m\u001b[0m\n\u001b[0m",
            "\u001b[0;31mTypeError\u001b[0m: append() missing 1 required positional argument: \u0027other\u0027"
          ]
        }
      ]
    },
    {
      "execution_count": 0,
      "cell_type": "code",
      "metadata": {},
      "source": [
        "# Compute recipe outputs from inputs\n# TODO: Replace this part by your actual code that computes the output, as a Pandas dataframe\n# NB: DSS also supports other kinds of APIs for reading and writing data. Please see doc.\n\nlast_prediction_df \u003d json_prepared_filtered_df # For this sample code, simply copy input to output\n\n\n# Write recipe outputs\nlast_prediction \u003d dataiku.Dataset(\"last_prediction\")\nlast_prediction.write_with_schema(last_prediction_df)"
      ],
      "outputs": []
    }
  ]
}