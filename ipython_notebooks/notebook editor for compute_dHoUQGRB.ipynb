{
  "metadata": {
    "kernelspec": {
      "name": "py-dku-containerized-venv-asl_alphabet-gpu_gke_2",
      "display_name": "Python in gpu_gke_2 (env asl_alphabet)",
      "language": "python"
    },
    "associatedRecipe": "compute_dHoUQGRB",
    "creator": "tony",
    "createdOn": 1629880193841,
    "tags": [
      "recipe-editor"
    ],
    "customFields": {},
    "language_info": {
      "name": "python",
      "version": "3.6.8",
      "mimetype": "text/x-python",
      "codemirror_mode": {
        "name": "ipython",
        "version": 3
      },
      "pygments_lexer": "ipython3",
      "nbconvert_exporter": "python",
      "file_extension": ".py"
    },
    "modifiedBy": "tony"
  },
  "nbformat": 4,
  "nbformat_minor": 1,
  "cells": [
    {
      "execution_count": 1,
      "cell_type": "code",
      "metadata": {},
      "source": [
        "# -*- coding: utf-8 -*-\nimport dataiku\nimport pandas as pd, numpy as np\nfrom dataiku import pandasutils as pdu\n\n# Read recipe inputs\njson_prepared \u003d dataiku.Dataset(\"Json_prepared\")\ndf \u003d json_prepared.get_dataframe()"
      ],
      "outputs": []
    },
    {
      "execution_count": 8,
      "cell_type": "code",
      "metadata": {},
      "source": [
        "import math\n\nimport tensorflow as tf\nfrom tensorflow import keras\nfrom tensorflow.keras import layers\nfrom tensorflow.keras.utils import Sequence\nfrom datetime import timedelta\nfrom sklearn.preprocessing import MinMaxScaler\nfrom sklearn.metrics import mean_squared_error\n\nimport numpy as np\nimport pandas as pd\nimport time\n\nimport os"
      ],
      "outputs": []
    },
    {
      "execution_count": 10,
      "cell_type": "code",
      "metadata": {},
      "source": [
        "# Split into training, validation and test datasets.\n# Since it\u0027s timeseries we should do it by date.\ntest_cutoff_date \u003d df[\u0027date\u0027].max() - timedelta(days\u003d7)\n\ntest_df \u003d df[df[\u0027date\u0027] \u003e test_cutoff_date]\ntrain_df \u003d df[df[\u0027date\u0027] \u003c\u003d test_cutoff_date]\n\n#check out the datasets\nprint(\u0027Test dates: {} to {}\u0027.format(test_df[\u0027date\u0027].min(), test_df[\u0027date\u0027].max()))\nprint(\u0027Train dates: {} to {}\u0027.format(train_df[\u0027date\u0027].min(), train_df[\u0027date\u0027].max()))"
      ],
      "outputs": [
        {
          "output_type": "stream",
          "text": "Test dates: 2021-07-29 13:15:00+00:00 to 2021-08-05 13:00:00+00:00\nTrain dates: 2021-06-25 06:15:00+00:00 to 2021-07-29 13:00:00+00:00\n",
          "name": "stdout"
        }
      ]
    },
    {
      "execution_count": 11,
      "cell_type": "code",
      "metadata": {},
      "source": [
        "train_df  \u003d train_df.set_index(\u0027date\u0027)\ntest_df \u003d test_df.set_index(\u0027date\u0027)"
      ],
      "outputs": []
    },
    {
      "execution_count": 13,
      "cell_type": "code",
      "metadata": {},
      "source": [
        "train \u003d train_df\nscalers\u003d{}\nfor i in train_df.columns:\n    scaler \u003d MinMaxScaler(feature_range\u003d(-1,1))\n    s_s \u003d scaler.fit_transform(train[i].values.reshape(-1,1))\n    s_s\u003dnp.reshape(s_s,len(s_s))\n    scalers[\u0027scaler_\u0027+ i] \u003d scaler\n    train[i]\u003ds_s\ntest \u003d test_df\nfor i in test_df.columns:\n    scaler \u003d scalers[\u0027scaler_\u0027+i]\n    s_s \u003d scaler.transform(test[i].values.reshape(-1,1))\n    s_s\u003dnp.reshape(s_s,len(s_s))\n    scalers[\u0027scaler_\u0027+i] \u003d scaler\n    test[i]\u003ds_s"
      ],
      "outputs": []
    },
    {
      "execution_count": 14,
      "cell_type": "code",
      "metadata": {},
      "source": [
        "def split_series(series, n_past, n_future):\n  #\n  # n_past \u003d\u003d\u003e no of past observations\n  #\n  # n_future \u003d\u003d\u003e no of future observations\n  #\n  X, y \u003d list(), list()\n  for window_start in range(len(series)):\n    past_end \u003d window_start + n_past\n    future_end \u003d past_end + n_future\n    if future_end \u003e len(series):\n      break\n    # slicing the past and future parts of the window\n    past, future \u003d series[window_start:past_end, :], series[past_end:future_end, :]\n    X.append(past)\n    y.append(future)\n  return np.array(X), np.array(y)"
      ],
      "outputs": []
    },
    {
      "execution_count": 15,
      "cell_type": "code",
      "metadata": {},
      "source": [
        "n_past \u003d 10\nn_future \u003d 5\nn_features \u003d 30"
      ],
      "outputs": []
    },
    {
      "execution_count": 16,
      "cell_type": "code",
      "metadata": {},
      "source": [
        "X_train, y_train \u003d split_series(train.values,n_past, n_future)\nX_train \u003d X_train.reshape((X_train.shape[0], X_train.shape[1],n_features))\ny_train \u003d y_train.reshape((y_train.shape[0], y_train.shape[1], n_features))\nX_test, y_test \u003d split_series(test.values,n_past, n_future)\nX_test \u003d X_test.reshape((X_test.shape[0], X_test.shape[1],n_features))\ny_test \u003d y_test.reshape((y_test.shape[0], y_test.shape[1], n_features))"
      ],
      "outputs": []
    },
    {
      "execution_count": 17,
      "cell_type": "code",
      "metadata": {},
      "source": [
        "encoder_inputs \u003d tf.keras.layers.Input(shape\u003d(n_past, n_features))\nencoder_l1 \u003d tf.keras.layers.LSTM(100, return_state\u003dTrue)\nencoder_outputs1 \u003d encoder_l1(encoder_inputs)\n\nencoder_states1 \u003d encoder_outputs1[1:]\n\n#\ndecoder_inputs \u003d tf.keras.layers.RepeatVector(n_future)(encoder_outputs1[0])\n\n#\ndecoder_l1 \u003d tf.keras.layers.LSTM(100, return_sequences\u003dTrue)(decoder_inputs,initial_state \u003d encoder_states1)\ndecoder_outputs1 \u003d tf.keras.layers.TimeDistributed(tf.keras.layers.Dense(n_features))(decoder_l1)\n\n#\nmodel \u003d tf.keras.models.Model(encoder_inputs,decoder_outputs1)\n\n#\nmodel.summary()"
      ],
      "outputs": [
        {
          "output_type": "stream",
          "text": "WARNING:tensorflow:From /opt/dataiku/code-env/lib64/python3.6/site-packages/tensorflow_core/python/ops/resource_variable_ops.py:1630: calling BaseResourceVariable.__init__ (from tensorflow.python.ops.resource_variable_ops) with constraint is deprecated and will be removed in a future version.\nInstructions for updating:\nIf using Keras pass *_constraint arguments to layers.\n",
          "name": "stdout"
        },
        {
          "output_type": "stream",
          "text": "/opt/dataiku/code-env/lib64/python3.6/site-packages/tensorflow_core/python/framework/tensor_util.py:521: DeprecationWarning: tostring() is deprecated. Use tobytes() instead.\n  tensor_proto.tensor_content \u003d nparray.tostring()\n",
          "name": "stderr"
        },
        {
          "output_type": "stream",
          "text": "Model: \"model\"\n__________________________________________________________________________________________________\nLayer (type)                    Output Shape         Param #     Connected to                     \n\u003d\u003d\u003d\u003d\u003d\u003d\u003d\u003d\u003d\u003d\u003d\u003d\u003d\u003d\u003d\u003d\u003d\u003d\u003d\u003d\u003d\u003d\u003d\u003d\u003d\u003d\u003d\u003d\u003d\u003d\u003d\u003d\u003d\u003d\u003d\u003d\u003d\u003d\u003d\u003d\u003d\u003d\u003d\u003d\u003d\u003d\u003d\u003d\u003d\u003d\u003d\u003d\u003d\u003d\u003d\u003d\u003d\u003d\u003d\u003d\u003d\u003d\u003d\u003d\u003d\u003d\u003d\u003d\u003d\u003d\u003d\u003d\u003d\u003d\u003d\u003d\u003d\u003d\u003d\u003d\u003d\u003d\u003d\u003d\u003d\u003d\u003d\u003d\u003d\u003d\u003d\u003d\u003d\u003d\u003d\u003d\u003d\u003d\ninput_1 (InputLayer)            [(None, 10, 30)]     0                                            \n__________________________________________________________________________________________________\nlstm (LSTM)                     [(None, 100), (None, 52400       input_1[0][0]                    \n__________________________________________________________________________________________________\nrepeat_vector (RepeatVector)    (None, 5, 100)       0           lstm[0][0]                       \n__________________________________________________________________________________________________\nlstm_1 (LSTM)                   (None, 5, 100)       80400       repeat_vector[0][0]              \n                                                                 lstm[0][1]                       \n                                                                 lstm[0][2]                       \n__________________________________________________________________________________________________\ntime_distributed (TimeDistribut (None, 5, 30)        3030        lstm_1[0][0]                     \n\u003d\u003d\u003d\u003d\u003d\u003d\u003d\u003d\u003d\u003d\u003d\u003d\u003d\u003d\u003d\u003d\u003d\u003d\u003d\u003d\u003d\u003d\u003d\u003d\u003d\u003d\u003d\u003d\u003d\u003d\u003d\u003d\u003d\u003d\u003d\u003d\u003d\u003d\u003d\u003d\u003d\u003d\u003d\u003d\u003d\u003d\u003d\u003d\u003d\u003d\u003d\u003d\u003d\u003d\u003d\u003d\u003d\u003d\u003d\u003d\u003d\u003d\u003d\u003d\u003d\u003d\u003d\u003d\u003d\u003d\u003d\u003d\u003d\u003d\u003d\u003d\u003d\u003d\u003d\u003d\u003d\u003d\u003d\u003d\u003d\u003d\u003d\u003d\u003d\u003d\u003d\u003d\u003d\u003d\u003d\u003d\u003d\u003d\nTotal params: 135,830\nTrainable params: 135,830\nNon-trainable params: 0\n__________________________________________________________________________________________________\n",
          "name": "stdout"
        }
      ]
    },
    {
      "execution_count": 0,
      "cell_type": "code",
      "metadata": {},
      "source": [
        "reduce_lr \u003d tf.keras.callbacks.LearningRateScheduler(lambda x: 1e-3 * 0.90 ** x)\nmodel.compile(optimizer\u003dtf.keras.optimizers.Adam(), loss\u003dtf.keras.losses.Huber())\nhistory \u003d model.fit(X_train,y_train,epochs\u003d25,validation_data\u003d(X_test,y_test),batch_size\u003d32,verbose\u003d0,callbacks\u003d[reduce_lr])"
      ],
      "outputs": [
        {
          "output_type": "stream",
          "text": "WARNING:tensorflow:From /opt/dataiku/code-env/lib64/python3.6/site-packages/tensorflow_core/python/ops/math_grad.py:1424: where (from tensorflow.python.ops.array_ops) is deprecated and will be removed in a future version.\nInstructions for updating:\nUse tf.where in 2.0, which has the same broadcast rule as np.where\n",
          "name": "stdout"
        },
        {
          "output_type": "stream",
          "text": "/opt/dataiku/code-env/lib64/python3.6/site-packages/tensorflow_core/python/framework/tensor_util.py:521: DeprecationWarning: tostring() is deprecated. Use tobytes() instead.\n  tensor_proto.tensor_content \u003d nparray.tostring()\n/opt/dataiku/code-env/lib64/python3.6/site-packages/tensorflow_core/python/framework/tensor_util.py:521: DeprecationWarning: tostring() is deprecated. Use tobytes() instead.\n  tensor_proto.tensor_content \u003d nparray.tostring()\n",
          "name": "stderr"
        }
      ]
    },
    {
      "execution_count": 0,
      "cell_type": "code",
      "metadata": {},
      "source": [
        "y_pred\u003dmodel.predict(X_test)"
      ],
      "outputs": []
    },
    {
      "execution_count": 0,
      "cell_type": "code",
      "metadata": {},
      "source": [
        "for index,i in enumerate(train_df.columns):\n    scaler \u003d scalers[\u0027scaler_\u0027+i]\n    y_pred[:,:,index]\u003dscaler.inverse_transform(y_pred[:,:,index])\n    y_train[:,:,index]\u003dscaler.inverse_transform(y_train[:,:,index])\n    y_test[:,:,index]\u003dscaler.inverse_transform(y_test[:,:,index])"
      ],
      "outputs": []
    },
    {
      "execution_count": 0,
      "cell_type": "code",
      "metadata": {},
      "source": [
        "# Write recipe outputs\nmodel_forecast \u003d dataiku.Folder(\"dHoUQGRB\")\nmodel_forecast_info \u003d model_forecast.get_info()\n\nmodel_forecast.write_json(\"model_json\", json_config)"
      ],
      "outputs": []
    }
  ]
}