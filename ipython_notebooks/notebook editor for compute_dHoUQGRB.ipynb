{
  "metadata": {
    "kernelspec": {
      "name": "py-dku-containerized-venv-asl_alphabet-gpu_gke_2",
      "display_name": "Python in gpu_gke_2 (env asl_alphabet)",
      "language": "python"
    },
    "associatedRecipe": "compute_dHoUQGRB",
    "creator": "tony",
    "createdOn": 1630334816292,
    "tags": [
      "recipe-editor"
    ],
    "customFields": {},
    "language_info": {
      "name": "python",
      "version": "3.6.8",
      "mimetype": "text/x-python",
      "codemirror_mode": {
        "name": "ipython",
        "version": 3
      },
      "pygments_lexer": "ipython3",
      "nbconvert_exporter": "python",
      "file_extension": ".py"
    },
    "modifiedBy": "tony"
  },
  "nbformat": 4,
  "nbformat_minor": 1,
  "cells": [
    {
      "execution_count": 148,
      "cell_type": "code",
      "metadata": {},
      "source": [
        "# -*- coding: utf-8 -*-\nimport dataiku\nimport pandas as pd, numpy as np\nfrom dataiku import pandasutils as pdu\n\n# Read recipe inputs\njson_prepared \u003d dataiku.Dataset(\"data_distinct\")\ndf \u003d json_prepared.get_dataframe()"
      ],
      "outputs": []
    },
    {
      "execution_count": 149,
      "cell_type": "code",
      "metadata": {},
      "source": [
        "import math\n\nimport tensorflow as tf\nfrom tensorflow import keras\nfrom tensorflow.keras import layers\nfrom tensorflow.keras.utils import Sequence\nfrom datetime import timedelta\nfrom sklearn.preprocessing import MinMaxScaler\nfrom sklearn.metrics import mean_squared_error\n\nimport numpy as np\nimport pandas as pd\nimport time\n\nimport os"
      ],
      "outputs": []
    },
    {
      "cell_type": "markdown",
      "metadata": {},
      "source": [
        "# Split en dataset de Train et Test"
      ]
    },
    {
      "execution_count": 150,
      "cell_type": "code",
      "metadata": {},
      "source": [
        "# Split into training, test datasets.\n# Since it\u0027s timeseries we should do it by date.\ntest_cutoff_date \u003d df[\u0027date\u0027].max() - timedelta(days\u003d7)\n\ntest_df \u003d df[df[\u0027date\u0027] \u003e test_cutoff_date]\ntrain_df \u003d df[df[\u0027date\u0027] \u003c\u003d test_cutoff_date]\n\n#check out the datasets\nprint(\u0027Test dates: {} to {}\u0027.format(test_df[\u0027date\u0027].min(), test_df[\u0027date\u0027].max()))\nprint(\u0027Train dates: {} to {}\u0027.format(train_df[\u0027date\u0027].min(), train_df[\u0027date\u0027].max()))"
      ],
      "outputs": [
        {
          "output_type": "stream",
          "text": "Test dates: 2021-08-18 08:15:00+00:00 to 2021-08-25 08:00:00+00:00\nTrain dates: 2021-06-25 06:15:00+00:00 to 2021-08-18 08:00:00+00:00\n",
          "name": "stdout"
        }
      ]
    },
    {
      "execution_count": 151,
      "cell_type": "code",
      "metadata": {},
      "source": [
        "train_df  \u003d train_df.set_index(\u0027date\u0027)\ntest_df \u003d test_df.set_index(\u0027date\u0027)"
      ],
      "outputs": []
    },
    {
      "execution_count": 152,
      "cell_type": "code",
      "metadata": {},
      "source": [
        "train \u003d train_df\nscalers\u003d{}\nfor i in train_df.columns:\n    scaler \u003d MinMaxScaler(feature_range\u003d(-1,1))\n    s_s \u003d scaler.fit_transform(train[i].values.reshape(-1,1))\n    s_s\u003dnp.reshape(s_s,len(s_s))\n    scalers[\u0027scaler_\u0027+ i] \u003d scaler\n    train[i]\u003ds_s\ntest \u003d test_df\nfor i in test_df.columns:\n    scaler \u003d scalers[\u0027scaler_\u0027+i]\n    s_s \u003d scaler.transform(test[i].values.reshape(-1,1))\n    s_s\u003dnp.reshape(s_s,len(s_s))\n    scalers[\u0027scaler_\u0027+i] \u003d scaler\n    test[i]\u003ds_s"
      ],
      "outputs": []
    },
    {
      "cell_type": "markdown",
      "metadata": {},
      "source": [
        "# Construction des mini-batch"
      ]
    },
    {
      "execution_count": 153,
      "cell_type": "code",
      "metadata": {},
      "source": [
        "def split_series(series, n_past, n_future):\n    #\n    # n_past \u003d\u003d\u003e no of past observations\n    #\n    # n_future \u003d\u003d\u003e no of future observations\n    #\n    X, y \u003d list(), list()\n    for window_start in range(len(series)):\n        past_end \u003d window_start + n_past\n        future_end \u003d past_end + n_future\n        if future_end \u003e len(series):\n            break\n        # slicing the past and future parts of the window\n        past, future \u003d series[window_start:past_end, :], series[past_end:future_end, :]\n        X.append(past)\n        y.append(future)\n    return np.array(X), np.array(y)"
      ],
      "outputs": []
    },
    {
      "execution_count": 154,
      "cell_type": "code",
      "metadata": {},
      "source": [
        "n_past \u003d 10\nn_future \u003d 5\nn_features \u003d 10"
      ],
      "outputs": []
    },
    {
      "execution_count": 155,
      "cell_type": "code",
      "metadata": {},
      "source": [
        "X_train, y_train \u003d split_series(train.values,n_past, n_future)\nX_train \u003d X_train.reshape((X_train.shape[0], X_train.shape[1],n_features))\ny_train \u003d y_train.reshape((y_train.shape[0], y_train.shape[1], n_features))\nX_test, y_test \u003d split_series(test.values,n_past, n_future)\nX_test \u003d X_test.reshape((X_test.shape[0], X_test.shape[1],n_features))\ny_test \u003d y_test.reshape((y_test.shape[0], y_test.shape[1], n_features))"
      ],
      "outputs": []
    },
    {
      "cell_type": "markdown",
      "metadata": {},
      "source": [
        "# Création du modèle de forecasting"
      ]
    },
    {
      "execution_count": 156,
      "cell_type": "code",
      "metadata": {},
      "source": [
        "encoder_inputs \u003d tf.keras.layers.Input(shape\u003d(n_past, n_features))\nencoder \u003d tf.keras.layers.LSTM(100, return_state\u003dTrue)\nencoder_outputs \u003d encoder(encoder_inputs)\n\nencoder_states \u003d encoder_outputs[1:]\n\n#\ndecoder_inputs \u003d tf.keras.layers.RepeatVector(n_future)(encoder_outputs[0])\n\n#\ndecoder \u003d tf.keras.layers.LSTM(100, return_sequences\u003dTrue)(decoder_inputs,initial_state \u003d encoder_states)\ndecoder_outputs \u003d tf.keras.layers.TimeDistributed(tf.keras.layers.Dense(n_features))(decoder)\n\n#\nmodel \u003d tf.keras.models.Model(encoder_inputs,decoder_outputs)\n\n#\nmodel.summary()"
      ],
      "outputs": [
        {
          "output_type": "stream",
          "text": "/opt/dataiku/code-env/lib64/python3.6/site-packages/tensorflow_core/python/framework/tensor_util.py:521: DeprecationWarning: tostring() is deprecated. Use tobytes() instead.\n  tensor_proto.tensor_content \u003d nparray.tostring()\n",
          "name": "stderr"
        },
        {
          "output_type": "stream",
          "text": "Model: \"model_8\"\n__________________________________________________________________________________________________\nLayer (type)                    Output Shape         Param #     Connected to                     \n\u003d\u003d\u003d\u003d\u003d\u003d\u003d\u003d\u003d\u003d\u003d\u003d\u003d\u003d\u003d\u003d\u003d\u003d\u003d\u003d\u003d\u003d\u003d\u003d\u003d\u003d\u003d\u003d\u003d\u003d\u003d\u003d\u003d\u003d\u003d\u003d\u003d\u003d\u003d\u003d\u003d\u003d\u003d\u003d\u003d\u003d\u003d\u003d\u003d\u003d\u003d\u003d\u003d\u003d\u003d\u003d\u003d\u003d\u003d\u003d\u003d\u003d\u003d\u003d\u003d\u003d\u003d\u003d\u003d\u003d\u003d\u003d\u003d\u003d\u003d\u003d\u003d\u003d\u003d\u003d\u003d\u003d\u003d\u003d\u003d\u003d\u003d\u003d\u003d\u003d\u003d\u003d\u003d\u003d\u003d\u003d\u003d\u003d\ninput_9 (InputLayer)            [(None, 10, 10)]     0                                            \n__________________________________________________________________________________________________\nlstm_16 (LSTM)                  [(None, 100), (None, 44400       input_9[0][0]                    \n__________________________________________________________________________________________________\nrepeat_vector_8 (RepeatVector)  (None, 5, 100)       0           lstm_16[0][0]                    \n__________________________________________________________________________________________________\nlstm_17 (LSTM)                  (None, 5, 100)       80400       repeat_vector_8[0][0]            \n                                                                 lstm_16[0][1]                    \n                                                                 lstm_16[0][2]                    \n__________________________________________________________________________________________________\ntime_distributed_8 (TimeDistrib (None, 5, 10)        1010        lstm_17[0][0]                    \n\u003d\u003d\u003d\u003d\u003d\u003d\u003d\u003d\u003d\u003d\u003d\u003d\u003d\u003d\u003d\u003d\u003d\u003d\u003d\u003d\u003d\u003d\u003d\u003d\u003d\u003d\u003d\u003d\u003d\u003d\u003d\u003d\u003d\u003d\u003d\u003d\u003d\u003d\u003d\u003d\u003d\u003d\u003d\u003d\u003d\u003d\u003d\u003d\u003d\u003d\u003d\u003d\u003d\u003d\u003d\u003d\u003d\u003d\u003d\u003d\u003d\u003d\u003d\u003d\u003d\u003d\u003d\u003d\u003d\u003d\u003d\u003d\u003d\u003d\u003d\u003d\u003d\u003d\u003d\u003d\u003d\u003d\u003d\u003d\u003d\u003d\u003d\u003d\u003d\u003d\u003d\u003d\u003d\u003d\u003d\u003d\u003d\u003d\nTotal params: 125,810\nTrainable params: 125,810\nNon-trainable params: 0\n__________________________________________________________________________________________________\n",
          "name": "stdout"
        }
      ]
    },
    {
      "cell_type": "markdown",
      "metadata": {},
      "source": [
        "# Apprentissage du modèle"
      ]
    },
    {
      "execution_count": 157,
      "cell_type": "code",
      "metadata": {},
      "source": [
        "reduce_lr \u003d tf.keras.callbacks.LearningRateScheduler(lambda x: 1e-3 * 0.90 ** x)\nmodel.compile(optimizer\u003dtf.keras.optimizers.Adam(), loss\u003dtf.keras.losses.Huber(), metrics\u003d[tf.keras.metrics.CosineSimilarity(), tf.keras.metrics.MeanAbsoluteError()])\nhistory \u003d model.fit(X_train,y_train,epochs\u003d25,validation_data\u003d(X_test,y_test),batch_size\u003d32,verbose\u003d0,callbacks\u003d[reduce_lr])"
      ],
      "outputs": [
        {
          "output_type": "stream",
          "text": "/opt/dataiku/code-env/lib64/python3.6/site-packages/tensorflow_core/python/framework/tensor_util.py:521: DeprecationWarning: tostring() is deprecated. Use tobytes() instead.\n  tensor_proto.tensor_content \u003d nparray.tostring()\n/opt/dataiku/code-env/lib64/python3.6/site-packages/tensorflow_core/python/framework/tensor_util.py:521: DeprecationWarning: tostring() is deprecated. Use tobytes() instead.\n  tensor_proto.tensor_content \u003d nparray.tostring()\n",
          "name": "stderr"
        }
      ]
    },
    {
      "execution_count": 126,
      "cell_type": "code",
      "metadata": {},
      "source": [
        "print(history.history.keys())\nhistory.history[\"val_mean_absolute_error\"]\n\ndata_metrics \u003d {}\n\nfor key, val in history.history.items():\n    data_metrics[key] \u003d [val[-1]]\n    \nprint(data_metrics)"
      ],
      "outputs": [
        {
          "output_type": "stream",
          "text": "dict_keys([\u0027loss\u0027, \u0027cosine_similarity\u0027, \u0027mean_absolute_error\u0027, \u0027val_loss\u0027, \u0027val_cosine_similarity\u0027, \u0027val_mean_absolute_error\u0027, \u0027lr\u0027])\n{\u0027loss\u0027: [0.0006815310666406317], \u0027cosine_similarity\u0027: [0.99819416], \u0027mean_absolute_error\u0027: [0.011696329], \u0027val_loss\u0027: [0.0001414666823847474], \u0027val_cosine_similarity\u0027: [0.9996849], \u0027val_mean_absolute_error\u0027: [0.013011737], \u0027lr\u0027: [7.976644e-05]}\n",
          "name": "stdout"
        }
      ]
    },
    {
      "execution_count": 127,
      "cell_type": "code",
      "metadata": {},
      "source": [
        "for index,i in enumerate(train_df.columns):\n    scaler \u003d scalers[\u0027scaler_\u0027+i]\n    y_train[:,:,index]\u003dscaler.inverse_transform(y_train[:,:,index])\n    y_test[:,:,index]\u003dscaler.inverse_transform(y_test[:,:,index])"
      ],
      "outputs": []
    },
    {
      "cell_type": "markdown",
      "metadata": {},
      "source": [
        "# Stockage du modèle dans le folder"
      ]
    },
    {
      "execution_count": 138,
      "cell_type": "code",
      "metadata": {},
      "source": [
        "model_json \u003d model.to_json()"
      ],
      "outputs": []
    },
    {
      "execution_count": 145,
      "cell_type": "code",
      "metadata": {},
      "source": [
        "# Write recipe outputs\nmodel_folder \u003d dataiku.Folder(\"dHoUQGRB\")\nmodel_folder_info \u003d model_folder.get_info()\n\nnow \u003d time.time()\n\nmodel_folder.write_json(str(now)+\"/model_json\", model_json)\nmodel_folder.write_json(\"actual/model_json\", model_json)"
      ],
      "outputs": []
    },
    {
      "execution_count": 146,
      "cell_type": "code",
      "metadata": {},
      "source": [
        "model_folder.list_paths_in_partition()"
      ],
      "outputs": [
        {
          "output_type": "execute_result",
          "execution_count": 146,
          "data": {
            "text/plain": "[\u0027/1630336795.623466/model_json\u0027,\n \u0027/1630336889.8789692/model_json\u0027,\n \u0027/1630338570.2025137/model_json\u0027,\n \u0027/1630338600.8940783/model_json\u0027,\n \u0027/1630338765.6485183/model_json\u0027,\n \u0027/1630339593.7991953/model_json\u0027,\n \u0027/1630340919.9128914/model_json\u0027,\n \u0027/actual/model_json\u0027]"
          },
          "metadata": {}
        }
      ]
    },
    {
      "cell_type": "markdown",
      "metadata": {},
      "source": [
        "# Stockage des métriques dans un dataframe"
      ]
    },
    {
      "execution_count": 147,
      "cell_type": "code",
      "metadata": {},
      "source": [
        "metrics \u003d dataiku.Dataset(\"Metrics\")\n\ndata_metrics[\u0027time\u0027] \u003d [now]\ndata_metrics[\"used\"] \u003d [\"True\"]\ndf_metrics \u003d pd.DataFrame(data_metrics)\n\nmetrics.write_with_schema(df_metrics)"
      ],
      "outputs": [
        {
          "output_type": "stream",
          "text": "1 rows successfully written (Y4J0kXXWJJ)\n",
          "name": "stdout"
        }
      ]
    }
  ]
}