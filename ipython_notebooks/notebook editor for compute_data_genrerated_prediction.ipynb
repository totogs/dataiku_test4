{
  "metadata": {
    "kernelspec": {
      "name": "py-dku-containerized-venv-asl_alphabet-gpu_gke_2",
      "display_name": "Python in gpu_gke_2 (env asl_alphabet)",
      "language": "python"
    },
    "associatedRecipe": "compute_data_genrerated_prediction",
    "creator": "tony",
    "createdOn": 1629879969752,
    "tags": [
      "recipe-editor"
    ],
    "customFields": {},
    "language_info": {
      "name": "python",
      "version": "3.6.8",
      "mimetype": "text/x-python",
      "codemirror_mode": {
        "name": "ipython",
        "version": 3
      },
      "pygments_lexer": "ipython3",
      "nbconvert_exporter": "python",
      "file_extension": ".py"
    },
    "modifiedBy": "tony"
  },
  "nbformat": 4,
  "nbformat_minor": 1,
  "cells": [
    {
      "execution_count": 1,
      "cell_type": "code",
      "metadata": {},
      "source": [
        "# -*- coding: utf-8 -*-\nimport dataiku\nimport pandas as pd, numpy as np\nfrom dataiku import pandasutils as pdu\n\n# Read recipe inputs\ndata_generated \u003d dataiku.Dataset(\"data_generated\")\ndata_generated_df \u003d data_generated.get_dataframe()\n\n"
      ],
      "outputs": []
    },
    {
      "execution_count": 2,
      "cell_type": "code",
      "metadata": {},
      "source": [
        "import math\n\nimport tensorflow as tf\nfrom tensorflow import keras\nfrom tensorflow.keras import layers\nfrom tensorflow.keras.utils import Sequence\nfrom datetime import timedelta\nfrom sklearn.preprocessing import MinMaxScaler\nfrom sklearn.metrics import mean_squared_error\n\nimport numpy as np\nimport pandas as pd\nimport time\n\nimport os"
      ],
      "outputs": []
    },
    {
      "execution_count": 13,
      "cell_type": "code",
      "metadata": {},
      "source": [
        "del data_generated_df[\"Timestamp\"]\ndf_cpy  \u003d data_generated_df.set_index(\u0027date\u0027)"
      ],
      "outputs": []
    },
    {
      "execution_count": 7,
      "cell_type": "code",
      "metadata": {},
      "source": [
        "data \u003d df_cpy\nscalers\u003d{}\nfor i in df_cpy.columns:\n    scaler \u003d MinMaxScaler(feature_range\u003d(-1,1))\n    s_s \u003d scaler.fit_transform(data[i].values.reshape(-1,1))\n    s_s\u003dnp.reshape(s_s,len(s_s))\n    scalers[\u0027scaler_\u0027+ i] \u003d scaler\n    data[i]\u003ds_s"
      ],
      "outputs": [
        {
          "output_type": "stream",
          "text": "/opt/dataiku/code-env/lib64/python3.6/site-packages/sklearn/utils/validation.py:595: DataConversionWarning: Data with input dtype int64 was converted to float64 by MinMaxScaler.\n  warnings.warn(msg, DataConversionWarning)\n",
          "name": "stderr"
        }
      ]
    },
    {
      "execution_count": 8,
      "cell_type": "code",
      "metadata": {},
      "source": [
        "data_to_pred \u003d data.values\ndata_to_pred \u003d data_to_pred.reshape((1, data_to_pred.shape[0],data_to_pred.shape[1]))"
      ],
      "outputs": []
    },
    {
      "execution_count": 9,
      "cell_type": "code",
      "metadata": {},
      "source": [
        "handle \u003d dataiku.Folder(\"model_forecast\")\njson_config \u003d handle.read_json(\"model_json\")\nmodel \u003d keras.models.model_from_json(json_config)"
      ],
      "outputs": [
        {
          "output_type": "stream",
          "text": "WARNING:tensorflow:From /opt/dataiku/code-env/lib64/python3.6/site-packages/tensorflow_core/python/ops/init_ops.py:97: calling GlorotUniform.__init__ (from tensorflow.python.ops.init_ops) with dtype is deprecated and will be removed in a future version.\nInstructions for updating:\nCall initializer instance with the dtype argument instead of passing it to the constructor\nWARNING:tensorflow:From /opt/dataiku/code-env/lib64/python3.6/site-packages/tensorflow_core/python/ops/init_ops.py:97: calling Orthogonal.__init__ (from tensorflow.python.ops.init_ops) with dtype is deprecated and will be removed in a future version.\nInstructions for updating:\nCall initializer instance with the dtype argument instead of passing it to the constructor\nWARNING:tensorflow:From /opt/dataiku/code-env/lib64/python3.6/site-packages/tensorflow_core/python/ops/init_ops.py:97: calling Zeros.__init__ (from tensorflow.python.ops.init_ops) with dtype is deprecated and will be removed in a future version.\nInstructions for updating:\nCall initializer instance with the dtype argument instead of passing it to the constructor\nWARNING:tensorflow:From /opt/dataiku/code-env/lib64/python3.6/site-packages/tensorflow_core/python/ops/resource_variable_ops.py:1630: calling BaseResourceVariable.__init__ (from tensorflow.python.ops.resource_variable_ops) with constraint is deprecated and will be removed in a future version.\nInstructions for updating:\nIf using Keras pass *_constraint arguments to layers.\n",
          "name": "stdout"
        },
        {
          "output_type": "stream",
          "text": "/opt/dataiku/code-env/lib64/python3.6/site-packages/tensorflow_core/python/framework/tensor_util.py:521: DeprecationWarning: tostring() is deprecated. Use tobytes() instead.\n  tensor_proto.tensor_content \u003d nparray.tostring()\n",
          "name": "stderr"
        }
      ]
    },
    {
      "execution_count": 10,
      "cell_type": "code",
      "metadata": {},
      "source": [
        "data_pred \u003d model.predict(data_to_pred)"
      ],
      "outputs": [
        {
          "output_type": "error",
          "ename": "ValueError",
          "evalue": "Error when checking input: expected input_1 to have shape (10, 30) but got array with shape (10, 31)",
          "traceback": [
            "\u001b[0;31m---------------------------------------------------------------------------\u001b[0m",
            "\u001b[0;31mValueError\u001b[0m                                Traceback (most recent call last)",
            "\u001b[0;32m\u003cipython-input-10-2fd50e80dc9b\u003e\u001b[0m in \u001b[0;36m\u003cmodule\u003e\u001b[0;34m\u001b[0m\n\u001b[0;32m----\u003e 1\u001b[0;31m \u001b[0mdata_pred\u001b[0m \u001b[0;34m\u003d\u001b[0m \u001b[0mmodel\u001b[0m\u001b[0;34m.\u001b[0m\u001b[0mpredict\u001b[0m\u001b[0;34m(\u001b[0m\u001b[0mdata_to_pred\u001b[0m\u001b[0;34m)\u001b[0m\u001b[0;34m\u001b[0m\u001b[0;34m\u001b[0m\u001b[0m\n\u001b[0m",
            "\u001b[0;32m/opt/dataiku/code-env/lib64/python3.6/site-packages/tensorflow_core/python/keras/engine/training.py\u001b[0m in \u001b[0;36mpredict\u001b[0;34m(self, x, batch_size, verbose, steps, callbacks, max_queue_size, workers, use_multiprocessing)\u001b[0m\n\u001b[1;32m    906\u001b[0m         \u001b[0mmax_queue_size\u001b[0m\u001b[0;34m\u003d\u001b[0m\u001b[0mmax_queue_size\u001b[0m\u001b[0;34m,\u001b[0m\u001b[0;34m\u001b[0m\u001b[0;34m\u001b[0m\u001b[0m\n\u001b[1;32m    907\u001b[0m         \u001b[0mworkers\u001b[0m\u001b[0;34m\u003d\u001b[0m\u001b[0mworkers\u001b[0m\u001b[0;34m,\u001b[0m\u001b[0;34m\u001b[0m\u001b[0;34m\u001b[0m\u001b[0m\n\u001b[0;32m--\u003e 908\u001b[0;31m         use_multiprocessing\u003duse_multiprocessing)\n\u001b[0m\u001b[1;32m    909\u001b[0m \u001b[0;34m\u001b[0m\u001b[0m\n\u001b[1;32m    910\u001b[0m   \u001b[0;32mdef\u001b[0m \u001b[0mreset_metrics\u001b[0m\u001b[0;34m(\u001b[0m\u001b[0mself\u001b[0m\u001b[0;34m)\u001b[0m\u001b[0;34m:\u001b[0m\u001b[0;34m\u001b[0m\u001b[0;34m\u001b[0m\u001b[0m\n",
            "\u001b[0;32m/opt/dataiku/code-env/lib64/python3.6/site-packages/tensorflow_core/python/keras/engine/training_arrays.py\u001b[0m in \u001b[0;36mpredict\u001b[0;34m(self, model, x, batch_size, verbose, steps, callbacks, **kwargs)\u001b[0m\n\u001b[1;32m    714\u001b[0m     \u001b[0mbatch_size\u001b[0m \u001b[0;34m\u003d\u001b[0m \u001b[0mmodel\u001b[0m\u001b[0;34m.\u001b[0m\u001b[0m_validate_or_infer_batch_size\u001b[0m\u001b[0;34m(\u001b[0m\u001b[0mbatch_size\u001b[0m\u001b[0;34m,\u001b[0m \u001b[0msteps\u001b[0m\u001b[0;34m,\u001b[0m \u001b[0mx\u001b[0m\u001b[0;34m)\u001b[0m\u001b[0;34m\u001b[0m\u001b[0;34m\u001b[0m\u001b[0m\n\u001b[1;32m    715\u001b[0m     x, _, _ \u003d model._standardize_user_data(\n\u001b[0;32m--\u003e 716\u001b[0;31m         x, check_steps\u003dTrue, steps_name\u003d\u0027steps\u0027, steps\u003dsteps)\n\u001b[0m\u001b[1;32m    717\u001b[0m     return predict_loop(\n\u001b[1;32m    718\u001b[0m         \u001b[0mmodel\u001b[0m\u001b[0;34m,\u001b[0m\u001b[0;34m\u001b[0m\u001b[0;34m\u001b[0m\u001b[0m\n",
            "\u001b[0;32m/opt/dataiku/code-env/lib64/python3.6/site-packages/tensorflow_core/python/keras/engine/training.py\u001b[0m in \u001b[0;36m_standardize_user_data\u001b[0;34m(self, x, y, sample_weight, class_weight, batch_size, check_steps, steps_name, steps, validation_split, shuffle, extract_tensors_from_dataset)\u001b[0m\n\u001b[1;32m   2469\u001b[0m           \u001b[0mfeed_input_shapes\u001b[0m\u001b[0;34m,\u001b[0m\u001b[0;34m\u001b[0m\u001b[0;34m\u001b[0m\u001b[0m\n\u001b[1;32m   2470\u001b[0m           \u001b[0mcheck_batch_axis\u001b[0m\u001b[0;34m\u003d\u001b[0m\u001b[0;32mFalse\u001b[0m\u001b[0;34m,\u001b[0m  \u001b[0;31m# Don\u0027t enforce the batch size.\u001b[0m\u001b[0;34m\u001b[0m\u001b[0;34m\u001b[0m\u001b[0m\n\u001b[0;32m-\u003e 2471\u001b[0;31m           exception_prefix\u003d\u0027input\u0027)\n\u001b[0m\u001b[1;32m   2472\u001b[0m \u001b[0;34m\u001b[0m\u001b[0m\n\u001b[1;32m   2473\u001b[0m     \u001b[0;31m# Get typespecs for the input data and sanitize it if necessary.\u001b[0m\u001b[0;34m\u001b[0m\u001b[0;34m\u001b[0m\u001b[0;34m\u001b[0m\u001b[0m\n",
            "\u001b[0;32m/opt/dataiku/code-env/lib64/python3.6/site-packages/tensorflow_core/python/keras/engine/training_utils.py\u001b[0m in \u001b[0;36mstandardize_input_data\u001b[0;34m(data, names, shapes, check_batch_axis, exception_prefix)\u001b[0m\n\u001b[1;32m    570\u001b[0m                              \u001b[0;34m\u0027: expected \u0027\u001b[0m \u001b[0;34m+\u001b[0m \u001b[0mnames\u001b[0m\u001b[0;34m[\u001b[0m\u001b[0mi\u001b[0m\u001b[0;34m]\u001b[0m \u001b[0;34m+\u001b[0m \u001b[0;34m\u0027 to have shape \u0027\u001b[0m \u001b[0;34m+\u001b[0m\u001b[0;34m\u001b[0m\u001b[0;34m\u001b[0m\u001b[0m\n\u001b[1;32m    571\u001b[0m                              \u001b[0mstr\u001b[0m\u001b[0;34m(\u001b[0m\u001b[0mshape\u001b[0m\u001b[0;34m)\u001b[0m \u001b[0;34m+\u001b[0m \u001b[0;34m\u0027 but got array with shape \u0027\u001b[0m \u001b[0;34m+\u001b[0m\u001b[0;34m\u001b[0m\u001b[0;34m\u001b[0m\u001b[0m\n\u001b[0;32m--\u003e 572\u001b[0;31m                              str(data_shape))\n\u001b[0m\u001b[1;32m    573\u001b[0m   \u001b[0;32mreturn\u001b[0m \u001b[0mdata\u001b[0m\u001b[0;34m\u001b[0m\u001b[0;34m\u001b[0m\u001b[0m\n\u001b[1;32m    574\u001b[0m \u001b[0;34m\u001b[0m\u001b[0m\n",
            "\u001b[0;31mValueError\u001b[0m: Error when checking input: expected input_1 to have shape (10, 30) but got array with shape (10, 31)"
          ]
        }
      ]
    },
    {
      "execution_count": 11,
      "cell_type": "code",
      "metadata": {},
      "source": [
        "for index,i in enumerate(df_cpy.columns):\n    scaler \u003d scalers[\u0027scaler_\u0027+i]\n    data_pred[:,:,index]\u003dscaler.inverse_transform(data_pred[:,:,index])"
      ],
      "outputs": [
        {
          "output_type": "error",
          "ename": "NameError",
          "evalue": "name \u0027data_pred\u0027 is not defined",
          "traceback": [
            "\u001b[0;31m---------------------------------------------------------------------------\u001b[0m",
            "\u001b[0;31mNameError\u001b[0m                                 Traceback (most recent call last)",
            "\u001b[0;32m\u003cipython-input-11-6922894b961c\u003e\u001b[0m in \u001b[0;36m\u003cmodule\u003e\u001b[0;34m\u001b[0m\n\u001b[1;32m      1\u001b[0m \u001b[0;32mfor\u001b[0m \u001b[0mindex\u001b[0m\u001b[0;34m,\u001b[0m\u001b[0mi\u001b[0m \u001b[0;32min\u001b[0m \u001b[0menumerate\u001b[0m\u001b[0;34m(\u001b[0m\u001b[0mdf_cpy\u001b[0m\u001b[0;34m.\u001b[0m\u001b[0mcolumns\u001b[0m\u001b[0;34m)\u001b[0m\u001b[0;34m:\u001b[0m\u001b[0;34m\u001b[0m\u001b[0;34m\u001b[0m\u001b[0m\n\u001b[1;32m      2\u001b[0m     \u001b[0mscaler\u001b[0m \u001b[0;34m\u003d\u001b[0m \u001b[0mscalers\u001b[0m\u001b[0;34m[\u001b[0m\u001b[0;34m\u0027scaler_\u0027\u001b[0m\u001b[0;34m+\u001b[0m\u001b[0mi\u001b[0m\u001b[0;34m]\u001b[0m\u001b[0;34m\u001b[0m\u001b[0;34m\u001b[0m\u001b[0m\n\u001b[0;32m----\u003e 3\u001b[0;31m     \u001b[0mdata_pred\u001b[0m\u001b[0;34m[\u001b[0m\u001b[0;34m:\u001b[0m\u001b[0;34m,\u001b[0m\u001b[0;34m:\u001b[0m\u001b[0;34m,\u001b[0m\u001b[0mindex\u001b[0m\u001b[0;34m]\u001b[0m\u001b[0;34m\u003d\u001b[0m\u001b[0mscaler\u001b[0m\u001b[0;34m.\u001b[0m\u001b[0minverse_transform\u001b[0m\u001b[0;34m(\u001b[0m\u001b[0mdata_pred\u001b[0m\u001b[0;34m[\u001b[0m\u001b[0;34m:\u001b[0m\u001b[0;34m,\u001b[0m\u001b[0;34m:\u001b[0m\u001b[0;34m,\u001b[0m\u001b[0mindex\u001b[0m\u001b[0;34m]\u001b[0m\u001b[0;34m)\u001b[0m\u001b[0;34m\u001b[0m\u001b[0;34m\u001b[0m\u001b[0m\n\u001b[0m",
            "\u001b[0;31mNameError\u001b[0m: name \u0027data_pred\u0027 is not defined"
          ]
        }
      ]
    },
    {
      "execution_count": 0,
      "cell_type": "code",
      "metadata": {},
      "source": [
        "data_pred \u003d data_pred.squeeze()"
      ],
      "outputs": []
    },
    {
      "execution_count": 0,
      "cell_type": "code",
      "metadata": {},
      "source": [
        "df_pred \u003d pd.DataFrame(data_pred, columns\u003ddf_cpy.columns)"
      ],
      "outputs": []
    },
    {
      "execution_count": 0,
      "cell_type": "code",
      "metadata": {},
      "source": [
        "lastdate \u003d df[\"date\"].max()\nlistdate \u003d []\nfor i in range(len(val)):\n    lastdate \u003d lastdate + timedelta(minutes\u003d15)\n    listdate.append(lastdate)\n    \ndf_pred[\"date\"] \u003d listdate"
      ],
      "outputs": []
    },
    {
      "execution_count": 0,
      "cell_type": "code",
      "metadata": {},
      "source": [
        "# Write recipe outputs\ndata_genrerated_prediction \u003d dataiku.Dataset(\"data_genrerated_prediction\")\ndata_genrerated_prediction.write_with_schema(df_pred)"
      ],
      "outputs": []
    },
    {
      "execution_count": 26,
      "cell_type": "code",
      "metadata": {},
      "source": [
        "import dataikuapi\n\nclient \u003d dataikuapi.DSSClient(\"http://34.142.63.173:11000\", \"eJIRjKPvY6bYTcsdC1e2d1JUmGbrBIF2\")\n\ndss_projects \u003d client.list_project_keys()\nprint(dss_projects)"
      ],
      "outputs": [
        {
          "output_type": "stream",
          "text": "[\u0027ASLALPHABET\u0027, \u0027CREDITCARDFRAUDDETECTION\u0027, \u0027DKU_TUTORIAL_IMAGE_CLASSIFICATION_THE_VISUAL_WAY\u0027, \u0027LOGSANALYSIS\u0027]\n",
          "name": "stdout"
        }
      ]
    },
    {
      "execution_count": 27,
      "cell_type": "code",
      "metadata": {},
      "source": [
        "\n\nproject \u003d client.get_project(\"LOGSANALYSIS\")\n\n# Read recipe inputs\ndata_generated \u003d project.get_dataset(\"data_generated\")"
      ],
      "outputs": []
    },
    {
      "execution_count": 31,
      "cell_type": "code",
      "metadata": {},
      "source": [
        "data_generated.get_as_core_dataset().get_dataframe()"
      ],
      "outputs": [
        {
          "output_type": "execute_result",
          "execution_count": 31,
          "data": {
            "text/plain": "                       date  broker-102/  broker-104/  broker-106/  broker-108/  broker-110/  zook-102/  zook-104/  broker-102/data  broker-104/data  broker-106/data  broker-108/data  broker-110/data  zook-102/data  zook-104/data  broker-101/  broker-103/  broker-105/  broker-107/  broker-109/  zook-101/  zook-103/  zook-105/  broker-101/data  broker-103/data  broker-105/data  broker-107/data  broker-109/data  zook-101/data  zook-103/data  zook-105/data\n0 2021-08-25 10:30:00+00:00    13.878968    12.286661    13.531464    11.483321     7.426455   3.422888   3.473716        80.051149        74.255877        73.992872        67.673485        82.512308       0.250618       0.222704    13.983509    13.192545     9.004598    11.065908     7.846581   3.432616   3.448435   3.121033        80.356122        75.704022        66.847742        67.747304        86.366592       0.290478       0.214987       0.201346\n1 2021-08-25 10:15:00+00:00    13.878987    12.365145    13.530892    11.483326     7.563097   3.423088   3.473949        80.001296        74.314085        73.967484        67.817156        82.583297       0.250618       0.222704    13.983552    13.119092     8.945338    10.987782     7.846591   3.432626   3.448440   3.121042        80.364964        75.660955        66.849678        67.866895        86.501105       0.290478       0.214987       0.201346\n2 2021-08-25 10:00:00+00:00    13.879335    12.365150    13.452938    11.483335     7.494743   3.422978   3.473935        79.856576        74.252812        73.914726        67.866273        82.604449       0.250618       0.222704    14.000411    13.114810     9.082032    10.948824     7.846596   3.432888   3.448526   3.121057        80.328325        75.623843        66.847866        67.891991        86.435144       0.290478       0.214987       0.201346\n3 2021-08-25 09:45:00+00:00    13.761989    12.247784    13.530916    11.405381     7.494747   3.423260   3.473916        79.964993        74.342012        73.813582        67.758075        82.604141       0.250618       0.222704    13.883098    13.153267     9.082032    10.988097     7.846939   3.432950   3.448612   3.121066        80.351475        75.612728        66.742057        67.809923        86.460025       0.290478       0.214987       0.201346\n4 2021-08-25 09:30:00+00:00    13.879035    12.365188    13.492058    11.483688     7.455794   3.423059   3.474112        79.919106        74.265015        73.817755        67.748589        82.815897       0.250618       0.222704    13.922056    13.231608     9.004464    10.987997     7.846624   3.432993   3.448645   3.121076        80.281120        75.634377        66.740680        67.886144        86.505593       0.290478       0.214987       0.201346\n5 2021-08-25 09:15:00+00:00    13.879039    12.267380    13.423584    11.483698     7.573240   3.423760   3.474112        79.908035        74.239338        73.822127        67.602919        82.696222       0.250618       0.222704    13.922104    13.163134     8.965582    11.065961     7.709992   3.432821   3.451297   3.121081        80.232120        75.604229        66.806915        67.834427        86.494110       0.290478       0.214987       0.201346\n6 2021-08-25 09:00:00+00:00    13.879388    12.384416    13.570375    11.405534     7.455870   3.423751   3.474374        79.980129        74.312247        73.927719        67.754696        82.718701       0.250618       0.222704    13.863607    13.172954     8.964896    10.929233     7.710001   3.433475   3.451311   3.121248        80.252980        75.669962        66.798292        67.849045        86.538465       0.290478       0.214987       0.201346\n7 2021-08-25 08:45:00+00:00    13.879063    12.267227    13.492101    11.405500     7.573255   3.423760   3.474383        80.002633        74.230720        73.892358        67.741353        82.670960       0.250618       0.222704    13.844693    13.231469     9.082442    10.911144     7.729440   3.433451   3.451416   3.121248        80.266723        75.646700        66.727455        67.795677        86.462496       0.290478       0.214987       0.201346\n8 2021-08-25 08:30:00+00:00    13.761884    12.384445    13.453052    11.366332     7.572940   3.423956   3.474627        80.063592        74.307682        73.823947        67.783033        82.738510       0.250618       0.222704    13.922251    13.192569     9.003997    11.144125     7.768522   3.433556   3.451406   3.121267        80.368354        75.640119        66.763477        68.001545        86.581014       0.290478       0.214987       0.201346\n9 2021-08-25 08:15:00+00:00    13.727762    12.306319    13.570365    11.332057     7.514343   3.423946   3.474608        79.992337        74.362501        73.792685        67.672994        82.619744       0.250618       0.222704    14.000435    13.173011     9.004188    10.997692     7.846672   3.433642   3.451411   3.121276        80.404808        75.600462        66.672579        67.822422        86.517581       0.290478       0.214987       0.201346",
            "text/html": "\n            \u003cbutton style\u003d\"display:none\" \n            class\u003d\"btn btn-default ipython-export-btn\" \n            id\u003d\"btn-df-cab2aa87-9b02-4cc4-9e55-938172a381ca\" \n            onclick\u003d\"_export_df(\u0027cab2aa87-9b02-4cc4-9e55-938172a381ca\u0027)\"\u003e\n                Export dataframe\n            \u003c/button\u003e\n            \n            \u003cscript\u003e\n                \n                function _check_export_df_possible(dfid,yes_fn,no_fn) {\n                    console.log(\u0027Checking dataframe exportability...\u0027)\n                    if(!IPython || !IPython.notebook || !IPython.notebook.kernel || !IPython.notebook.kernel) {\n                        console.log(\u0027Export is not possible (IPython kernel is not available)\u0027)\n                        if(no_fn) {\n                            no_fn();\n                        }\n                    } else {\n                        var pythonCode \u003d \u0027from dataiku.notebook.export import IPythonExporter;IPythonExporter._check_export_stdout(\"\u0027+dfid+\u0027\")\u0027;\n                        IPython.notebook.kernel.execute(pythonCode,{iopub: {output: function(resp) {\n                            console.info(\"Exportability response\", resp);\n                            var size \u003d /^([0-9]+)x([0-9]+)$/.exec(resp.content.data || resp.content.text)\n                            if(!size) {\n                                console.log(\u0027Export is not possible (dataframe is not in-memory anymore)\u0027)\n                                if(no_fn) {\n                                    no_fn();\n                                }\n                            } else {\n                                console.log(\u0027Export is possible\u0027)\n                                if(yes_fn) {\n                                    yes_fn(1*size[1],1*size[2]);\n                                }\n                            }\n                        }}});\n                    }\n                }\n            \n                function _export_df(dfid) {\n                    \n                    var btn \u003d $(\u0027#btn-df-\u0027+dfid);\n                    var btns \u003d $(\u0027.ipython-export-btn\u0027);\n                    \n                    _check_export_df_possible(dfid,function() {\n                        \n                        window.parent.openExportModalFromIPython(\u0027Pandas dataframe\u0027,function(data) {\n                            btns.prop(\u0027disabled\u0027,true);\n                            btn.text(\u0027Exporting...\u0027);\n                            var command \u003d \u0027from dataiku.notebook.export import IPythonExporter;IPythonExporter._run_export(\"\u0027+dfid+\u0027\",\"\u0027+data.exportId+\u0027\")\u0027;\n                            var callback \u003d {iopub:{output: function(resp) {\n                                console.info(\"CB resp:\", resp);\n                                _check_export_df_possible(dfid,function(rows, cols) {\n                                    $(\u0027#btn-df-\u0027+dfid)\n                                        .css(\u0027display\u0027,\u0027inline-block\u0027)\n                                        .text(\u0027Export this dataframe (\u0027+rows+\u0027 rows, \u0027+cols+\u0027 cols)\u0027)\n                                        .prop(\u0027disabled\u0027,false);\n                                },function() {\n                                    $(\u0027#btn-df-\u0027+dfid).css(\u0027display\u0027,\u0027none\u0027);\n                                });\n                            }}};\n                            IPython.notebook.kernel.execute(command,callback,{silent:false}); // yes, silent now defaults to true. figures.\n                        });\n                    \n                    }, function(){\n                            alert(\u0027Unable to export : the Dataframe object is not loaded in memory\u0027);\n                            btn.css(\u0027display\u0027,\u0027none\u0027);\n                    });\n                    \n                }\n                \n                (function(dfid) {\n                \n                    var retryCount \u003d 10;\n                \n                    function is_valid_websock(s) {\n                        return s \u0026\u0026 s.readyState\u003d\u003d1;\n                    }\n                \n                    function check_conn() {\n                        \n                        if(!IPython || !IPython.notebook) {\n                            // Don\u0027t even try to go further\n                            return;\n                        }\n                        \n                        // Check if IPython is ready\n                        console.info(\"Checking conn ...\")\n                        if(IPython.notebook.kernel\n                        \u0026\u0026 IPython.notebook.kernel\n                        \u0026\u0026 is_valid_websock(IPython.notebook.kernel.ws)\n                        ) {\n                            \n                            _check_export_df_possible(dfid,function(rows, cols) {\n                                $(\u0027#btn-df-\u0027+dfid).css(\u0027display\u0027,\u0027inline-block\u0027);\n                                $(\u0027#btn-df-\u0027+dfid).text(\u0027Export this dataframe (\u0027+rows+\u0027 rows, \u0027+cols+\u0027 cols)\u0027);\n                            });\n                            \n                        } else {\n                            console.info(\"Conditions are not ok\", IPython.notebook.kernel);\n                            \n                            // Retry later\n                            \n                            if(retryCount\u003e0) {\n                                setTimeout(check_conn,500);\n                                retryCount--;\n                            }\n                            \n                        }\n                    };\n                    \n                    setTimeout(check_conn,100);\n                    \n                })(\"cab2aa87-9b02-4cc4-9e55-938172a381ca\");\n                \n            \u003c/script\u003e\n            \n        \u003cdiv\u003e\n\u003cstyle scoped\u003e\n    .dataframe tbody tr th:only-of-type {\n        vertical-align: middle;\n    }\n\n    .dataframe tbody tr th {\n        vertical-align: top;\n    }\n\n    .dataframe thead th {\n        text-align: right;\n    }\n\u003c/style\u003e\n\u003ctable border\u003d\"1\" class\u003d\"dataframe\"\u003e\n  \u003cthead\u003e\n    \u003ctr style\u003d\"text-align: right;\"\u003e\n      \u003cth\u003e\u003c/th\u003e\n      \u003cth\u003edate\u003c/th\u003e\n      \u003cth\u003ebroker-102/\u003c/th\u003e\n      \u003cth\u003ebroker-104/\u003c/th\u003e\n      \u003cth\u003ebroker-106/\u003c/th\u003e\n      \u003cth\u003ebroker-108/\u003c/th\u003e\n      \u003cth\u003ebroker-110/\u003c/th\u003e\n      \u003cth\u003ezook-102/\u003c/th\u003e\n      \u003cth\u003ezook-104/\u003c/th\u003e\n      \u003cth\u003ebroker-102/data\u003c/th\u003e\n      \u003cth\u003ebroker-104/data\u003c/th\u003e\n      \u003cth\u003ebroker-106/data\u003c/th\u003e\n      \u003cth\u003ebroker-108/data\u003c/th\u003e\n      \u003cth\u003ebroker-110/data\u003c/th\u003e\n      \u003cth\u003ezook-102/data\u003c/th\u003e\n      \u003cth\u003ezook-104/data\u003c/th\u003e\n      \u003cth\u003ebroker-101/\u003c/th\u003e\n      \u003cth\u003ebroker-103/\u003c/th\u003e\n      \u003cth\u003ebroker-105/\u003c/th\u003e\n      \u003cth\u003ebroker-107/\u003c/th\u003e\n      \u003cth\u003ebroker-109/\u003c/th\u003e\n      \u003cth\u003ezook-101/\u003c/th\u003e\n      \u003cth\u003ezook-103/\u003c/th\u003e\n      \u003cth\u003ezook-105/\u003c/th\u003e\n      \u003cth\u003ebroker-101/data\u003c/th\u003e\n      \u003cth\u003ebroker-103/data\u003c/th\u003e\n      \u003cth\u003ebroker-105/data\u003c/th\u003e\n      \u003cth\u003ebroker-107/data\u003c/th\u003e\n      \u003cth\u003ebroker-109/data\u003c/th\u003e\n      \u003cth\u003ezook-101/data\u003c/th\u003e\n      \u003cth\u003ezook-103/data\u003c/th\u003e\n      \u003cth\u003ezook-105/data\u003c/th\u003e\n    \u003c/tr\u003e\n  \u003c/thead\u003e\n  \u003ctbody\u003e\n    \u003ctr\u003e\n      \u003cth\u003e0\u003c/th\u003e\n      \u003ctd\u003e2021-08-25 10:30:00+00:00\u003c/td\u003e\n      \u003ctd\u003e13.878968\u003c/td\u003e\n      \u003ctd\u003e12.286661\u003c/td\u003e\n      \u003ctd\u003e13.531464\u003c/td\u003e\n      \u003ctd\u003e11.483321\u003c/td\u003e\n      \u003ctd\u003e7.426455\u003c/td\u003e\n      \u003ctd\u003e3.422888\u003c/td\u003e\n      \u003ctd\u003e3.473716\u003c/td\u003e\n      \u003ctd\u003e80.051149\u003c/td\u003e\n      \u003ctd\u003e74.255877\u003c/td\u003e\n      \u003ctd\u003e73.992872\u003c/td\u003e\n      \u003ctd\u003e67.673485\u003c/td\u003e\n      \u003ctd\u003e82.512308\u003c/td\u003e\n      \u003ctd\u003e0.250618\u003c/td\u003e\n      \u003ctd\u003e0.222704\u003c/td\u003e\n      \u003ctd\u003e13.983509\u003c/td\u003e\n      \u003ctd\u003e13.192545\u003c/td\u003e\n      \u003ctd\u003e9.004598\u003c/td\u003e\n      \u003ctd\u003e11.065908\u003c/td\u003e\n      \u003ctd\u003e7.846581\u003c/td\u003e\n      \u003ctd\u003e3.432616\u003c/td\u003e\n      \u003ctd\u003e3.448435\u003c/td\u003e\n      \u003ctd\u003e3.121033\u003c/td\u003e\n      \u003ctd\u003e80.356122\u003c/td\u003e\n      \u003ctd\u003e75.704022\u003c/td\u003e\n      \u003ctd\u003e66.847742\u003c/td\u003e\n      \u003ctd\u003e67.747304\u003c/td\u003e\n      \u003ctd\u003e86.366592\u003c/td\u003e\n      \u003ctd\u003e0.290478\u003c/td\u003e\n      \u003ctd\u003e0.214987\u003c/td\u003e\n      \u003ctd\u003e0.201346\u003c/td\u003e\n    \u003c/tr\u003e\n    \u003ctr\u003e\n      \u003cth\u003e1\u003c/th\u003e\n      \u003ctd\u003e2021-08-25 10:15:00+00:00\u003c/td\u003e\n      \u003ctd\u003e13.878987\u003c/td\u003e\n      \u003ctd\u003e12.365145\u003c/td\u003e\n      \u003ctd\u003e13.530892\u003c/td\u003e\n      \u003ctd\u003e11.483326\u003c/td\u003e\n      \u003ctd\u003e7.563097\u003c/td\u003e\n      \u003ctd\u003e3.423088\u003c/td\u003e\n      \u003ctd\u003e3.473949\u003c/td\u003e\n      \u003ctd\u003e80.001296\u003c/td\u003e\n      \u003ctd\u003e74.314085\u003c/td\u003e\n      \u003ctd\u003e73.967484\u003c/td\u003e\n      \u003ctd\u003e67.817156\u003c/td\u003e\n      \u003ctd\u003e82.583297\u003c/td\u003e\n      \u003ctd\u003e0.250618\u003c/td\u003e\n      \u003ctd\u003e0.222704\u003c/td\u003e\n      \u003ctd\u003e13.983552\u003c/td\u003e\n      \u003ctd\u003e13.119092\u003c/td\u003e\n      \u003ctd\u003e8.945338\u003c/td\u003e\n      \u003ctd\u003e10.987782\u003c/td\u003e\n      \u003ctd\u003e7.846591\u003c/td\u003e\n      \u003ctd\u003e3.432626\u003c/td\u003e\n      \u003ctd\u003e3.448440\u003c/td\u003e\n      \u003ctd\u003e3.121042\u003c/td\u003e\n      \u003ctd\u003e80.364964\u003c/td\u003e\n      \u003ctd\u003e75.660955\u003c/td\u003e\n      \u003ctd\u003e66.849678\u003c/td\u003e\n      \u003ctd\u003e67.866895\u003c/td\u003e\n      \u003ctd\u003e86.501105\u003c/td\u003e\n      \u003ctd\u003e0.290478\u003c/td\u003e\n      \u003ctd\u003e0.214987\u003c/td\u003e\n      \u003ctd\u003e0.201346\u003c/td\u003e\n    \u003c/tr\u003e\n    \u003ctr\u003e\n      \u003cth\u003e2\u003c/th\u003e\n      \u003ctd\u003e2021-08-25 10:00:00+00:00\u003c/td\u003e\n      \u003ctd\u003e13.879335\u003c/td\u003e\n      \u003ctd\u003e12.365150\u003c/td\u003e\n      \u003ctd\u003e13.452938\u003c/td\u003e\n      \u003ctd\u003e11.483335\u003c/td\u003e\n      \u003ctd\u003e7.494743\u003c/td\u003e\n      \u003ctd\u003e3.422978\u003c/td\u003e\n      \u003ctd\u003e3.473935\u003c/td\u003e\n      \u003ctd\u003e79.856576\u003c/td\u003e\n      \u003ctd\u003e74.252812\u003c/td\u003e\n      \u003ctd\u003e73.914726\u003c/td\u003e\n      \u003ctd\u003e67.866273\u003c/td\u003e\n      \u003ctd\u003e82.604449\u003c/td\u003e\n      \u003ctd\u003e0.250618\u003c/td\u003e\n      \u003ctd\u003e0.222704\u003c/td\u003e\n      \u003ctd\u003e14.000411\u003c/td\u003e\n      \u003ctd\u003e13.114810\u003c/td\u003e\n      \u003ctd\u003e9.082032\u003c/td\u003e\n      \u003ctd\u003e10.948824\u003c/td\u003e\n      \u003ctd\u003e7.846596\u003c/td\u003e\n      \u003ctd\u003e3.432888\u003c/td\u003e\n      \u003ctd\u003e3.448526\u003c/td\u003e\n      \u003ctd\u003e3.121057\u003c/td\u003e\n      \u003ctd\u003e80.328325\u003c/td\u003e\n      \u003ctd\u003e75.623843\u003c/td\u003e\n      \u003ctd\u003e66.847866\u003c/td\u003e\n      \u003ctd\u003e67.891991\u003c/td\u003e\n      \u003ctd\u003e86.435144\u003c/td\u003e\n      \u003ctd\u003e0.290478\u003c/td\u003e\n      \u003ctd\u003e0.214987\u003c/td\u003e\n      \u003ctd\u003e0.201346\u003c/td\u003e\n    \u003c/tr\u003e\n    \u003ctr\u003e\n      \u003cth\u003e3\u003c/th\u003e\n      \u003ctd\u003e2021-08-25 09:45:00+00:00\u003c/td\u003e\n      \u003ctd\u003e13.761989\u003c/td\u003e\n      \u003ctd\u003e12.247784\u003c/td\u003e\n      \u003ctd\u003e13.530916\u003c/td\u003e\n      \u003ctd\u003e11.405381\u003c/td\u003e\n      \u003ctd\u003e7.494747\u003c/td\u003e\n      \u003ctd\u003e3.423260\u003c/td\u003e\n      \u003ctd\u003e3.473916\u003c/td\u003e\n      \u003ctd\u003e79.964993\u003c/td\u003e\n      \u003ctd\u003e74.342012\u003c/td\u003e\n      \u003ctd\u003e73.813582\u003c/td\u003e\n      \u003ctd\u003e67.758075\u003c/td\u003e\n      \u003ctd\u003e82.604141\u003c/td\u003e\n      \u003ctd\u003e0.250618\u003c/td\u003e\n      \u003ctd\u003e0.222704\u003c/td\u003e\n      \u003ctd\u003e13.883098\u003c/td\u003e\n      \u003ctd\u003e13.153267\u003c/td\u003e\n      \u003ctd\u003e9.082032\u003c/td\u003e\n      \u003ctd\u003e10.988097\u003c/td\u003e\n      \u003ctd\u003e7.846939\u003c/td\u003e\n      \u003ctd\u003e3.432950\u003c/td\u003e\n      \u003ctd\u003e3.448612\u003c/td\u003e\n      \u003ctd\u003e3.121066\u003c/td\u003e\n      \u003ctd\u003e80.351475\u003c/td\u003e\n      \u003ctd\u003e75.612728\u003c/td\u003e\n      \u003ctd\u003e66.742057\u003c/td\u003e\n      \u003ctd\u003e67.809923\u003c/td\u003e\n      \u003ctd\u003e86.460025\u003c/td\u003e\n      \u003ctd\u003e0.290478\u003c/td\u003e\n      \u003ctd\u003e0.214987\u003c/td\u003e\n      \u003ctd\u003e0.201346\u003c/td\u003e\n    \u003c/tr\u003e\n    \u003ctr\u003e\n      \u003cth\u003e4\u003c/th\u003e\n      \u003ctd\u003e2021-08-25 09:30:00+00:00\u003c/td\u003e\n      \u003ctd\u003e13.879035\u003c/td\u003e\n      \u003ctd\u003e12.365188\u003c/td\u003e\n      \u003ctd\u003e13.492058\u003c/td\u003e\n      \u003ctd\u003e11.483688\u003c/td\u003e\n      \u003ctd\u003e7.455794\u003c/td\u003e\n      \u003ctd\u003e3.423059\u003c/td\u003e\n      \u003ctd\u003e3.474112\u003c/td\u003e\n      \u003ctd\u003e79.919106\u003c/td\u003e\n      \u003ctd\u003e74.265015\u003c/td\u003e\n      \u003ctd\u003e73.817755\u003c/td\u003e\n      \u003ctd\u003e67.748589\u003c/td\u003e\n      \u003ctd\u003e82.815897\u003c/td\u003e\n      \u003ctd\u003e0.250618\u003c/td\u003e\n      \u003ctd\u003e0.222704\u003c/td\u003e\n      \u003ctd\u003e13.922056\u003c/td\u003e\n      \u003ctd\u003e13.231608\u003c/td\u003e\n      \u003ctd\u003e9.004464\u003c/td\u003e\n      \u003ctd\u003e10.987997\u003c/td\u003e\n      \u003ctd\u003e7.846624\u003c/td\u003e\n      \u003ctd\u003e3.432993\u003c/td\u003e\n      \u003ctd\u003e3.448645\u003c/td\u003e\n      \u003ctd\u003e3.121076\u003c/td\u003e\n      \u003ctd\u003e80.281120\u003c/td\u003e\n      \u003ctd\u003e75.634377\u003c/td\u003e\n      \u003ctd\u003e66.740680\u003c/td\u003e\n      \u003ctd\u003e67.886144\u003c/td\u003e\n      \u003ctd\u003e86.505593\u003c/td\u003e\n      \u003ctd\u003e0.290478\u003c/td\u003e\n      \u003ctd\u003e0.214987\u003c/td\u003e\n      \u003ctd\u003e0.201346\u003c/td\u003e\n    \u003c/tr\u003e\n    \u003ctr\u003e\n      \u003cth\u003e5\u003c/th\u003e\n      \u003ctd\u003e2021-08-25 09:15:00+00:00\u003c/td\u003e\n      \u003ctd\u003e13.879039\u003c/td\u003e\n      \u003ctd\u003e12.267380\u003c/td\u003e\n      \u003ctd\u003e13.423584\u003c/td\u003e\n      \u003ctd\u003e11.483698\u003c/td\u003e\n      \u003ctd\u003e7.573240\u003c/td\u003e\n      \u003ctd\u003e3.423760\u003c/td\u003e\n      \u003ctd\u003e3.474112\u003c/td\u003e\n      \u003ctd\u003e79.908035\u003c/td\u003e\n      \u003ctd\u003e74.239338\u003c/td\u003e\n      \u003ctd\u003e73.822127\u003c/td\u003e\n      \u003ctd\u003e67.602919\u003c/td\u003e\n      \u003ctd\u003e82.696222\u003c/td\u003e\n      \u003ctd\u003e0.250618\u003c/td\u003e\n      \u003ctd\u003e0.222704\u003c/td\u003e\n      \u003ctd\u003e13.922104\u003c/td\u003e\n      \u003ctd\u003e13.163134\u003c/td\u003e\n      \u003ctd\u003e8.965582\u003c/td\u003e\n      \u003ctd\u003e11.065961\u003c/td\u003e\n      \u003ctd\u003e7.709992\u003c/td\u003e\n      \u003ctd\u003e3.432821\u003c/td\u003e\n      \u003ctd\u003e3.451297\u003c/td\u003e\n      \u003ctd\u003e3.121081\u003c/td\u003e\n      \u003ctd\u003e80.232120\u003c/td\u003e\n      \u003ctd\u003e75.604229\u003c/td\u003e\n      \u003ctd\u003e66.806915\u003c/td\u003e\n      \u003ctd\u003e67.834427\u003c/td\u003e\n      \u003ctd\u003e86.494110\u003c/td\u003e\n      \u003ctd\u003e0.290478\u003c/td\u003e\n      \u003ctd\u003e0.214987\u003c/td\u003e\n      \u003ctd\u003e0.201346\u003c/td\u003e\n    \u003c/tr\u003e\n    \u003ctr\u003e\n      \u003cth\u003e6\u003c/th\u003e\n      \u003ctd\u003e2021-08-25 09:00:00+00:00\u003c/td\u003e\n      \u003ctd\u003e13.879388\u003c/td\u003e\n      \u003ctd\u003e12.384416\u003c/td\u003e\n      \u003ctd\u003e13.570375\u003c/td\u003e\n      \u003ctd\u003e11.405534\u003c/td\u003e\n      \u003ctd\u003e7.455870\u003c/td\u003e\n      \u003ctd\u003e3.423751\u003c/td\u003e\n      \u003ctd\u003e3.474374\u003c/td\u003e\n      \u003ctd\u003e79.980129\u003c/td\u003e\n      \u003ctd\u003e74.312247\u003c/td\u003e\n      \u003ctd\u003e73.927719\u003c/td\u003e\n      \u003ctd\u003e67.754696\u003c/td\u003e\n      \u003ctd\u003e82.718701\u003c/td\u003e\n      \u003ctd\u003e0.250618\u003c/td\u003e\n      \u003ctd\u003e0.222704\u003c/td\u003e\n      \u003ctd\u003e13.863607\u003c/td\u003e\n      \u003ctd\u003e13.172954\u003c/td\u003e\n      \u003ctd\u003e8.964896\u003c/td\u003e\n      \u003ctd\u003e10.929233\u003c/td\u003e\n      \u003ctd\u003e7.710001\u003c/td\u003e\n      \u003ctd\u003e3.433475\u003c/td\u003e\n      \u003ctd\u003e3.451311\u003c/td\u003e\n      \u003ctd\u003e3.121248\u003c/td\u003e\n      \u003ctd\u003e80.252980\u003c/td\u003e\n      \u003ctd\u003e75.669962\u003c/td\u003e\n      \u003ctd\u003e66.798292\u003c/td\u003e\n      \u003ctd\u003e67.849045\u003c/td\u003e\n      \u003ctd\u003e86.538465\u003c/td\u003e\n      \u003ctd\u003e0.290478\u003c/td\u003e\n      \u003ctd\u003e0.214987\u003c/td\u003e\n      \u003ctd\u003e0.201346\u003c/td\u003e\n    \u003c/tr\u003e\n    \u003ctr\u003e\n      \u003cth\u003e7\u003c/th\u003e\n      \u003ctd\u003e2021-08-25 08:45:00+00:00\u003c/td\u003e\n      \u003ctd\u003e13.879063\u003c/td\u003e\n      \u003ctd\u003e12.267227\u003c/td\u003e\n      \u003ctd\u003e13.492101\u003c/td\u003e\n      \u003ctd\u003e11.405500\u003c/td\u003e\n      \u003ctd\u003e7.573255\u003c/td\u003e\n      \u003ctd\u003e3.423760\u003c/td\u003e\n      \u003ctd\u003e3.474383\u003c/td\u003e\n      \u003ctd\u003e80.002633\u003c/td\u003e\n      \u003ctd\u003e74.230720\u003c/td\u003e\n      \u003ctd\u003e73.892358\u003c/td\u003e\n      \u003ctd\u003e67.741353\u003c/td\u003e\n      \u003ctd\u003e82.670960\u003c/td\u003e\n      \u003ctd\u003e0.250618\u003c/td\u003e\n      \u003ctd\u003e0.222704\u003c/td\u003e\n      \u003ctd\u003e13.844693\u003c/td\u003e\n      \u003ctd\u003e13.231469\u003c/td\u003e\n      \u003ctd\u003e9.082442\u003c/td\u003e\n      \u003ctd\u003e10.911144\u003c/td\u003e\n      \u003ctd\u003e7.729440\u003c/td\u003e\n      \u003ctd\u003e3.433451\u003c/td\u003e\n      \u003ctd\u003e3.451416\u003c/td\u003e\n      \u003ctd\u003e3.121248\u003c/td\u003e\n      \u003ctd\u003e80.266723\u003c/td\u003e\n      \u003ctd\u003e75.646700\u003c/td\u003e\n      \u003ctd\u003e66.727455\u003c/td\u003e\n      \u003ctd\u003e67.795677\u003c/td\u003e\n      \u003ctd\u003e86.462496\u003c/td\u003e\n      \u003ctd\u003e0.290478\u003c/td\u003e\n      \u003ctd\u003e0.214987\u003c/td\u003e\n      \u003ctd\u003e0.201346\u003c/td\u003e\n    \u003c/tr\u003e\n    \u003ctr\u003e\n      \u003cth\u003e8\u003c/th\u003e\n      \u003ctd\u003e2021-08-25 08:30:00+00:00\u003c/td\u003e\n      \u003ctd\u003e13.761884\u003c/td\u003e\n      \u003ctd\u003e12.384445\u003c/td\u003e\n      \u003ctd\u003e13.453052\u003c/td\u003e\n      \u003ctd\u003e11.366332\u003c/td\u003e\n      \u003ctd\u003e7.572940\u003c/td\u003e\n      \u003ctd\u003e3.423956\u003c/td\u003e\n      \u003ctd\u003e3.474627\u003c/td\u003e\n      \u003ctd\u003e80.063592\u003c/td\u003e\n      \u003ctd\u003e74.307682\u003c/td\u003e\n      \u003ctd\u003e73.823947\u003c/td\u003e\n      \u003ctd\u003e67.783033\u003c/td\u003e\n      \u003ctd\u003e82.738510\u003c/td\u003e\n      \u003ctd\u003e0.250618\u003c/td\u003e\n      \u003ctd\u003e0.222704\u003c/td\u003e\n      \u003ctd\u003e13.922251\u003c/td\u003e\n      \u003ctd\u003e13.192569\u003c/td\u003e\n      \u003ctd\u003e9.003997\u003c/td\u003e\n      \u003ctd\u003e11.144125\u003c/td\u003e\n      \u003ctd\u003e7.768522\u003c/td\u003e\n      \u003ctd\u003e3.433556\u003c/td\u003e\n      \u003ctd\u003e3.451406\u003c/td\u003e\n      \u003ctd\u003e3.121267\u003c/td\u003e\n      \u003ctd\u003e80.368354\u003c/td\u003e\n      \u003ctd\u003e75.640119\u003c/td\u003e\n      \u003ctd\u003e66.763477\u003c/td\u003e\n      \u003ctd\u003e68.001545\u003c/td\u003e\n      \u003ctd\u003e86.581014\u003c/td\u003e\n      \u003ctd\u003e0.290478\u003c/td\u003e\n      \u003ctd\u003e0.214987\u003c/td\u003e\n      \u003ctd\u003e0.201346\u003c/td\u003e\n    \u003c/tr\u003e\n    \u003ctr\u003e\n      \u003cth\u003e9\u003c/th\u003e\n      \u003ctd\u003e2021-08-25 08:15:00+00:00\u003c/td\u003e\n      \u003ctd\u003e13.727762\u003c/td\u003e\n      \u003ctd\u003e12.306319\u003c/td\u003e\n      \u003ctd\u003e13.570365\u003c/td\u003e\n      \u003ctd\u003e11.332057\u003c/td\u003e\n      \u003ctd\u003e7.514343\u003c/td\u003e\n      \u003ctd\u003e3.423946\u003c/td\u003e\n      \u003ctd\u003e3.474608\u003c/td\u003e\n      \u003ctd\u003e79.992337\u003c/td\u003e\n      \u003ctd\u003e74.362501\u003c/td\u003e\n      \u003ctd\u003e73.792685\u003c/td\u003e\n      \u003ctd\u003e67.672994\u003c/td\u003e\n      \u003ctd\u003e82.619744\u003c/td\u003e\n      \u003ctd\u003e0.250618\u003c/td\u003e\n      \u003ctd\u003e0.222704\u003c/td\u003e\n      \u003ctd\u003e14.000435\u003c/td\u003e\n      \u003ctd\u003e13.173011\u003c/td\u003e\n      \u003ctd\u003e9.004188\u003c/td\u003e\n      \u003ctd\u003e10.997692\u003c/td\u003e\n      \u003ctd\u003e7.846672\u003c/td\u003e\n      \u003ctd\u003e3.433642\u003c/td\u003e\n      \u003ctd\u003e3.451411\u003c/td\u003e\n      \u003ctd\u003e3.121276\u003c/td\u003e\n      \u003ctd\u003e80.404808\u003c/td\u003e\n      \u003ctd\u003e75.600462\u003c/td\u003e\n      \u003ctd\u003e66.672579\u003c/td\u003e\n      \u003ctd\u003e67.822422\u003c/td\u003e\n      \u003ctd\u003e86.517581\u003c/td\u003e\n      \u003ctd\u003e0.290478\u003c/td\u003e\n      \u003ctd\u003e0.214987\u003c/td\u003e\n      \u003ctd\u003e0.201346\u003c/td\u003e\n    \u003c/tr\u003e\n  \u003c/tbody\u003e\n\u003c/table\u003e\n\u003c/div\u003e"
          },
          "metadata": {}
        }
      ]
    },
    {
      "execution_count": 0,
      "cell_type": "code",
      "metadata": {},
      "source": [
        ""
      ],
      "outputs": []
    }
  ]
}