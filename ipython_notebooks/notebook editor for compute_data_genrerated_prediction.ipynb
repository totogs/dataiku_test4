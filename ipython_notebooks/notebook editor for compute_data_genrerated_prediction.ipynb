{
  "metadata": {
    "kernelspec": {
      "name": "py-dku-containerized-venv-asl_alphabet-gpu_gke_2",
      "display_name": "Python in gpu_gke_2 (env asl_alphabet)",
      "language": "python"
    },
    "associatedRecipe": "compute_data_genrerated_prediction",
    "creator": "tony",
    "createdOn": 1629879969752,
    "tags": [
      "recipe-editor"
    ],
    "customFields": {},
    "language_info": {
      "name": "python",
      "version": "3.6.8",
      "mimetype": "text/x-python",
      "codemirror_mode": {
        "name": "ipython",
        "version": 3
      },
      "pygments_lexer": "ipython3",
      "nbconvert_exporter": "python",
      "file_extension": ".py"
    },
    "modifiedBy": "tony"
  },
  "nbformat": 4,
  "nbformat_minor": 1,
  "cells": [
    {
      "execution_count": 60,
      "cell_type": "code",
      "metadata": {},
      "source": [
        "# -*- coding: utf-8 -*-\nimport dataiku\nimport pandas as pd, numpy as np\nfrom dataiku import pandasutils as pdu\n\n# Read recipe inputs\ndata_generated \u003d dataiku.Dataset(\"data_generated\")\ndata_generated_df \u003d data_generated.get_dataframe()\n\n"
      ],
      "outputs": []
    },
    {
      "execution_count": 61,
      "cell_type": "code",
      "metadata": {},
      "source": [
        "import math\n\nimport tensorflow as tf\nfrom tensorflow import keras\nfrom tensorflow.keras import layers\nfrom tensorflow.keras.utils import Sequence\nfrom datetime import timedelta\nfrom sklearn.preprocessing import MinMaxScaler\nfrom sklearn.metrics import mean_squared_error\n\nimport numpy as np\nimport pandas as pd\nimport time\n\nimport os"
      ],
      "outputs": []
    },
    {
      "execution_count": 63,
      "cell_type": "code",
      "metadata": {},
      "source": [
        "df_cpy  \u003d data_generated_df.set_index(\u0027date\u0027)"
      ],
      "outputs": []
    },
    {
      "execution_count": 64,
      "cell_type": "code",
      "metadata": {},
      "source": [
        "data \u003d df_cpy\nscalers\u003d{}\nfor i in df_cpy.columns:\n    scaler \u003d MinMaxScaler(feature_range\u003d(-1,1))\n    s_s \u003d scaler.fit_transform(data[i].values.reshape(-1,1))\n    s_s\u003dnp.reshape(s_s,len(s_s))\n    scalers[\u0027scaler_\u0027+ i] \u003d scaler\n    data[i]\u003ds_s"
      ],
      "outputs": []
    },
    {
      "execution_count": 65,
      "cell_type": "code",
      "metadata": {},
      "source": [
        "data_to_pred \u003d data.values\ndata_to_pred \u003d data_to_pred.reshape((1, data_to_pred.shape[0],data_to_pred.shape[1]))"
      ],
      "outputs": []
    },
    {
      "execution_count": 66,
      "cell_type": "code",
      "metadata": {},
      "source": [
        "handle \u003d dataiku.Folder(\"model_forecast\")\njson_config \u003d handle.read_json(\"model_json\")\nmodel \u003d keras.models.model_from_json(json_config)"
      ],
      "outputs": [
        {
          "output_type": "stream",
          "text": "/opt/dataiku/code-env/lib64/python3.6/site-packages/tensorflow_core/python/framework/tensor_util.py:521: DeprecationWarning: tostring() is deprecated. Use tobytes() instead.\n  tensor_proto.tensor_content \u003d nparray.tostring()\n",
          "name": "stderr"
        }
      ]
    },
    {
      "execution_count": 67,
      "cell_type": "code",
      "metadata": {},
      "source": [
        "data_pred \u003d model.predict(data_to_pred)"
      ],
      "outputs": []
    },
    {
      "execution_count": 68,
      "cell_type": "code",
      "metadata": {},
      "source": [
        "for index,i in enumerate(df_cpy.columns):\n    scaler \u003d scalers[\u0027scaler_\u0027+i]\n    data_pred[:,:,index]\u003dscaler.inverse_transform(data_pred[:,:,index])"
      ],
      "outputs": []
    },
    {
      "execution_count": 69,
      "cell_type": "code",
      "metadata": {},
      "source": [
        "data_pred \u003d data_pred.squeeze()"
      ],
      "outputs": []
    },
    {
      "execution_count": 70,
      "cell_type": "code",
      "metadata": {},
      "source": [
        "df_pred \u003d pd.DataFrame(data_pred, columns\u003ddf_cpy.columns)"
      ],
      "outputs": []
    },
    {
      "execution_count": 75,
      "cell_type": "code",
      "metadata": {},
      "source": [
        "lastdate \u003d data_generated_df[\"date\"].max()\nlistdate \u003d []\nfor i in range(len(val)):\n    lastdate \u003d lastdate + timedelta(minutes\u003d15)\n    listdate.append(lastdate)\n    \ndf_pred[\"date\"] \u003d listdate"
      ],
      "outputs": [
        {
          "output_type": "error",
          "ename": "NameError",
          "evalue": "name \u0027val\u0027 is not defined",
          "traceback": [
            "\u001b[0;31m---------------------------------------------------------------------------\u001b[0m",
            "\u001b[0;31mNameError\u001b[0m                                 Traceback (most recent call last)",
            "\u001b[0;32m\u003cipython-input-75-30c061254b3c\u003e\u001b[0m in \u001b[0;36m\u003cmodule\u003e\u001b[0;34m\u001b[0m\n\u001b[1;32m      1\u001b[0m \u001b[0mlastdate\u001b[0m \u001b[0;34m\u003d\u001b[0m \u001b[0mdata_generated_df\u001b[0m\u001b[0;34m[\u001b[0m\u001b[0;34m\"date\"\u001b[0m\u001b[0;34m]\u001b[0m\u001b[0;34m.\u001b[0m\u001b[0mmax\u001b[0m\u001b[0;34m(\u001b[0m\u001b[0;34m)\u001b[0m\u001b[0;34m\u001b[0m\u001b[0;34m\u001b[0m\u001b[0m\n\u001b[1;32m      2\u001b[0m \u001b[0mlistdate\u001b[0m \u001b[0;34m\u003d\u001b[0m \u001b[0;34m[\u001b[0m\u001b[0;34m]\u001b[0m\u001b[0;34m\u001b[0m\u001b[0;34m\u001b[0m\u001b[0m\n\u001b[0;32m----\u003e 3\u001b[0;31m \u001b[0;32mfor\u001b[0m \u001b[0mi\u001b[0m \u001b[0;32min\u001b[0m \u001b[0mrange\u001b[0m\u001b[0;34m(\u001b[0m\u001b[0mlen\u001b[0m\u001b[0;34m(\u001b[0m\u001b[0mval\u001b[0m\u001b[0;34m)\u001b[0m\u001b[0;34m)\u001b[0m\u001b[0;34m:\u001b[0m\u001b[0;34m\u001b[0m\u001b[0;34m\u001b[0m\u001b[0m\n\u001b[0m\u001b[1;32m      4\u001b[0m     \u001b[0mlastdate\u001b[0m \u001b[0;34m\u003d\u001b[0m \u001b[0mlastdate\u001b[0m \u001b[0;34m+\u001b[0m \u001b[0mtimedelta\u001b[0m\u001b[0;34m(\u001b[0m\u001b[0mminutes\u001b[0m\u001b[0;34m\u003d\u001b[0m\u001b[0;36m15\u001b[0m\u001b[0;34m)\u001b[0m\u001b[0;34m\u001b[0m\u001b[0;34m\u001b[0m\u001b[0m\n\u001b[1;32m      5\u001b[0m     \u001b[0mlistdate\u001b[0m\u001b[0;34m.\u001b[0m\u001b[0mappend\u001b[0m\u001b[0;34m(\u001b[0m\u001b[0mlastdate\u001b[0m\u001b[0;34m)\u001b[0m\u001b[0;34m\u001b[0m\u001b[0;34m\u001b[0m\u001b[0m\n",
            "\u001b[0;31mNameError\u001b[0m: name \u0027val\u0027 is not defined"
          ]
        }
      ]
    },
    {
      "execution_count": 0,
      "cell_type": "code",
      "metadata": {},
      "source": [
        "import json\nresult \u003d df_pred.to_json(orient\u003d\"index\")\nparsed \u003d json.loads(result)"
      ],
      "outputs": []
    },
    {
      "execution_count": 0,
      "cell_type": "code",
      "metadata": {},
      "source": [
        "# Write recipe outputs\ndata_genrerated_prediction \u003d dataiku.Dataset(\"data_genrerated_prediction\")\ndata_genrerated_prediction.write_with_schema(df_pred)"
      ],
      "outputs": []
    },
    {
      "execution_count": 0,
      "cell_type": "code",
      "metadata": {},
      "source": [
        ""
      ],
      "outputs": []
    }
  ]
}