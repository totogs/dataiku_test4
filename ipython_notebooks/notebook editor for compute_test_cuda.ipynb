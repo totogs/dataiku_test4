{
  "metadata": {
    "kernelspec": {
      "name": "py-dku-containerized-venv-plugin_timeseries-forecast-gpu-cuda100_managed-gpu_gke",
      "display_name": "Python in gpu_gke (env plugin_timeseries-forecast-gpu-cuda100_managed)",
      "language": "python"
    },
    "associatedRecipe": "compute_test_cuda",
    "creator": "tony",
    "createdOn": 1629384958988,
    "tags": [
      "recipe-editor"
    ],
    "customFields": {},
    "language_info": {
      "name": "python",
      "version": "3.6.8",
      "mimetype": "text/x-python",
      "codemirror_mode": {
        "name": "ipython",
        "version": 3
      },
      "pygments_lexer": "ipython3",
      "nbconvert_exporter": "python",
      "file_extension": ".py"
    },
    "modifiedBy": "tony"
  },
  "nbformat": 4,
  "nbformat_minor": 1,
  "cells": [
    {
      "execution_count": 1,
      "cell_type": "code",
      "metadata": {},
      "source": [
        "# -*- coding: utf-8 -*-\nimport dataiku\nimport pandas as pd, numpy as np\nfrom dataiku import pandasutils as pdu\n\n# Read recipe inputs\njson_prepared \u003d dataiku.Dataset(\"Json_prepared\")\njson_prepared_df \u003d json_prepared.get_dataframe()\n\n\n"
      ],
      "outputs": []
    },
    {
      "execution_count": 0,
      "cell_type": "code",
      "metadata": {},
      "source": [
        "# Compute recipe outputs from inputs\n# TODO: Replace this part by your actual code that computes the output, as a Pandas dataframe\n# NB: DSS also supports other kinds of APIs for reading and writing data. Please see doc.\n\ntest_cuda_df \u003d json_prepared_df # For this sample code, simply copy input to output\n\n\n# Write recipe outputs\ntest_cuda \u003d dataiku.Dataset(\"test_cuda\")\ntest_cuda.write_with_schema(test_cuda_df)"
      ],
      "outputs": []
    }
  ]
}